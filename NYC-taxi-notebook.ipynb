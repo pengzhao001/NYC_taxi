{
 "cells": [
  {
   "cell_type": "markdown",
   "metadata": {},
   "source": [
    "<h1><center>NYC Taxi Code Challenge</center></h1>"
   ]
  },
  {
   "cell_type": "markdown",
   "metadata": {},
   "source": [
    "**Instruction manual**\n",
    "\n",
    "1. This work was done in Python 3 with several packages, including Pandas, Scikit-learn, statsmodels, geopy, xgboost, pickle, seaborn. Please install these packages by **pip install xxxx** before executing the code blocks.\n",
    "2. Please put the data file and this jupyter notebook in the same directory. \n",
    "3. The hyperparameter tuning procedure for the XGBoost regression model took more than **10 hours** on my laptop (macOS 10.14.1, 2.7 GHz i7, 16 GB LPDDR3 Memory, Radeon Pro 455 2G GPU). Please skip this part if you want to do a quick test of the codes. \n",
    "4. The pickle file of the optimized XGBoost regression model (\"xgb_opt.pkl\") is provided along with this jupyter notebook. Please use the following way to load the pickled model. "
   ]
  },
  {
   "cell_type": "code",
   "execution_count": null,
   "metadata": {},
   "outputs": [],
   "source": [
    "import pickle\n",
    "with open(\"xgb_opt.pkl\", \"rb\") as f:\n",
    "    loaded_model = pickle.load(f)"
   ]
  },
  {
   "cell_type": "markdown",
   "metadata": {},
   "source": [
    "**Import libraries and settings**"
   ]
  },
  {
   "cell_type": "code",
   "execution_count": 158,
   "metadata": {},
   "outputs": [],
   "source": [
    "import pandas as pd\n",
    "import numpy as np\n",
    "import math\n",
    "import pickle\n",
    "import matplotlib.pyplot as plt\n",
    "import seaborn as sns\n",
    "from geopy.distance import geodesic\n",
    "from datetime import datetime, timedelta\n",
    "from statsmodels.stats.outliers_influence import variance_inflation_factor  \n",
    "from statsmodels.stats.multicomp import pairwise_tukeyhsd\n",
    "from statsmodels.formula.api import ols\n",
    "import statsmodels.api as sm\n",
    "from sklearn.metrics import mean_squared_error\n",
    "from sklearn.model_selection import train_test_split, GridSearchCV\n",
    "import xgboost\n",
    "from xgboost import plot_importance, XGBRegressor\n",
    "import warnings\n",
    "warnings.filterwarnings('ignore')\n",
    "%matplotlib inline\n",
    "\n",
    "# The following settings will ensure all columns of dataframes will be displayed\n",
    "pd.set_option('display.max_columns', 1000)\n",
    "pd.set_option('display.width', 1000)"
   ]
  },
  {
   "cell_type": "markdown",
   "metadata": {},
   "source": [
    "<h1><center>Question 1</center></h1>"
   ]
  },
  {
   "cell_type": "markdown",
   "metadata": {},
   "source": [
    "**Summary:** \n",
    "\n",
    "There are 1494926 rows and 21 columns in the original data set."
   ]
  },
  {
   "cell_type": "markdown",
   "metadata": {},
   "source": [
    "### 1.1  Programmatically download and load the Green Taxi trip data for September 2015 into a Pandas dataframe"
   ]
  },
  {
   "cell_type": "code",
   "execution_count": 2,
   "metadata": {},
   "outputs": [
    {
     "data": {
      "text/html": [
       "<div>\n",
       "<table border=\"1\" class=\"dataframe\">\n",
       "  <thead>\n",
       "    <tr style=\"text-align: right;\">\n",
       "      <th></th>\n",
       "      <th>VendorID</th>\n",
       "      <th>lpep_pickup_datetime</th>\n",
       "      <th>Lpep_dropoff_datetime</th>\n",
       "      <th>Store_and_fwd_flag</th>\n",
       "      <th>RateCodeID</th>\n",
       "      <th>Pickup_longitude</th>\n",
       "      <th>Pickup_latitude</th>\n",
       "      <th>Dropoff_longitude</th>\n",
       "      <th>Dropoff_latitude</th>\n",
       "      <th>Passenger_count</th>\n",
       "      <th>Trip_distance</th>\n",
       "      <th>Fare_amount</th>\n",
       "      <th>Extra</th>\n",
       "      <th>MTA_tax</th>\n",
       "      <th>Tip_amount</th>\n",
       "      <th>Tolls_amount</th>\n",
       "      <th>Ehail_fee</th>\n",
       "      <th>improvement_surcharge</th>\n",
       "      <th>Total_amount</th>\n",
       "      <th>Payment_type</th>\n",
       "      <th>Trip_type</th>\n",
       "    </tr>\n",
       "  </thead>\n",
       "  <tbody>\n",
       "    <tr>\n",
       "      <th>0</th>\n",
       "      <td>2</td>\n",
       "      <td>2015-09-01 00:02:34</td>\n",
       "      <td>2015-09-01 00:02:38</td>\n",
       "      <td>N</td>\n",
       "      <td>5</td>\n",
       "      <td>-73.979485</td>\n",
       "      <td>40.684956</td>\n",
       "      <td>-73.979431</td>\n",
       "      <td>40.685020</td>\n",
       "      <td>1</td>\n",
       "      <td>0.00</td>\n",
       "      <td>7.8</td>\n",
       "      <td>0.0</td>\n",
       "      <td>0.0</td>\n",
       "      <td>1.95</td>\n",
       "      <td>0.0</td>\n",
       "      <td>NaN</td>\n",
       "      <td>0.0</td>\n",
       "      <td>9.75</td>\n",
       "      <td>1</td>\n",
       "      <td>2.0</td>\n",
       "    </tr>\n",
       "    <tr>\n",
       "      <th>1</th>\n",
       "      <td>2</td>\n",
       "      <td>2015-09-01 00:04:20</td>\n",
       "      <td>2015-09-01 00:04:24</td>\n",
       "      <td>N</td>\n",
       "      <td>5</td>\n",
       "      <td>-74.010796</td>\n",
       "      <td>40.912216</td>\n",
       "      <td>-74.010780</td>\n",
       "      <td>40.912212</td>\n",
       "      <td>1</td>\n",
       "      <td>0.00</td>\n",
       "      <td>45.0</td>\n",
       "      <td>0.0</td>\n",
       "      <td>0.0</td>\n",
       "      <td>0.00</td>\n",
       "      <td>0.0</td>\n",
       "      <td>NaN</td>\n",
       "      <td>0.0</td>\n",
       "      <td>45.00</td>\n",
       "      <td>1</td>\n",
       "      <td>2.0</td>\n",
       "    </tr>\n",
       "    <tr>\n",
       "      <th>2</th>\n",
       "      <td>2</td>\n",
       "      <td>2015-09-01 00:01:50</td>\n",
       "      <td>2015-09-01 00:04:24</td>\n",
       "      <td>N</td>\n",
       "      <td>1</td>\n",
       "      <td>-73.921410</td>\n",
       "      <td>40.766708</td>\n",
       "      <td>-73.914413</td>\n",
       "      <td>40.764687</td>\n",
       "      <td>1</td>\n",
       "      <td>0.59</td>\n",
       "      <td>4.0</td>\n",
       "      <td>0.5</td>\n",
       "      <td>0.5</td>\n",
       "      <td>0.50</td>\n",
       "      <td>0.0</td>\n",
       "      <td>NaN</td>\n",
       "      <td>0.3</td>\n",
       "      <td>5.80</td>\n",
       "      <td>1</td>\n",
       "      <td>1.0</td>\n",
       "    </tr>\n",
       "    <tr>\n",
       "      <th>3</th>\n",
       "      <td>2</td>\n",
       "      <td>2015-09-01 00:02:36</td>\n",
       "      <td>2015-09-01 00:06:42</td>\n",
       "      <td>N</td>\n",
       "      <td>1</td>\n",
       "      <td>-73.921387</td>\n",
       "      <td>40.766678</td>\n",
       "      <td>-73.931427</td>\n",
       "      <td>40.771584</td>\n",
       "      <td>1</td>\n",
       "      <td>0.74</td>\n",
       "      <td>5.0</td>\n",
       "      <td>0.5</td>\n",
       "      <td>0.5</td>\n",
       "      <td>0.00</td>\n",
       "      <td>0.0</td>\n",
       "      <td>NaN</td>\n",
       "      <td>0.3</td>\n",
       "      <td>6.30</td>\n",
       "      <td>2</td>\n",
       "      <td>1.0</td>\n",
       "    </tr>\n",
       "    <tr>\n",
       "      <th>4</th>\n",
       "      <td>2</td>\n",
       "      <td>2015-09-01 00:00:14</td>\n",
       "      <td>2015-09-01 00:04:20</td>\n",
       "      <td>N</td>\n",
       "      <td>1</td>\n",
       "      <td>-73.955482</td>\n",
       "      <td>40.714046</td>\n",
       "      <td>-73.944412</td>\n",
       "      <td>40.714729</td>\n",
       "      <td>1</td>\n",
       "      <td>0.61</td>\n",
       "      <td>5.0</td>\n",
       "      <td>0.5</td>\n",
       "      <td>0.5</td>\n",
       "      <td>0.00</td>\n",
       "      <td>0.0</td>\n",
       "      <td>NaN</td>\n",
       "      <td>0.3</td>\n",
       "      <td>6.30</td>\n",
       "      <td>2</td>\n",
       "      <td>1.0</td>\n",
       "    </tr>\n",
       "  </tbody>\n",
       "</table>\n",
       "</div>"
      ],
      "text/plain": [
       "   VendorID lpep_pickup_datetime Lpep_dropoff_datetime Store_and_fwd_flag  RateCodeID  Pickup_longitude  Pickup_latitude  Dropoff_longitude  Dropoff_latitude  Passenger_count  Trip_distance  Fare_amount  Extra  MTA_tax  Tip_amount  Tolls_amount  Ehail_fee  improvement_surcharge  Total_amount  Payment_type  Trip_type \n",
       "0         2  2015-09-01 00:02:34   2015-09-01 00:02:38                  N           5        -73.979485        40.684956         -73.979431         40.685020                1           0.00          7.8    0.0      0.0        1.95           0.0        NaN                    0.0          9.75             1         2.0\n",
       "1         2  2015-09-01 00:04:20   2015-09-01 00:04:24                  N           5        -74.010796        40.912216         -74.010780         40.912212                1           0.00         45.0    0.0      0.0        0.00           0.0        NaN                    0.0         45.00             1         2.0\n",
       "2         2  2015-09-01 00:01:50   2015-09-01 00:04:24                  N           1        -73.921410        40.766708         -73.914413         40.764687                1           0.59          4.0    0.5      0.5        0.50           0.0        NaN                    0.3          5.80             1         1.0\n",
       "3         2  2015-09-01 00:02:36   2015-09-01 00:06:42                  N           1        -73.921387        40.766678         -73.931427         40.771584                1           0.74          5.0    0.5      0.5        0.00           0.0        NaN                    0.3          6.30             2         1.0\n",
       "4         2  2015-09-01 00:00:14   2015-09-01 00:04:20                  N           1        -73.955482        40.714046         -73.944412         40.714729                1           0.61          5.0    0.5      0.5        0.00           0.0        NaN                    0.3          6.30             2         1.0"
      ]
     },
     "execution_count": 2,
     "metadata": {},
     "output_type": "execute_result"
    }
   ],
   "source": [
    "url = \"https://s3.amazonaws.com/nyc-tlc/trip+data/green_tripdata_2015-09.csv\"\n",
    "raw_data = pd.read_csv(url)\n",
    "raw_data.head()"
   ]
  },
  {
   "cell_type": "markdown",
   "metadata": {},
   "source": [
    "### 1.2 Report the numbers of rows and columns"
   ]
  },
  {
   "cell_type": "code",
   "execution_count": 3,
   "metadata": {},
   "outputs": [
    {
     "name": "stdout",
     "output_type": "stream",
     "text": [
      "There are 1494926 rows and 21 columns in the original data set.\n"
     ]
    }
   ],
   "source": [
    "print(\"There are %s rows and %s columns in the original data set.\" % raw_data.shape)"
   ]
  },
  {
   "cell_type": "markdown",
   "metadata": {},
   "source": [
    "<h1><center>Question 2</center></h1>"
   ]
  },
  {
   "cell_type": "markdown",
   "metadata": {},
   "source": [
    "**Summary:**\n",
    "\n",
    "1. The trip distance data contains outliers. The trips with 0 distance or with distance longer than 100 miles were removed for the subsequent analysis. \n",
    "2. The trip distance follows a lognormal distribution because the logrithm of trip distance follows a normal distribution. "
   ]
  },
  {
   "cell_type": "markdown",
   "metadata": {},
   "source": [
    "### 2.1 Plot a histogram of the number of the trip distance (“Trip Distance”)"
   ]
  },
  {
   "cell_type": "markdown",
   "metadata": {},
   "source": [
    "The following historgram shows the frequency of the trip distance. It can be seen that most trips have a distance less than 50 miles. In very extreme cases, the trip distance can be as long as about 600 miles. "
   ]
  },
  {
   "cell_type": "code",
   "execution_count": 4,
   "metadata": {},
   "outputs": [
    {
     "data": {
      "image/png": "[encoded data removed]",
      "text/plain": [
       "<matplotlib.figure.Figure at 0x132571c88>"
      ]
     },
     "metadata": {},
     "output_type": "display_data"
    }
   ],
   "source": [
    "plt.figure(figsize=(10, 6))\n",
    "plt.hist(raw_data[\"Trip_distance\"], alpha=0.7, bins=100)\n",
    "plt.title(\"Histogram of trip distance (with outliers)\", fontsize=15)\n",
    "plt.xlabel(\"Trip Distance (miles)\", fontsize=15)\n",
    "plt.ylabel(\"Frequency\", fontsize=15)\n",
    "plt.xticks(fontsize=15)\n",
    "plt.yticks(fontsize=15)\n",
    "plt.show()"
   ]
  },
  {
   "cell_type": "markdown",
   "metadata": {},
   "source": [
    "Remove trip distances of 0 or longer than 100 miles and plot the histogram again."
   ]
  },
  {
   "cell_type": "code",
   "execution_count": 5,
   "metadata": {},
   "outputs": [
    {
     "data": {
      "image/png": "[encoded data removed]",
      "text/plain": [
       "<matplotlib.figure.Figure at 0x117d83400>"
      ]
     },
     "metadata": {},
     "output_type": "display_data"
    }
   ],
   "source": [
    "plt.figure(figsize=(10, 6))\n",
    "plt.hist(raw_data[(raw_data[\"Trip_distance\"]<=100)&(raw_data[\"Trip_distance\"]>0)][\"Trip_distance\"], alpha=0.7, bins=100)\n",
    "plt.title(\"Histogram of trip distance (without outliers)\", fontsize=15)\n",
    "plt.xlabel(\"Trip Distance (miles)\", fontsize=15)\n",
    "plt.ylabel(\"Frequency\", fontsize=15)\n",
    "plt.xticks(fontsize=15)\n",
    "plt.yticks(fontsize=15)\n",
    "plt.show()"
   ]
  },
  {
   "cell_type": "markdown",
   "metadata": {},
   "source": [
    "### 2.2 Report any structure you find and any hypotheses you have about that structure."
   ]
  },
  {
   "cell_type": "markdown",
   "metadata": {},
   "source": [
    "The distribution is right-skewed with median smaller than mean. It looks similar to the log normal distribution. To prove this hypothesis, take the logrithm of trip distance and see if it follows normal distribution.  "
   ]
  },
  {
   "cell_type": "code",
   "execution_count": 6,
   "metadata": {},
   "outputs": [
    {
     "data": {
      "image/png": "[encoded data removed]",
      "text/plain": [
       "<matplotlib.figure.Figure at 0x117dc5320>"
      ]
     },
     "metadata": {},
     "output_type": "display_data"
    }
   ],
   "source": [
    "log_distance = np.log(raw_data[(raw_data[\"Trip_distance\"]<=100)&(raw_data[\"Trip_distance\"]>0)][\"Trip_distance\"].values)\n",
    "\n",
    "plt.figure(figsize=(10, 6))\n",
    "plt.hist(log_distance, alpha=0.7, bins=100)\n",
    "plt.title(\"Histogram of log trip distance (without outliers)\", fontsize=15)\n",
    "plt.xlabel(\"Log trip distance (miles)\", fontsize=15)\n",
    "plt.ylabel(\"Frequency\", fontsize=15)\n",
    "plt.xticks(fontsize=15)\n",
    "plt.yticks(fontsize=15)\n",
    "plt.show()"
   ]
  },
  {
   "cell_type": "markdown",
   "metadata": {},
   "source": [
    "It can be seen that the log transformed trip distance follows a normal distribution with a mean around 1.3. Therefore, the original trip distance follows a <font color=red>**lognormal distribution**</font>. "
   ]
  },
  {
   "cell_type": "markdown",
   "metadata": {},
   "source": [
    "<h1><center>Question 3</center></h1>"
   ]
  },
  {
   "cell_type": "markdown",
   "metadata": {},
   "source": [
    "**Summary:**\n",
    "\n",
    "1. The mean trip distance is always longer than the median distance because the distribution of the trip distance is right-skewed.\n",
    "2. The mean and median trip distance reach a peak at 5-6am and then decrease until hitting a local minima at 8 am. A possible reason is that these people take taxi to work or school in the morning. To avoid being late due to the rush hour, they took the taxi as early as 5-6 am. After they get off work or school, they chose a cheaper way to go back home, such as taking bus or subway.\n",
    "3. The result of the data with and without outliers are very similar. The number of outliers are relatively low and they will not seriously influence the data.\n",
    "4. The trips originating from and terminating to the airports were identified by comparing the latitude and longitude of the pickup/dropoff locations and the airports' locations. <font color=red>**Assuming the 3 airports have a round shape**</font>, if the distance between the pickup/dropoff location and the airport center is shorter than the radius of the airport, the pickup/dropoff will be in the airport. A buffer of 0.25 miles was added to the airport radius to account for the fact that airports are not cicle. <font color=red>**If I have enough time, I will use the real shape of the aiports to get a more accuracte result. To do this, use the coordinates of the airport's vertices points to construct a [polygon](https://shapely.readthedocs.io/en/stable/manual.html#polygons) and use the internal method to determine if the pickup/dropoff is in an airport.**</font> \n",
    "\n",
    "5. There are 5 major findings by computing the counts, average fare and average distance of the dropoffs/pickups in the 3 airports.\n",
    "<font color=red>**(1)**</font> There are more dropoffs than pickups in all of the 3 airports. <font color=red>**(2)**</font> It is also very suprising that LGA has the most number of dropoffs and pickups even though it is the smallest airport among the 3.\n",
    "<font color=red>**(3)**</font> The average fares of the EWR pickups and dropoffs are the highest. The average fares of JFK pickups and dropoffs are medium. The average fares of LGA pickups and dropoffs are the lowest.\n",
    "<font color=red>**(4)**</font> The average trip distance for dropoffs is longer than pickups for all 3 airports. The dropoffs at EWR have the longest average trip distance. LGA has the shortest pickup and dropoff average distances.\n",
    "<font color=red>**(5)**</font> The average fare and average distance may be able to explain why LGA has a higher number of dropoffs and pickups even if it is the smallest airport among the 3. The major reason is that it's closer to most passengers and as a result, the average taxi fare is also lower."
   ]
  },
  {
   "cell_type": "markdown",
   "metadata": {},
   "source": [
    "### 3.1 Report mean and median trip distance grouped by hour of day"
   ]
  },
  {
   "cell_type": "markdown",
   "metadata": {},
   "source": [
    "It's better to use dropoff hour to group the data because it is the trip finish time. First extract the dropoff datetime and trip distance from the raw data. "
   ]
  },
  {
   "cell_type": "code",
   "execution_count": 7,
   "metadata": {},
   "outputs": [
    {
     "data": {
      "text/html": [
       "<div>\n",
       "<table border=\"1\" class=\"dataframe\">\n",
       "  <thead>\n",
       "    <tr style=\"text-align: right;\">\n",
       "      <th></th>\n",
       "      <th>Lpep_dropoff_datetime</th>\n",
       "      <th>Trip_distance</th>\n",
       "    </tr>\n",
       "  </thead>\n",
       "  <tbody>\n",
       "    <tr>\n",
       "      <th>0</th>\n",
       "      <td>2015-09-01 00:02:38</td>\n",
       "      <td>0.00</td>\n",
       "    </tr>\n",
       "    <tr>\n",
       "      <th>1</th>\n",
       "      <td>2015-09-01 00:04:24</td>\n",
       "      <td>0.00</td>\n",
       "    </tr>\n",
       "    <tr>\n",
       "      <th>2</th>\n",
       "      <td>2015-09-01 00:04:24</td>\n",
       "      <td>0.59</td>\n",
       "    </tr>\n",
       "    <tr>\n",
       "      <th>3</th>\n",
       "      <td>2015-09-01 00:06:42</td>\n",
       "      <td>0.74</td>\n",
       "    </tr>\n",
       "    <tr>\n",
       "      <th>4</th>\n",
       "      <td>2015-09-01 00:04:20</td>\n",
       "      <td>0.61</td>\n",
       "    </tr>\n",
       "  </tbody>\n",
       "</table>\n",
       "</div>"
      ],
      "text/plain": [
       "  Lpep_dropoff_datetime  Trip_distance\n",
       "0   2015-09-01 00:02:38           0.00\n",
       "1   2015-09-01 00:04:24           0.00\n",
       "2   2015-09-01 00:04:24           0.59\n",
       "3   2015-09-01 00:06:42           0.74\n",
       "4   2015-09-01 00:04:20           0.61"
      ]
     },
     "execution_count": 7,
     "metadata": {},
     "output_type": "execute_result"
    }
   ],
   "source": [
    "time_trip = raw_data[[\"Lpep_dropoff_datetime\", \"Trip_distance\"]] \n",
    "time_trip.head()"
   ]
  },
  {
   "cell_type": "markdown",
   "metadata": {},
   "source": [
    "Define a function to extract the hours from the Lpep_dropoff_datetime variable."
   ]
  },
  {
   "cell_type": "code",
   "execution_count": 8,
   "metadata": {
    "collapsed": true
   },
   "outputs": [],
   "source": [
    "def extract_hour(date_time):    \n",
    "    obj = datetime.strptime(date_time, \"%Y-%m-%d %H:%M:%S\")\n",
    "    return obj.hour"
   ]
  },
  {
   "cell_type": "markdown",
   "metadata": {},
   "source": [
    "Create a new variable called \"dropoff_hour\" to store the extracted hours."
   ]
  },
  {
   "cell_type": "code",
   "execution_count": 9,
   "metadata": {},
   "outputs": [
    {
     "data": {
      "text/html": [
       "<div>\n",
       "<table border=\"1\" class=\"dataframe\">\n",
       "  <thead>\n",
       "    <tr style=\"text-align: right;\">\n",
       "      <th></th>\n",
       "      <th>Lpep_dropoff_datetime</th>\n",
       "      <th>Trip_distance</th>\n",
       "      <th>dropoff_hour</th>\n",
       "    </tr>\n",
       "  </thead>\n",
       "  <tbody>\n",
       "    <tr>\n",
       "      <th>0</th>\n",
       "      <td>2015-09-01 00:02:38</td>\n",
       "      <td>0.00</td>\n",
       "      <td>0</td>\n",
       "    </tr>\n",
       "    <tr>\n",
       "      <th>1</th>\n",
       "      <td>2015-09-01 00:04:24</td>\n",
       "      <td>0.00</td>\n",
       "      <td>0</td>\n",
       "    </tr>\n",
       "    <tr>\n",
       "      <th>2</th>\n",
       "      <td>2015-09-01 00:04:24</td>\n",
       "      <td>0.59</td>\n",
       "      <td>0</td>\n",
       "    </tr>\n",
       "    <tr>\n",
       "      <th>3</th>\n",
       "      <td>2015-09-01 00:06:42</td>\n",
       "      <td>0.74</td>\n",
       "      <td>0</td>\n",
       "    </tr>\n",
       "    <tr>\n",
       "      <th>4</th>\n",
       "      <td>2015-09-01 00:04:20</td>\n",
       "      <td>0.61</td>\n",
       "      <td>0</td>\n",
       "    </tr>\n",
       "  </tbody>\n",
       "</table>\n",
       "</div>"
      ],
      "text/plain": [
       "  Lpep_dropoff_datetime  Trip_distance  dropoff_hour\n",
       "0   2015-09-01 00:02:38           0.00             0\n",
       "1   2015-09-01 00:04:24           0.00             0\n",
       "2   2015-09-01 00:04:24           0.59             0\n",
       "3   2015-09-01 00:06:42           0.74             0\n",
       "4   2015-09-01 00:04:20           0.61             0"
      ]
     },
     "execution_count": 9,
     "metadata": {},
     "output_type": "execute_result"
    }
   ],
   "source": [
    "time_trip[\"dropoff_hour\"] = time_trip[\"Lpep_dropoff_datetime\"].apply(lambda x: extract_hour(x))\n",
    "time_trip.head()"
   ]
  },
  {
   "cell_type": "markdown",
   "metadata": {},
   "source": [
    "Group the trip distance by dropoff hours and caluculate the mean and median of each group."
   ]
  },
  {
   "cell_type": "code",
   "execution_count": 10,
   "metadata": {},
   "outputs": [
    {
     "data": {
      "text/html": [
       "<div>\n",
       "<table border=\"1\" class=\"dataframe\">\n",
       "  <thead>\n",
       "    <tr style=\"text-align: right;\">\n",
       "      <th></th>\n",
       "      <th>dropoff_hour</th>\n",
       "      <th>mean_distance</th>\n",
       "      <th>median_distance</th>\n",
       "      <th>mean_distance_no_outlier</th>\n",
       "      <th>median_distance_no_outlier</th>\n",
       "    </tr>\n",
       "  </thead>\n",
       "  <tbody>\n",
       "    <tr>\n",
       "      <th>0</th>\n",
       "      <td>0</td>\n",
       "      <td>3.239356</td>\n",
       "      <td>2.28</td>\n",
       "      <td>3.271212</td>\n",
       "      <td>2.30</td>\n",
       "    </tr>\n",
       "    <tr>\n",
       "      <th>1</th>\n",
       "      <td>1</td>\n",
       "      <td>3.130531</td>\n",
       "      <td>2.20</td>\n",
       "      <td>3.167283</td>\n",
       "      <td>2.23</td>\n",
       "    </tr>\n",
       "    <tr>\n",
       "      <th>2</th>\n",
       "      <td>2</td>\n",
       "      <td>3.143715</td>\n",
       "      <td>2.21</td>\n",
       "      <td>3.188660</td>\n",
       "      <td>2.25</td>\n",
       "    </tr>\n",
       "    <tr>\n",
       "      <th>3</th>\n",
       "      <td>3</td>\n",
       "      <td>3.225473</td>\n",
       "      <td>2.26</td>\n",
       "      <td>3.254853</td>\n",
       "      <td>2.30</td>\n",
       "    </tr>\n",
       "    <tr>\n",
       "      <th>4</th>\n",
       "      <td>4</td>\n",
       "      <td>3.463798</td>\n",
       "      <td>2.37</td>\n",
       "      <td>3.516752</td>\n",
       "      <td>2.41</td>\n",
       "    </tr>\n",
       "    <tr>\n",
       "      <th>5</th>\n",
       "      <td>5</td>\n",
       "      <td>4.187841</td>\n",
       "      <td>2.92</td>\n",
       "      <td>4.266515</td>\n",
       "      <td>3.00</td>\n",
       "    </tr>\n",
       "    <tr>\n",
       "      <th>6</th>\n",
       "      <td>6</td>\n",
       "      <td>3.932660</td>\n",
       "      <td>2.76</td>\n",
       "      <td>4.018686</td>\n",
       "      <td>2.81</td>\n",
       "    </tr>\n",
       "    <tr>\n",
       "      <th>7</th>\n",
       "      <td>7</td>\n",
       "      <td>3.217171</td>\n",
       "      <td>2.05</td>\n",
       "      <td>3.266918</td>\n",
       "      <td>2.10</td>\n",
       "    </tr>\n",
       "    <tr>\n",
       "      <th>8</th>\n",
       "      <td>8</td>\n",
       "      <td>2.923779</td>\n",
       "      <td>1.87</td>\n",
       "      <td>2.964795</td>\n",
       "      <td>1.90</td>\n",
       "    </tr>\n",
       "    <tr>\n",
       "      <th>9</th>\n",
       "      <td>9</td>\n",
       "      <td>3.016995</td>\n",
       "      <td>1.98</td>\n",
       "      <td>3.058360</td>\n",
       "      <td>2.00</td>\n",
       "    </tr>\n",
       "    <tr>\n",
       "      <th>10</th>\n",
       "      <td>10</td>\n",
       "      <td>3.010999</td>\n",
       "      <td>1.98</td>\n",
       "      <td>3.058753</td>\n",
       "      <td>2.01</td>\n",
       "    </tr>\n",
       "    <tr>\n",
       "      <th>11</th>\n",
       "      <td>11</td>\n",
       "      <td>2.879559</td>\n",
       "      <td>1.86</td>\n",
       "      <td>2.928916</td>\n",
       "      <td>1.90</td>\n",
       "    </tr>\n",
       "    <tr>\n",
       "      <th>12</th>\n",
       "      <td>12</td>\n",
       "      <td>2.907513</td>\n",
       "      <td>1.90</td>\n",
       "      <td>2.955669</td>\n",
       "      <td>1.92</td>\n",
       "    </tr>\n",
       "    <tr>\n",
       "      <th>13</th>\n",
       "      <td>13</td>\n",
       "      <td>2.889431</td>\n",
       "      <td>1.85</td>\n",
       "      <td>2.940566</td>\n",
       "      <td>1.90</td>\n",
       "    </tr>\n",
       "    <tr>\n",
       "      <th>14</th>\n",
       "      <td>14</td>\n",
       "      <td>2.767255</td>\n",
       "      <td>1.80</td>\n",
       "      <td>2.816432</td>\n",
       "      <td>1.82</td>\n",
       "    </tr>\n",
       "    <tr>\n",
       "      <th>15</th>\n",
       "      <td>15</td>\n",
       "      <td>2.771893</td>\n",
       "      <td>1.79</td>\n",
       "      <td>2.819908</td>\n",
       "      <td>1.81</td>\n",
       "    </tr>\n",
       "    <tr>\n",
       "      <th>16</th>\n",
       "      <td>16</td>\n",
       "      <td>2.766404</td>\n",
       "      <td>1.80</td>\n",
       "      <td>2.809335</td>\n",
       "      <td>1.81</td>\n",
       "    </tr>\n",
       "    <tr>\n",
       "      <th>17</th>\n",
       "      <td>17</td>\n",
       "      <td>2.690678</td>\n",
       "      <td>1.76</td>\n",
       "      <td>2.724458</td>\n",
       "      <td>1.79</td>\n",
       "    </tr>\n",
       "    <tr>\n",
       "      <th>18</th>\n",
       "      <td>18</td>\n",
       "      <td>2.673491</td>\n",
       "      <td>1.80</td>\n",
       "      <td>2.707844</td>\n",
       "      <td>1.80</td>\n",
       "    </tr>\n",
       "    <tr>\n",
       "      <th>19</th>\n",
       "      <td>19</td>\n",
       "      <td>2.746890</td>\n",
       "      <td>1.86</td>\n",
       "      <td>2.778262</td>\n",
       "      <td>1.89</td>\n",
       "    </tr>\n",
       "    <tr>\n",
       "      <th>20</th>\n",
       "      <td>20</td>\n",
       "      <td>2.800049</td>\n",
       "      <td>1.92</td>\n",
       "      <td>2.830288</td>\n",
       "      <td>1.94</td>\n",
       "    </tr>\n",
       "    <tr>\n",
       "      <th>21</th>\n",
       "      <td>21</td>\n",
       "      <td>2.931069</td>\n",
       "      <td>2.00</td>\n",
       "      <td>2.962286</td>\n",
       "      <td>2.03</td>\n",
       "    </tr>\n",
       "    <tr>\n",
       "      <th>22</th>\n",
       "      <td>22</td>\n",
       "      <td>3.147097</td>\n",
       "      <td>2.17</td>\n",
       "      <td>3.181442</td>\n",
       "      <td>2.20</td>\n",
       "    </tr>\n",
       "    <tr>\n",
       "      <th>23</th>\n",
       "      <td>23</td>\n",
       "      <td>3.231312</td>\n",
       "      <td>2.25</td>\n",
       "      <td>3.266594</td>\n",
       "      <td>2.29</td>\n",
       "    </tr>\n",
       "  </tbody>\n",
       "</table>\n",
       "</div>"
      ],
      "text/plain": [
       "    dropoff_hour  mean_distance  median_distance  mean_distance_no_outlier  median_distance_no_outlier\n",
       "0              0       3.239356             2.28                  3.271212                        2.30\n",
       "1              1       3.130531             2.20                  3.167283                        2.23\n",
       "2              2       3.143715             2.21                  3.188660                        2.25\n",
       "3              3       3.225473             2.26                  3.254853                        2.30\n",
       "4              4       3.463798             2.37                  3.516752                        2.41\n",
       "5              5       4.187841             2.92                  4.266515                        3.00\n",
       "6              6       3.932660             2.76                  4.018686                        2.81\n",
       "7              7       3.217171             2.05                  3.266918                        2.10\n",
       "8              8       2.923779             1.87                  2.964795                        1.90\n",
       "9              9       3.016995             1.98                  3.058360                        2.00\n",
       "10            10       3.010999             1.98                  3.058753                        2.01\n",
       "11            11       2.879559             1.86                  2.928916                        1.90\n",
       "12            12       2.907513             1.90                  2.955669                        1.92\n",
       "13            13       2.889431             1.85                  2.940566                        1.90\n",
       "14            14       2.767255             1.80                  2.816432                        1.82\n",
       "15            15       2.771893             1.79                  2.819908                        1.81\n",
       "16            16       2.766404             1.80                  2.809335                        1.81\n",
       "17            17       2.690678             1.76                  2.724458                        1.79\n",
       "18            18       2.673491             1.80                  2.707844                        1.80\n",
       "19            19       2.746890             1.86                  2.778262                        1.89\n",
       "20            20       2.800049             1.92                  2.830288                        1.94\n",
       "21            21       2.931069             2.00                  2.962286                        2.03\n",
       "22            22       3.147097             2.17                  3.181442                        2.20\n",
       "23            23       3.231312             2.25                  3.266594                        2.29"
      ]
     },
     "execution_count": 10,
     "metadata": {},
     "output_type": "execute_result"
    }
   ],
   "source": [
    "# Original data\n",
    "group_dist = time_trip.groupby([\"dropoff_hour\"]).agg([\"mean\",\"median\"])\n",
    "group_dist.columns = group_dist.columns.droplevel(0)\n",
    "group_dist.reset_index(level=['dropoff_hour'], inplace=True)\n",
    "group_dist.rename(columns={\"mean\":\"mean_distance\", \"median\":\"median_distance\"}, inplace=True)\n",
    "\n",
    "# The data with outliers (distance > 100 miles or distance = 0) removed\n",
    "time_trip_no_outlier = time_trip[(time_trip[\"Trip_distance\"]<=100)&(time_trip[\"Trip_distance\"]>0)]\n",
    "group_dist_no_outlier = time_trip_no_outlier.groupby([\"dropoff_hour\"]).agg([\"mean\",\"median\"])\n",
    "group_dist_no_outlier.columns = group_dist_no_outlier.columns.droplevel(0)\n",
    "group_dist_no_outlier.reset_index(level=['dropoff_hour'], inplace=True)\n",
    "group_dist_no_outlier.rename(columns={\"mean\":\"mean_distance_no_outlier\", \"median\":\"median_distance_no_outlier\"}, inplace=True)\n",
    "\n",
    "# Display the mean and median of trip distances\n",
    "group_dist_both = pd.merge(group_dist,group_dist_no_outlier, how=\"left\", on=\"dropoff_hour\")\n",
    "group_dist_both"
   ]
  },
  {
   "cell_type": "markdown",
   "metadata": {},
   "source": [
    "Plot the mean and median trip distance by dropoff hour."
   ]
  },
  {
   "cell_type": "code",
   "execution_count": 11,
   "metadata": {},
   "outputs": [
    {
     "data": {
      "image/png": "[encoded data removed]",
      "text/plain": [
       "<matplotlib.figure.Figure at 0x117dced68>"
      ]
     },
     "metadata": {},
     "output_type": "display_data"
    }
   ],
   "source": [
    "plt.figure(figsize=(22, 7))\n",
    "\n",
    "plt.subplot(1,2,1)\n",
    "plt.plot(group_dist_both[\"dropoff_hour\"], group_dist_both[\"mean_distance\"])\n",
    "plt.plot(group_dist_both[\"dropoff_hour\"], group_dist_both[\"median_distance\"])\n",
    "plt.title(\"Mean and Median Trip Distance by Dropoff Hour (with Outliers)\", fontsize=15)\n",
    "plt.xlabel(\"Dropoff Hour\", fontsize=15)\n",
    "plt.ylabel(\"Mean/Median Trip Distance (Miles)\", fontsize=15)\n",
    "plt.xticks(fontsize=15)\n",
    "plt.yticks(fontsize=15)\n",
    "plt.legend([\"Mean\", \"Median\"], fontsize=15)\n",
    "\n",
    "plt.subplot(1,2,2)\n",
    "plt.plot(group_dist_both[\"dropoff_hour\"], group_dist_both[\"mean_distance\"])\n",
    "plt.plot(group_dist_both[\"dropoff_hour\"], group_dist_both[\"median_distance\"])\n",
    "plt.title(\"Mean and Median Trip Distance by Dropoff Hour (without Outliers)\", fontsize=15)\n",
    "plt.xlabel(\"Dropoff Hour\", fontsize=15)\n",
    "plt.ylabel(\"Mean/Median Trip Distance (Miles)\", fontsize=15)\n",
    "plt.xticks(fontsize=15)\n",
    "plt.yticks(fontsize=15)\n",
    "plt.legend([\"Mean\", \"Median\"], fontsize=15)\n",
    "\n",
    "plt.tight_layout()"
   ]
  },
  {
   "cell_type": "markdown",
   "metadata": {},
   "source": [
    "There are 3 main findings:\n",
    "\n",
    "1. The mean trip distance is always longer than the median distance because the distribution of the trip distance is right-skewed.\n",
    "2. The mean and median trip distance reach a peak at 5-6am and then decrease until hitting a local minima at 8 am. A possible reason is that these people take taxi to work or school in the morning. To avoid being late due to the rush hour, they took the taxi as early as 5-6 am. After they get off work or school, they chose a cheaper way to go back home, such as taking bus or subway.\n",
    "3. The result of the data with and without outliers are very similar. The number of outliers are relatively low and they will not seriously influence the data."
   ]
  },
  {
   "cell_type": "markdown",
   "metadata": {},
   "source": [
    "### 3.2  Identify trips that originate or terminate at one of the NYC area airports. Report the number of transactions, the average fare and other interesting characteristics. "
   ]
  },
  {
   "cell_type": "markdown",
   "metadata": {},
   "source": [
    "There are 3 airports in the NYC area: \n",
    "- John F. Kennedy International Airports (JFK)\n",
    "- LaGuardia Airport (LGA)\n",
    "- Newark Liberty International Airport (EWR)"
   ]
  },
  {
   "cell_type": "markdown",
   "metadata": {},
   "source": [
    "There are 2 ways to identify trips that originate or terminate at one of the airports.\n",
    "1. There is a ”RateCodeID“ attribute in the dataset showing the final rate code in effect at the end of the trip. According to [Data Dictionary](http://www.nyc.gov/html/tlc/downloads/pdf/data_dictionary_trip_records_green.pdf) and [NYC Taxicab Rate of Fare](http://www.nyc.gov/html/tlc/html/industry/taxicab_rate_yellow.shtml), codes 2 and 3 indicate the trip's final destination is JFK Airport or EWR Airport. However, this method can only tell the trip terminate in an airport and cannot tell if the trip originates from an airport. In addition, there is no code for the LGA airport. \n",
    "2. Each trip has the longtidute and the latitute of the pickup and dropoff. This information can be used to calculate their distance to the 3 airports in the NYC area."
   ]
  },
  {
   "cell_type": "markdown",
   "metadata": {},
   "source": [
    "**The second way was used to identify trips that are originate or terminate at one of the airports.**\n",
    "\n",
    "Extract the longtidute and the latitute of the pickup and dropoff."
   ]
  },
  {
   "cell_type": "code",
   "execution_count": 12,
   "metadata": {
    "scrolled": true
   },
   "outputs": [
    {
     "data": {
      "text/html": [
       "<div>\n",
       "<table border=\"1\" class=\"dataframe\">\n",
       "  <thead>\n",
       "    <tr style=\"text-align: right;\">\n",
       "      <th></th>\n",
       "      <th>Pickup_longitude</th>\n",
       "      <th>Pickup_latitude</th>\n",
       "      <th>Dropoff_longitude</th>\n",
       "      <th>Dropoff_latitude</th>\n",
       "    </tr>\n",
       "  </thead>\n",
       "  <tbody>\n",
       "    <tr>\n",
       "      <th>0</th>\n",
       "      <td>-73.979485</td>\n",
       "      <td>40.684956</td>\n",
       "      <td>-73.979431</td>\n",
       "      <td>40.685020</td>\n",
       "    </tr>\n",
       "    <tr>\n",
       "      <th>1</th>\n",
       "      <td>-74.010796</td>\n",
       "      <td>40.912216</td>\n",
       "      <td>-74.010780</td>\n",
       "      <td>40.912212</td>\n",
       "    </tr>\n",
       "    <tr>\n",
       "      <th>2</th>\n",
       "      <td>-73.921410</td>\n",
       "      <td>40.766708</td>\n",
       "      <td>-73.914413</td>\n",
       "      <td>40.764687</td>\n",
       "    </tr>\n",
       "    <tr>\n",
       "      <th>3</th>\n",
       "      <td>-73.921387</td>\n",
       "      <td>40.766678</td>\n",
       "      <td>-73.931427</td>\n",
       "      <td>40.771584</td>\n",
       "    </tr>\n",
       "    <tr>\n",
       "      <th>4</th>\n",
       "      <td>-73.955482</td>\n",
       "      <td>40.714046</td>\n",
       "      <td>-73.944412</td>\n",
       "      <td>40.714729</td>\n",
       "    </tr>\n",
       "  </tbody>\n",
       "</table>\n",
       "</div>"
      ],
      "text/plain": [
       "   Pickup_longitude  Pickup_latitude  Dropoff_longitude  Dropoff_latitude\n",
       "0        -73.979485        40.684956         -73.979431         40.685020\n",
       "1        -74.010796        40.912216         -74.010780         40.912212\n",
       "2        -73.921410        40.766708         -73.914413         40.764687\n",
       "3        -73.921387        40.766678         -73.931427         40.771584\n",
       "4        -73.955482        40.714046         -73.944412         40.714729"
      ]
     },
     "execution_count": 12,
     "metadata": {},
     "output_type": "execute_result"
    }
   ],
   "source": [
    "lat_log = raw_data[[\"Pickup_longitude\", \"Pickup_latitude\", \"Dropoff_longitude\", \"Dropoff_latitude\"]] \n",
    "lat_log.head()"
   ]
  },
  {
   "cell_type": "markdown",
   "metadata": {},
   "source": [
    "According to [Coordinates Finder](https://www.coordinatesfinder.com/), the coordiates (latitude, logitude) of the 3 airports are:\n",
    "- JFK: (40.6413111, -73.7781391)\n",
    "- LGA: (40.775399, -73.874583)\n",
    "- EWR: (40.6895314, -74.1744624)"
   ]
  },
  {
   "cell_type": "markdown",
   "metadata": {},
   "source": [
    "According to the [Airport Traffic Report by the Port Authority of NY & NJ](https://www.panynj.gov/airports/pdf-traffic/ATR2016.pdf), the area covered by the 3 airports are:\n",
    "\n",
    "- JFK: 4930 acres = 7.7031 miles<sup>2</sup>\n",
    "- LGA: 680 acres = 1.0625 miles<sup>2</sup>\n",
    "- EWR: 2027 acres = 3.1672 miles<sup>2</sup>\n",
    "\n",
    "Assuming these 3 airports take up round regions, then the radii of the airports will be:\n",
    "- JFK: 1.5660 miles\n",
    "- LGA: 0.5816 miles\n",
    "- EWR: 1.0041 miles"
   ]
  },
  {
   "cell_type": "markdown",
   "metadata": {},
   "source": [
    "Define a function to check if the pickup/dropoff position is within the areas of the 3 airports. The [geodesic function](https://pypi.org/project/geopy/) in the geopy package was used to calculate the geodesic distance between 2 locations. "
   ]
  },
  {
   "cell_type": "code",
   "execution_count": 13,
   "metadata": {
    "collapsed": true
   },
   "outputs": [],
   "source": [
    "def within_airports(df_row):\n",
    "    # coordinates of the 3 airports\n",
    "    JFK = (40.6413111, -73.7781391)\n",
    "    LGA = (40.775399, -73.874583)\n",
    "    EWR = (40.6895314, -74.1744624)\n",
    "    \n",
    "    # radii of the 3 airports\n",
    "    JFK_r = 1.5660\n",
    "    LGA_r = 0.5816\n",
    "    EWR_r = 1.0041\n",
    "    \n",
    "    # use a quarter mile as a buffer to account for that airports are not circle in reality\n",
    "    buffer = 0.25\n",
    "    \n",
    "    airport_coor = [JFK, LGA, EWR]\n",
    "    airport_radii = [JFK_r, LGA_r, EWR_r]\n",
    "    \n",
    "    # coordinates of the trips\n",
    "    pickup = (df_row[\"Pickup_latitude\"], df_row[\"Pickup_longitude\"])\n",
    "    dropoff = (df_row[\"Dropoff_latitude\"], df_row[\"Dropoff_longitude\"])\n",
    "    \n",
    "    location_coor = [pickup, dropoff]\n",
    "        \n",
    "    # calculate pairwise geodesic distance beween airport centers and the pickup/dropoff location\n",
    "    # use the radii of airports to determine if the trips are within the area of the airports. \n",
    "    within_status = list()\n",
    "    for i in range(3):\n",
    "        for j in range(2):\n",
    "            dist = geodesic(airport_coor[i], location_coor[j]).miles\n",
    "            within = 0\n",
    "            if dist <= airport_radii[i] + buffer:\n",
    "                within = 1\n",
    "            within_status.append(within)\n",
    "    \n",
    "    return tuple(within_status)"
   ]
  },
  {
   "cell_type": "markdown",
   "metadata": {},
   "source": [
    "Create 6 new features \"JFK_pickup\",\"JFK_dropoff\", \"LGA_pickup\", \"LGA_dropoff\", \"EWR_pickup\", \"EWR_dropoff\" to indicate if the trip is a dropoff or pickup from one of the 3 airports."
   ]
  },
  {
   "cell_type": "code",
   "execution_count": 14,
   "metadata": {},
   "outputs": [
    {
     "data": {
      "text/html": [
       "<div>\n",
       "<table border=\"1\" class=\"dataframe\">\n",
       "  <thead>\n",
       "    <tr style=\"text-align: right;\">\n",
       "      <th></th>\n",
       "      <th>Pickup_longitude</th>\n",
       "      <th>Pickup_latitude</th>\n",
       "      <th>Dropoff_longitude</th>\n",
       "      <th>Dropoff_latitude</th>\n",
       "      <th>JFK_pickup</th>\n",
       "      <th>JFK_dropoff</th>\n",
       "      <th>LGA_pickup</th>\n",
       "      <th>LGA_dropoff</th>\n",
       "      <th>EWR_pickup</th>\n",
       "      <th>EWR_dropoff</th>\n",
       "    </tr>\n",
       "  </thead>\n",
       "  <tbody>\n",
       "    <tr>\n",
       "      <th>0</th>\n",
       "      <td>-73.979485</td>\n",
       "      <td>40.684956</td>\n",
       "      <td>-73.979431</td>\n",
       "      <td>40.685020</td>\n",
       "      <td>0</td>\n",
       "      <td>0</td>\n",
       "      <td>0</td>\n",
       "      <td>0</td>\n",
       "      <td>0</td>\n",
       "      <td>0</td>\n",
       "    </tr>\n",
       "    <tr>\n",
       "      <th>1</th>\n",
       "      <td>-74.010796</td>\n",
       "      <td>40.912216</td>\n",
       "      <td>-74.010780</td>\n",
       "      <td>40.912212</td>\n",
       "      <td>0</td>\n",
       "      <td>0</td>\n",
       "      <td>0</td>\n",
       "      <td>0</td>\n",
       "      <td>0</td>\n",
       "      <td>0</td>\n",
       "    </tr>\n",
       "    <tr>\n",
       "      <th>2</th>\n",
       "      <td>-73.921410</td>\n",
       "      <td>40.766708</td>\n",
       "      <td>-73.914413</td>\n",
       "      <td>40.764687</td>\n",
       "      <td>0</td>\n",
       "      <td>0</td>\n",
       "      <td>0</td>\n",
       "      <td>0</td>\n",
       "      <td>0</td>\n",
       "      <td>0</td>\n",
       "    </tr>\n",
       "    <tr>\n",
       "      <th>3</th>\n",
       "      <td>-73.921387</td>\n",
       "      <td>40.766678</td>\n",
       "      <td>-73.931427</td>\n",
       "      <td>40.771584</td>\n",
       "      <td>0</td>\n",
       "      <td>0</td>\n",
       "      <td>0</td>\n",
       "      <td>0</td>\n",
       "      <td>0</td>\n",
       "      <td>0</td>\n",
       "    </tr>\n",
       "    <tr>\n",
       "      <th>4</th>\n",
       "      <td>-73.955482</td>\n",
       "      <td>40.714046</td>\n",
       "      <td>-73.944412</td>\n",
       "      <td>40.714729</td>\n",
       "      <td>0</td>\n",
       "      <td>0</td>\n",
       "      <td>0</td>\n",
       "      <td>0</td>\n",
       "      <td>0</td>\n",
       "      <td>0</td>\n",
       "    </tr>\n",
       "  </tbody>\n",
       "</table>\n",
       "</div>"
      ],
      "text/plain": [
       "   Pickup_longitude  Pickup_latitude  Dropoff_longitude  Dropoff_latitude  JFK_pickup  JFK_dropoff  LGA_pickup  LGA_dropoff  EWR_pickup  EWR_dropoff\n",
       "0        -73.979485        40.684956         -73.979431         40.685020           0            0           0            0           0            0\n",
       "1        -74.010796        40.912216         -74.010780         40.912212           0            0           0            0           0            0\n",
       "2        -73.921410        40.766708         -73.914413         40.764687           0            0           0            0           0            0\n",
       "3        -73.921387        40.766678         -73.931427         40.771584           0            0           0            0           0            0\n",
       "4        -73.955482        40.714046         -73.944412         40.714729           0            0           0            0           0            0"
      ]
     },
     "execution_count": 14,
     "metadata": {},
     "output_type": "execute_result"
    }
   ],
   "source": [
    "status_columns = [\"JFK_pickup\",\"JFK_dropoff\", \"LGA_pickup\", \"LGA_dropoff\", \"EWR_pickup\", \"EWR_dropoff\"]\n",
    "lat_log[status_columns] = lat_log.apply(lambda row: pd.Series(within_airports(row)), axis=1)\n",
    "lat_log.head()"
   ]
  },
  {
   "cell_type": "markdown",
   "metadata": {
    "collapsed": true
   },
   "source": [
    "Join the airport dropoff/pickup status back to the original data. "
   ]
  },
  {
   "cell_type": "code",
   "execution_count": 15,
   "metadata": {},
   "outputs": [
    {
     "data": {
      "text/html": [
       "<div>\n",
       "<table border=\"1\" class=\"dataframe\">\n",
       "  <thead>\n",
       "    <tr style=\"text-align: right;\">\n",
       "      <th></th>\n",
       "      <th>VendorID</th>\n",
       "      <th>lpep_pickup_datetime</th>\n",
       "      <th>Lpep_dropoff_datetime</th>\n",
       "      <th>Store_and_fwd_flag</th>\n",
       "      <th>RateCodeID</th>\n",
       "      <th>Pickup_longitude</th>\n",
       "      <th>Pickup_latitude</th>\n",
       "      <th>Dropoff_longitude</th>\n",
       "      <th>Dropoff_latitude</th>\n",
       "      <th>Passenger_count</th>\n",
       "      <th>Trip_distance</th>\n",
       "      <th>Fare_amount</th>\n",
       "      <th>Extra</th>\n",
       "      <th>MTA_tax</th>\n",
       "      <th>Tip_amount</th>\n",
       "      <th>Tolls_amount</th>\n",
       "      <th>Ehail_fee</th>\n",
       "      <th>improvement_surcharge</th>\n",
       "      <th>Total_amount</th>\n",
       "      <th>Payment_type</th>\n",
       "      <th>Trip_type</th>\n",
       "      <th>JFK_pickup</th>\n",
       "      <th>JFK_dropoff</th>\n",
       "      <th>LGA_pickup</th>\n",
       "      <th>LGA_dropoff</th>\n",
       "      <th>EWR_pickup</th>\n",
       "      <th>EWR_dropoff</th>\n",
       "    </tr>\n",
       "  </thead>\n",
       "  <tbody>\n",
       "    <tr>\n",
       "      <th>0</th>\n",
       "      <td>2</td>\n",
       "      <td>2015-09-01 00:02:34</td>\n",
       "      <td>2015-09-01 00:02:38</td>\n",
       "      <td>N</td>\n",
       "      <td>5</td>\n",
       "      <td>-73.979485</td>\n",
       "      <td>40.684956</td>\n",
       "      <td>-73.979431</td>\n",
       "      <td>40.685020</td>\n",
       "      <td>1</td>\n",
       "      <td>0.00</td>\n",
       "      <td>7.8</td>\n",
       "      <td>0.0</td>\n",
       "      <td>0.0</td>\n",
       "      <td>1.95</td>\n",
       "      <td>0.0</td>\n",
       "      <td>NaN</td>\n",
       "      <td>0.0</td>\n",
       "      <td>9.75</td>\n",
       "      <td>1</td>\n",
       "      <td>2.0</td>\n",
       "      <td>0</td>\n",
       "      <td>0</td>\n",
       "      <td>0</td>\n",
       "      <td>0</td>\n",
       "      <td>0</td>\n",
       "      <td>0</td>\n",
       "    </tr>\n",
       "    <tr>\n",
       "      <th>1</th>\n",
       "      <td>2</td>\n",
       "      <td>2015-09-01 00:04:20</td>\n",
       "      <td>2015-09-01 00:04:24</td>\n",
       "      <td>N</td>\n",
       "      <td>5</td>\n",
       "      <td>-74.010796</td>\n",
       "      <td>40.912216</td>\n",
       "      <td>-74.010780</td>\n",
       "      <td>40.912212</td>\n",
       "      <td>1</td>\n",
       "      <td>0.00</td>\n",
       "      <td>45.0</td>\n",
       "      <td>0.0</td>\n",
       "      <td>0.0</td>\n",
       "      <td>0.00</td>\n",
       "      <td>0.0</td>\n",
       "      <td>NaN</td>\n",
       "      <td>0.0</td>\n",
       "      <td>45.00</td>\n",
       "      <td>1</td>\n",
       "      <td>2.0</td>\n",
       "      <td>0</td>\n",
       "      <td>0</td>\n",
       "      <td>0</td>\n",
       "      <td>0</td>\n",
       "      <td>0</td>\n",
       "      <td>0</td>\n",
       "    </tr>\n",
       "    <tr>\n",
       "      <th>2</th>\n",
       "      <td>2</td>\n",
       "      <td>2015-09-01 00:01:50</td>\n",
       "      <td>2015-09-01 00:04:24</td>\n",
       "      <td>N</td>\n",
       "      <td>1</td>\n",
       "      <td>-73.921410</td>\n",
       "      <td>40.766708</td>\n",
       "      <td>-73.914413</td>\n",
       "      <td>40.764687</td>\n",
       "      <td>1</td>\n",
       "      <td>0.59</td>\n",
       "      <td>4.0</td>\n",
       "      <td>0.5</td>\n",
       "      <td>0.5</td>\n",
       "      <td>0.50</td>\n",
       "      <td>0.0</td>\n",
       "      <td>NaN</td>\n",
       "      <td>0.3</td>\n",
       "      <td>5.80</td>\n",
       "      <td>1</td>\n",
       "      <td>1.0</td>\n",
       "      <td>0</td>\n",
       "      <td>0</td>\n",
       "      <td>0</td>\n",
       "      <td>0</td>\n",
       "      <td>0</td>\n",
       "      <td>0</td>\n",
       "    </tr>\n",
       "    <tr>\n",
       "      <th>3</th>\n",
       "      <td>2</td>\n",
       "      <td>2015-09-01 00:02:36</td>\n",
       "      <td>2015-09-01 00:06:42</td>\n",
       "      <td>N</td>\n",
       "      <td>1</td>\n",
       "      <td>-73.921387</td>\n",
       "      <td>40.766678</td>\n",
       "      <td>-73.931427</td>\n",
       "      <td>40.771584</td>\n",
       "      <td>1</td>\n",
       "      <td>0.74</td>\n",
       "      <td>5.0</td>\n",
       "      <td>0.5</td>\n",
       "      <td>0.5</td>\n",
       "      <td>0.00</td>\n",
       "      <td>0.0</td>\n",
       "      <td>NaN</td>\n",
       "      <td>0.3</td>\n",
       "      <td>6.30</td>\n",
       "      <td>2</td>\n",
       "      <td>1.0</td>\n",
       "      <td>0</td>\n",
       "      <td>0</td>\n",
       "      <td>0</td>\n",
       "      <td>0</td>\n",
       "      <td>0</td>\n",
       "      <td>0</td>\n",
       "    </tr>\n",
       "    <tr>\n",
       "      <th>4</th>\n",
       "      <td>2</td>\n",
       "      <td>2015-09-01 00:00:14</td>\n",
       "      <td>2015-09-01 00:04:20</td>\n",
       "      <td>N</td>\n",
       "      <td>1</td>\n",
       "      <td>-73.955482</td>\n",
       "      <td>40.714046</td>\n",
       "      <td>-73.944412</td>\n",
       "      <td>40.714729</td>\n",
       "      <td>1</td>\n",
       "      <td>0.61</td>\n",
       "      <td>5.0</td>\n",
       "      <td>0.5</td>\n",
       "      <td>0.5</td>\n",
       "      <td>0.00</td>\n",
       "      <td>0.0</td>\n",
       "      <td>NaN</td>\n",
       "      <td>0.3</td>\n",
       "      <td>6.30</td>\n",
       "      <td>2</td>\n",
       "      <td>1.0</td>\n",
       "      <td>0</td>\n",
       "      <td>0</td>\n",
       "      <td>0</td>\n",
       "      <td>0</td>\n",
       "      <td>0</td>\n",
       "      <td>0</td>\n",
       "    </tr>\n",
       "  </tbody>\n",
       "</table>\n",
       "</div>"
      ],
      "text/plain": [
       "   VendorID lpep_pickup_datetime Lpep_dropoff_datetime Store_and_fwd_flag  RateCodeID  Pickup_longitude  Pickup_latitude  Dropoff_longitude  Dropoff_latitude  Passenger_count  Trip_distance  Fare_amount  Extra  MTA_tax  Tip_amount  Tolls_amount  Ehail_fee  improvement_surcharge  Total_amount  Payment_type  Trip_type   JFK_pickup  JFK_dropoff  LGA_pickup  LGA_dropoff  EWR_pickup  EWR_dropoff\n",
       "0         2  2015-09-01 00:02:34   2015-09-01 00:02:38                  N           5        -73.979485        40.684956         -73.979431         40.685020                1           0.00          7.8    0.0      0.0        1.95           0.0        NaN                    0.0          9.75             1         2.0           0            0           0            0           0            0\n",
       "1         2  2015-09-01 00:04:20   2015-09-01 00:04:24                  N           5        -74.010796        40.912216         -74.010780         40.912212                1           0.00         45.0    0.0      0.0        0.00           0.0        NaN                    0.0         45.00             1         2.0           0            0           0            0           0            0\n",
       "2         2  2015-09-01 00:01:50   2015-09-01 00:04:24                  N           1        -73.921410        40.766708         -73.914413         40.764687                1           0.59          4.0    0.5      0.5        0.50           0.0        NaN                    0.3          5.80             1         1.0           0            0           0            0           0            0\n",
       "3         2  2015-09-01 00:02:36   2015-09-01 00:06:42                  N           1        -73.921387        40.766678         -73.931427         40.771584                1           0.74          5.0    0.5      0.5        0.00           0.0        NaN                    0.3          6.30             2         1.0           0            0           0            0           0            0\n",
       "4         2  2015-09-01 00:00:14   2015-09-01 00:04:20                  N           1        -73.955482        40.714046         -73.944412         40.714729                1           0.61          5.0    0.5      0.5        0.00           0.0        NaN                    0.3          6.30             2         1.0           0            0           0            0           0            0"
      ]
     },
     "execution_count": 15,
     "metadata": {},
     "output_type": "execute_result"
    }
   ],
   "source": [
    "q3_data = pd.merge(raw_data, lat_log[[\"JFK_pickup\",\"JFK_dropoff\", \"LGA_pickup\", \"LGA_dropoff\", \n",
    "        \"EWR_pickup\", \"EWR_dropoff\"]], left_index=True, right_index=True)\n",
    "q3_data.head()"
   ]
  },
  {
   "cell_type": "markdown",
   "metadata": {},
   "source": [
    "- **Get counts of the dropoff and pickup in each of the 3 airports.**"
   ]
  },
  {
   "cell_type": "code",
   "execution_count": 18,
   "metadata": {},
   "outputs": [
    {
     "data": {
      "text/plain": [
       "JFK_pickup       381\n",
       "JFK_dropoff    13713\n",
       "LGA_pickup      1139\n",
       "LGA_dropoff    24756\n",
       "EWR_pickup        42\n",
       "EWR_dropoff      724\n",
       "dtype: int64"
      ]
     },
     "execution_count": 18,
     "metadata": {},
     "output_type": "execute_result"
    }
   ],
   "source": [
    "q3_data[[\"JFK_pickup\",\"JFK_dropoff\", \"LGA_pickup\", \"LGA_dropoff\", \"EWR_pickup\", \"EWR_dropoff\"]].sum()"
   ]
  },
  {
   "cell_type": "markdown",
   "metadata": {
    "collapsed": true
   },
   "source": [
    "An interesting finding is that there are more dropoffs than pickups in all of the 3 airports. It is also very suprising that LGA has the most number of dropoffs and pickups even though it is the smallest airport among the 3. "
   ]
  },
  {
   "cell_type": "markdown",
   "metadata": {
    "collapsed": true
   },
   "source": [
    "- **Get average fare of the dropoff and pickup in each of the 3 airports.**"
   ]
  },
  {
   "cell_type": "markdown",
   "metadata": {},
   "source": [
    "First plot the distribution of the total fare amount with and without outliers. It can be seen that outliers are trips with total amount ≤ 0 or total amount > 200."
   ]
  },
  {
   "cell_type": "code",
   "execution_count": 33,
   "metadata": {},
   "outputs": [
    {
     "data": {
      "image/png": "[encoded data removed]",
      "text/plain": [
       "<matplotlib.figure.Figure at 0x11a3dacf8>"
      ]
     },
     "metadata": {},
     "output_type": "display_data"
    }
   ],
   "source": [
    "plt.figure(figsize=(22, 7))\n",
    "\n",
    "plt.subplot(1,2,1)\n",
    "plt.hist(q3_data[\"Total_amount\"], alpha=0.7, bins=100)\n",
    "plt.title(\"Histogram of total amount (with outliers)\", fontsize=15)\n",
    "plt.xlabel(\"Total amount\", fontsize=15)\n",
    "plt.ylabel(\"Frequency\", fontsize=15)\n",
    "plt.xticks(fontsize=15)\n",
    "plt.yticks(fontsize=15)\n",
    "\n",
    "plt.subplot(1,2,2)\n",
    "plt.hist(q3_data[(q3_data[\"Total_amount\"]>0)&(q3_data[\"Total_amount\"]<=200)][\"Total_amount\"], alpha=0.7, bins=100)\n",
    "plt.title(\"Histogram of total amount (without outliers)\", fontsize=15)\n",
    "plt.xlabel(\"Total amount\", fontsize=15)\n",
    "plt.ylabel(\"Frequency\", fontsize=15)\n",
    "plt.xticks(fontsize=15)\n",
    "plt.yticks(fontsize=15)\n",
    "\n",
    "plt.tight_layout()"
   ]
  },
  {
   "cell_type": "markdown",
   "metadata": {},
   "source": [
    "Get the average fare for trips without outliers."
   ]
  },
  {
   "cell_type": "code",
   "execution_count": 34,
   "metadata": {},
   "outputs": [
    {
     "name": "stdout",
     "output_type": "stream",
     "text": [
      "   JFK_pickup  Average_fare\n",
      "1           1     39.233113\n",
      "   JFK_dropoff  Average_fare\n",
      "1            1     47.596729\n",
      "   LGA_pickup  Average_fare\n",
      "1           1     21.612173\n",
      "   LGA_dropoff  Average_fare\n",
      "1            1     24.361845\n",
      "   EWR_pickup  Average_fare\n",
      "1           1     73.502683\n",
      "   EWR_dropoff  Average_fare\n",
      "1            1     97.743121\n"
     ]
    }
   ],
   "source": [
    "for status in [\"JFK_pickup\",\"JFK_dropoff\", \"LGA_pickup\", \"LGA_dropoff\", \"EWR_pickup\", \"EWR_dropoff\"]:\n",
    "    temp = q3_data[(q3_data[\"Total_amount\"]>0)&(q3_data[\"Total_amount\"]<=200)][[\"Total_amount\", status]].groupby(status).mean().reset_index()\n",
    "    temp = temp[temp[status]==1]\n",
    "    temp.rename(columns={\"Total_amount\":\"Average_fare\"}, inplace=True)\n",
    "    print(temp)"
   ]
  },
  {
   "cell_type": "markdown",
   "metadata": {},
   "source": [
    "It can be seen that the average fares of the EWR pickups and dropoffs are the highest. The average fares of JFK pickups and dropoffs are medium. The average fares of LGA pickups and dropoffs are the lowest. "
   ]
  },
  {
   "cell_type": "markdown",
   "metadata": {},
   "source": [
    "- **Get average trip distance of the dropoff and pickup in each of the 3 airports.**"
   ]
  },
  {
   "cell_type": "markdown",
   "metadata": {},
   "source": [
    "Based on result of question 2, the trip distance has outliers with a distance > 100 miles or a distance = 0. We need to remove them in the analysis."
   ]
  },
  {
   "cell_type": "code",
   "execution_count": 37,
   "metadata": {},
   "outputs": [
    {
     "name": "stdout",
     "output_type": "stream",
     "text": [
      "   JFK_pickup  Average_trip_distance\n",
      "1           1                8.32386\n",
      "   JFK_dropoff  Average_trip_distance\n",
      "1            1              13.603496\n",
      "   LGA_pickup  Average_trip_distance\n",
      "1           1               4.512562\n",
      "   LGA_dropoff  Average_trip_distance\n",
      "1            1               5.812597\n",
      "   EWR_pickup  Average_trip_distance\n",
      "1           1               7.871333\n",
      "   EWR_dropoff  Average_trip_distance\n",
      "1            1              21.200863\n"
     ]
    }
   ],
   "source": [
    "for status in [\"JFK_pickup\",\"JFK_dropoff\", \"LGA_pickup\", \"LGA_dropoff\", \"EWR_pickup\", \"EWR_dropoff\"]:\n",
    "    temp = q3_data[(q3_data[\"Trip_distance\"]>0)&(q3_data[\"Trip_distance\"]<=100)][[\"Trip_distance\", status]].groupby(status).mean().reset_index()\n",
    "    temp = temp[temp[status]==1]\n",
    "    temp.rename(columns={\"Trip_distance\":\"Average_trip_distance\"}, inplace=True)\n",
    "    print(temp)"
   ]
  },
  {
   "cell_type": "markdown",
   "metadata": {},
   "source": [
    "It can be seen that the average trip distance for dropoffs is longer than pickups for all 3 airports. The dropoffs at EWR have the longest average trip distance of 21.2 miles. LGA has the shortest pickup and dropoff average distances. "
   ]
  },
  {
   "cell_type": "markdown",
   "metadata": {},
   "source": [
    "**Conclusion:** The average fare and average distance may be able to explain why LGA has a higher number of dropoffs and pickups even if it is the smallest airport among the 3. The major reason is that it's closer to most passengers and as a result, the average taxi fare is also lower. "
   ]
  },
  {
   "cell_type": "markdown",
   "metadata": {},
   "source": [
    "<h1><center>Question 4</center></h1>"
   ]
  },
  {
   "cell_type": "markdown",
   "metadata": {},
   "source": [
    "**Summary:**\n",
    "\n",
    "In this question, I have built a predictive model for tip as a percentage of the total fare. Data cleaning, feature engineering, and feature reduction were done before modeling. The XGBoost regression algorithm was selected because of the algorithm's generally better performance. The optimized model achieved a root mean squared error of 7.2 on the test set. The steps are summarized as follows. \n",
    "1. A variable was derived for tip as a percentage of the total fare through divding the tip amount by total amount.\n",
    "2. In the original data, only tips paid by credit card were recorded. The 0's in the trips paid by cash are actually missing values. There was no data to show the tips paid by cash. Therefore, <font color=red>**this problem need to be reduced to the prediction of tip as a percentage of the total fare paid by credit cards.**</font> In the data cleaning step, all the trips not paid by credit cards were removed. \n",
    "3. Other data quality issues, such as missing values, redundent variables, data errors were handled in data cleaning.\n",
    "4. Categorical variables were one-hot encoded. The pickup and dropoff time were parsed to extract more information about the time, including hour, day of week, day of month, duration, average trip speed. The pickup and dropoff latitude and logitude were used to create 4 features representing the direction of the trip (NE, NW, SE, SW). <font color=red>**If I have enough time, I can create more features. It is possible to use the latitude and longitude to map with Census Bureau's data to get aggregated information about the socioeconomic factors (income, education level, occupation) and demographics data. It is also possible to map the location and time with historical weather data to get more variables.**</font>\n",
    "5. The feature space were reduced by removing numerical variables with high multicolinearity. Pairwise correlation and VIF were used to identify variables with multicolinearity. \n",
    "6. The XGBoost algorithm was used to build the regression model. The data was splited into a training set and a test set (8:2). The hyperparameters of the XGBoost regressor was tuned by grid search to minimize the mean squared error on the training data. The optimized model achieved a root mean squared error of 7.2 on the test set and is very close to the training set (7.17).\n",
    "7. The average speed, trip distance, hour of day, day of month, day of week are important predictors in this model. "
   ]
  },
  {
   "cell_type": "markdown",
   "metadata": {},
   "source": [
    "### 4.1 Build a derived variable for tip as a percentage of the total fare"
   ]
  },
  {
   "cell_type": "markdown",
   "metadata": {},
   "source": [
    "Create a copy of the original raw data"
   ]
  },
  {
   "cell_type": "code",
   "execution_count": 38,
   "metadata": {
    "collapsed": true
   },
   "outputs": [],
   "source": [
    "q4_data = raw_data.copy()"
   ]
  },
  {
   "cell_type": "code",
   "execution_count": 40,
   "metadata": {},
   "outputs": [
    {
     "name": "stdout",
     "output_type": "stream",
     "text": [
      "There are 6589 trips with the total fare amount ≤ 0.\n"
     ]
    }
   ],
   "source": [
    "print(\"There are %s trips with the total fare amount ≤ 0.\" %len(q4_data[q4_data[\"Total_amount\"]<=0]))"
   ]
  },
  {
   "cell_type": "markdown",
   "metadata": {},
   "source": [
    "To create the dervied variable, divide \"Tip_amount\" by \"Total_amount\". 6589 transactions have the \"Total_amount\" ≤ 0. In this case, use NULL as the value of the derived variable. "
   ]
  },
  {
   "cell_type": "code",
   "execution_count": 41,
   "metadata": {},
   "outputs": [
    {
     "data": {
      "text/html": [
       "<div>\n",
       "<table border=\"1\" class=\"dataframe\">\n",
       "  <thead>\n",
       "    <tr style=\"text-align: right;\">\n",
       "      <th></th>\n",
       "      <th>VendorID</th>\n",
       "      <th>lpep_pickup_datetime</th>\n",
       "      <th>Lpep_dropoff_datetime</th>\n",
       "      <th>Store_and_fwd_flag</th>\n",
       "      <th>RateCodeID</th>\n",
       "      <th>Pickup_longitude</th>\n",
       "      <th>Pickup_latitude</th>\n",
       "      <th>Dropoff_longitude</th>\n",
       "      <th>Dropoff_latitude</th>\n",
       "      <th>Passenger_count</th>\n",
       "      <th>Trip_distance</th>\n",
       "      <th>Fare_amount</th>\n",
       "      <th>Extra</th>\n",
       "      <th>MTA_tax</th>\n",
       "      <th>Tip_amount</th>\n",
       "      <th>Tolls_amount</th>\n",
       "      <th>Ehail_fee</th>\n",
       "      <th>improvement_surcharge</th>\n",
       "      <th>Total_amount</th>\n",
       "      <th>Payment_type</th>\n",
       "      <th>Trip_type</th>\n",
       "      <th>Tip_percent</th>\n",
       "    </tr>\n",
       "  </thead>\n",
       "  <tbody>\n",
       "    <tr>\n",
       "      <th>0</th>\n",
       "      <td>2</td>\n",
       "      <td>2015-09-01 00:02:34</td>\n",
       "      <td>2015-09-01 00:02:38</td>\n",
       "      <td>N</td>\n",
       "      <td>5</td>\n",
       "      <td>-73.979485</td>\n",
       "      <td>40.684956</td>\n",
       "      <td>-73.979431</td>\n",
       "      <td>40.685020</td>\n",
       "      <td>1</td>\n",
       "      <td>0.00</td>\n",
       "      <td>7.8</td>\n",
       "      <td>0.0</td>\n",
       "      <td>0.0</td>\n",
       "      <td>1.95</td>\n",
       "      <td>0.0</td>\n",
       "      <td>NaN</td>\n",
       "      <td>0.0</td>\n",
       "      <td>9.75</td>\n",
       "      <td>1</td>\n",
       "      <td>2.0</td>\n",
       "      <td>20.00000</td>\n",
       "    </tr>\n",
       "    <tr>\n",
       "      <th>1</th>\n",
       "      <td>2</td>\n",
       "      <td>2015-09-01 00:04:20</td>\n",
       "      <td>2015-09-01 00:04:24</td>\n",
       "      <td>N</td>\n",
       "      <td>5</td>\n",
       "      <td>-74.010796</td>\n",
       "      <td>40.912216</td>\n",
       "      <td>-74.010780</td>\n",
       "      <td>40.912212</td>\n",
       "      <td>1</td>\n",
       "      <td>0.00</td>\n",
       "      <td>45.0</td>\n",
       "      <td>0.0</td>\n",
       "      <td>0.0</td>\n",
       "      <td>0.00</td>\n",
       "      <td>0.0</td>\n",
       "      <td>NaN</td>\n",
       "      <td>0.0</td>\n",
       "      <td>45.00</td>\n",
       "      <td>1</td>\n",
       "      <td>2.0</td>\n",
       "      <td>0.00000</td>\n",
       "    </tr>\n",
       "    <tr>\n",
       "      <th>2</th>\n",
       "      <td>2</td>\n",
       "      <td>2015-09-01 00:01:50</td>\n",
       "      <td>2015-09-01 00:04:24</td>\n",
       "      <td>N</td>\n",
       "      <td>1</td>\n",
       "      <td>-73.921410</td>\n",
       "      <td>40.766708</td>\n",
       "      <td>-73.914413</td>\n",
       "      <td>40.764687</td>\n",
       "      <td>1</td>\n",
       "      <td>0.59</td>\n",
       "      <td>4.0</td>\n",
       "      <td>0.5</td>\n",
       "      <td>0.5</td>\n",
       "      <td>0.50</td>\n",
       "      <td>0.0</td>\n",
       "      <td>NaN</td>\n",
       "      <td>0.3</td>\n",
       "      <td>5.80</td>\n",
       "      <td>1</td>\n",
       "      <td>1.0</td>\n",
       "      <td>8.62069</td>\n",
       "    </tr>\n",
       "    <tr>\n",
       "      <th>3</th>\n",
       "      <td>2</td>\n",
       "      <td>2015-09-01 00:02:36</td>\n",
       "      <td>2015-09-01 00:06:42</td>\n",
       "      <td>N</td>\n",
       "      <td>1</td>\n",
       "      <td>-73.921387</td>\n",
       "      <td>40.766678</td>\n",
       "      <td>-73.931427</td>\n",
       "      <td>40.771584</td>\n",
       "      <td>1</td>\n",
       "      <td>0.74</td>\n",
       "      <td>5.0</td>\n",
       "      <td>0.5</td>\n",
       "      <td>0.5</td>\n",
       "      <td>0.00</td>\n",
       "      <td>0.0</td>\n",
       "      <td>NaN</td>\n",
       "      <td>0.3</td>\n",
       "      <td>6.30</td>\n",
       "      <td>2</td>\n",
       "      <td>1.0</td>\n",
       "      <td>0.00000</td>\n",
       "    </tr>\n",
       "    <tr>\n",
       "      <th>4</th>\n",
       "      <td>2</td>\n",
       "      <td>2015-09-01 00:00:14</td>\n",
       "      <td>2015-09-01 00:04:20</td>\n",
       "      <td>N</td>\n",
       "      <td>1</td>\n",
       "      <td>-73.955482</td>\n",
       "      <td>40.714046</td>\n",
       "      <td>-73.944412</td>\n",
       "      <td>40.714729</td>\n",
       "      <td>1</td>\n",
       "      <td>0.61</td>\n",
       "      <td>5.0</td>\n",
       "      <td>0.5</td>\n",
       "      <td>0.5</td>\n",
       "      <td>0.00</td>\n",
       "      <td>0.0</td>\n",
       "      <td>NaN</td>\n",
       "      <td>0.3</td>\n",
       "      <td>6.30</td>\n",
       "      <td>2</td>\n",
       "      <td>1.0</td>\n",
       "      <td>0.00000</td>\n",
       "    </tr>\n",
       "  </tbody>\n",
       "</table>\n",
       "</div>"
      ],
      "text/plain": [
       "   VendorID lpep_pickup_datetime Lpep_dropoff_datetime Store_and_fwd_flag  RateCodeID  Pickup_longitude  Pickup_latitude  Dropoff_longitude  Dropoff_latitude  Passenger_count  Trip_distance  Fare_amount  Extra  MTA_tax  Tip_amount  Tolls_amount  Ehail_fee  improvement_surcharge  Total_amount  Payment_type  Trip_type   Tip_percent\n",
       "0         2  2015-09-01 00:02:34   2015-09-01 00:02:38                  N           5        -73.979485        40.684956         -73.979431         40.685020                1           0.00          7.8    0.0      0.0        1.95           0.0        NaN                    0.0          9.75             1         2.0     20.00000\n",
       "1         2  2015-09-01 00:04:20   2015-09-01 00:04:24                  N           5        -74.010796        40.912216         -74.010780         40.912212                1           0.00         45.0    0.0      0.0        0.00           0.0        NaN                    0.0         45.00             1         2.0      0.00000\n",
       "2         2  2015-09-01 00:01:50   2015-09-01 00:04:24                  N           1        -73.921410        40.766708         -73.914413         40.764687                1           0.59          4.0    0.5      0.5        0.50           0.0        NaN                    0.3          5.80             1         1.0      8.62069\n",
       "3         2  2015-09-01 00:02:36   2015-09-01 00:06:42                  N           1        -73.921387        40.766678         -73.931427         40.771584                1           0.74          5.0    0.5      0.5        0.00           0.0        NaN                    0.3          6.30             2         1.0      0.00000\n",
       "4         2  2015-09-01 00:00:14   2015-09-01 00:04:20                  N           1        -73.955482        40.714046         -73.944412         40.714729                1           0.61          5.0    0.5      0.5        0.00           0.0        NaN                    0.3          6.30             2         1.0      0.00000"
      ]
     },
     "execution_count": 41,
     "metadata": {},
     "output_type": "execute_result"
    }
   ],
   "source": [
    "q4_data[\"Tip_percent\"] = q4_data.apply(lambda row: 100*row[\"Tip_amount\"]/row[\"Total_amount\"] if row[\"Total_amount\"]>0 else np.NAN, axis=1)\n",
    "q4_data.head()"
   ]
  },
  {
   "cell_type": "markdown",
   "metadata": {},
   "source": [
    "Plot the distribution of tip as percent of total amount."
   ]
  },
  {
   "cell_type": "code",
   "execution_count": 47,
   "metadata": {},
   "outputs": [
    {
     "data": {
      "image/png": "[encoded data removed]",
      "text/plain": [
       "<matplotlib.figure.Figure at 0x130fe96d8>"
      ]
     },
     "metadata": {},
     "output_type": "display_data"
    }
   ],
   "source": [
    "plt.figure(figsize=(10, 6))\n",
    "plt.hist(q4_data[q4_data[\"Tip_percent\"]>0][\"Tip_percent\"], alpha=0.7, bins=50)\n",
    "plt.title(\"Distribution of tip percent (with outliers)\", fontsize=15)\n",
    "plt.xlabel(\"Tip percent %\", fontsize=15)\n",
    "plt.ylabel(\"Frequency\", fontsize=15)\n",
    "plt.xticks(fontsize=15)\n",
    "plt.yticks(fontsize=15)\n",
    "plt.show()"
   ]
  },
  {
   "cell_type": "markdown",
   "metadata": {},
   "source": [
    "It can be seen that most tips are higher than 15% but less than 20% of the total amount. "
   ]
  },
  {
   "cell_type": "markdown",
   "metadata": {},
   "source": [
    "### 4.2 Build a predictive model for tip as a percentage of the total fare"
   ]
  },
  {
   "cell_type": "markdown",
   "metadata": {},
   "source": [
    "### - Data Cleaning"
   ]
  },
  {
   "cell_type": "markdown",
   "metadata": {},
   "source": [
    "- **Remove white spaces in attribute names**"
   ]
  },
  {
   "cell_type": "code",
   "execution_count": 48,
   "metadata": {
    "collapsed": true
   },
   "outputs": [],
   "source": [
    "q4_data.columns = q4_data.columns.str.strip()"
   ]
  },
  {
   "cell_type": "markdown",
   "metadata": {},
   "source": [
    "- **Remove transactions that were not paid by credit cards**"
   ]
  },
  {
   "cell_type": "markdown",
   "metadata": {},
   "source": [
    "According to the data dictionary, \"Tip_amount\" are for credit card tips only. Cash tips were not recorded. \"Total_amount\" doesn't include cash tips either. In other words, many 0's in the \"Tip_amount\" attribute are not real 0's. They are actually **missing values** because they were paid by cash and not recorded.\n",
    "\n",
    "<font color=red>**Because there is no data about the tips paid by cash, we need to limit the task to the prediction of tip as a percentage of the total fare paid by credit card.**</font>"
   ]
  },
  {
   "cell_type": "markdown",
   "metadata": {},
   "source": [
    "Remove transactions not paid by credit cards and drop the payment type variable."
   ]
  },
  {
   "cell_type": "code",
   "execution_count": 49,
   "metadata": {},
   "outputs": [
    {
     "name": "stdout",
     "output_type": "stream",
     "text": [
      "793639 samples have been removed from the data.\n"
     ]
    }
   ],
   "source": [
    "q4_data = q4_data[q4_data[\"Payment_type\"]==1]\n",
    "q4_data.drop([\"Payment_type\"], axis=1, inplace=True)\n",
    "print(\"%s samples have been removed from the data.\" % (len(raw_data) - len(q4_data)))"
   ]
  },
  {
   "cell_type": "markdown",
   "metadata": {},
   "source": [
    "- **Handle missing values**"
   ]
  },
  {
   "cell_type": "code",
   "execution_count": 50,
   "metadata": {},
   "outputs": [
    {
     "data": {
      "text/plain": [
       "VendorID                      0\n",
       "lpep_pickup_datetime          0\n",
       "Lpep_dropoff_datetime         0\n",
       "Store_and_fwd_flag            0\n",
       "RateCodeID                    0\n",
       "Pickup_longitude              0\n",
       "Pickup_latitude               0\n",
       "Dropoff_longitude             0\n",
       "Dropoff_latitude              0\n",
       "Passenger_count               0\n",
       "Trip_distance                 0\n",
       "Fare_amount                   0\n",
       "Extra                         0\n",
       "MTA_tax                       0\n",
       "Tip_amount                    0\n",
       "Tolls_amount                  0\n",
       "Ehail_fee                701287\n",
       "improvement_surcharge         0\n",
       "Total_amount                  0\n",
       "Trip_type                     3\n",
       "Tip_percent                 323\n",
       "dtype: int64"
      ]
     },
     "execution_count": 50,
     "metadata": {},
     "output_type": "execute_result"
    }
   ],
   "source": [
    "q4_data.isnull().sum()"
   ]
  },
  {
   "cell_type": "markdown",
   "metadata": {},
   "source": [
    "It can be seen the variable \"Ehail_fee\" doesn't have any values and should be dropped. 3 transactions have missing \"Trip_type\". The derived variable \"Tip_percent\" has 323 missing values because the corresponding \"Total_amount\" is ≤ 0. They should be removed."
   ]
  },
  {
   "cell_type": "code",
   "execution_count": 51,
   "metadata": {},
   "outputs": [
    {
     "data": {
      "text/plain": [
       "(700961, 20)"
      ]
     },
     "execution_count": 51,
     "metadata": {},
     "output_type": "execute_result"
    }
   ],
   "source": [
    "q4_data.drop([\"Ehail_fee\"], axis=1, inplace=True)\n",
    "q4_data.dropna(subset=[\"Trip_type\"], inplace=True)\n",
    "q4_data.dropna(subset=[\"Tip_percent\"], inplace=True)\n",
    "q4_data.shape"
   ]
  },
  {
   "cell_type": "markdown",
   "metadata": {},
   "source": [
    "- **Remove redundent variables**"
   ]
  },
  {
   "cell_type": "markdown",
   "metadata": {},
   "source": [
    "Because the task is to predict the tip as a percentage of the total fare, we need to remove \"Tip_amount\" from the data. Otherwise, the algorithm will easily learn to calculate the tip percentage by a simple math. In addition, \"Total_amount\" is the sum of \"Fare_amount\", \"Extra\", “MTA_tax\", \"Tip_amount\", \"Tolls_amount\", and \"improvement_surcharge\". It's possible to get the tip by knowing other fees. Therefore, \"Total_amount\" should be removed, too. "
   ]
  },
  {
   "cell_type": "code",
   "execution_count": 52,
   "metadata": {},
   "outputs": [
    {
     "data": {
      "text/plain": [
       "(700961, 18)"
      ]
     },
     "execution_count": 52,
     "metadata": {},
     "output_type": "execute_result"
    }
   ],
   "source": [
    "q4_data.drop([\"Tip_amount\",\"Total_amount\"], axis=1, inplace=True)\n",
    "q4_data.shape"
   ]
  },
  {
   "cell_type": "markdown",
   "metadata": {},
   "source": [
    "- **Remove transactions with error data**"
   ]
  },
  {
   "cell_type": "markdown",
   "metadata": {},
   "source": [
    "Below are the criterion of the numerical variables. \n",
    "\n",
    "1. Passenger_count, Trip_distance, Fare_amount should be > 0. \n",
    "2. Extra, MTA_tax, Tolls_amount, Tip_percent, improvement_surcharge should be ≥ 0. \n",
    "3. Dropoff time should be later than pickup time. \n",
    "4. Dropoff location should be different from the pickup location. \n",
    "\n",
    "Remove transactions don't meet these criterion."
   ]
  },
  {
   "cell_type": "code",
   "execution_count": 53,
   "metadata": {},
   "outputs": [
    {
     "data": {
      "text/plain": [
       "(691476, 18)"
      ]
     },
     "execution_count": 53,
     "metadata": {},
     "output_type": "execute_result"
    }
   ],
   "source": [
    "q4_data = q4_data[(q4_data[\"Passenger_count\"]>0)&(q4_data[\"Trip_distance\"]>0)&(q4_data[\"Fare_amount\"]>0)\n",
    "            &(q4_data[\"Extra\"]>=0)&(q4_data[\"MTA_tax\"]>=0)&(q4_data[\"Tip_percent\"]>=0)&(q4_data[\"Tolls_amount\"]>=0)\n",
    "            &(q4_data[\"improvement_surcharge\"]>=0)&(q4_data[\"Lpep_dropoff_datetime\"]>q4_data[\"lpep_pickup_datetime\"])\n",
    "            &(q4_data[\"Dropoff_latitude\"]!=q4_data[\"Pickup_latitude\"])\n",
    "            &(q4_data[\"Dropoff_longitude\"]!=q4_data[\"Pickup_longitude\"])]\n",
    "q4_data.shape"
   ]
  },
  {
   "cell_type": "markdown",
   "metadata": {},
   "source": [
    "- **Handle undocumented categorical variable levels**"
   ]
  },
  {
   "cell_type": "markdown",
   "metadata": {},
   "source": [
    "Plot categorical variables to check if there are any undocumented levels. "
   ]
  },
  {
   "cell_type": "code",
   "execution_count": 54,
   "metadata": {},
   "outputs": [
    {
     "data": {
      "image/png": "[encoded data removed]",
      "text/plain": [
       "<matplotlib.figure.Figure at 0x1313cea90>"
      ]
     },
     "metadata": {},
     "output_type": "display_data"
    }
   ],
   "source": [
    "categorical_columns = [\"VendorID\", \"Store_and_fwd_flag\", \"RateCodeID\", \"Trip_type\"]\n",
    "fig, axes = plt.subplots(1, 4, figsize=(15, 5))\n",
    "for i, ax in enumerate(fig.axes):\n",
    "    if i < len(q4_data[categorical_columns].columns):\n",
    "        ax.set_xticklabels(ax.xaxis.get_majorticklabels())\n",
    "        sns.countplot(x=q4_data[categorical_columns].columns[i], alpha=0.7, data=q4_data[categorical_columns], ax=ax)\n",
    "fig.tight_layout()"
   ]
  },
  {
   "cell_type": "markdown",
   "metadata": {},
   "source": [
    "The levels are all documented. The \"Store_and_fwd_flag\", \"RateCodeID\", and \"Trip_type\" are very skewed. In this case, keep these 3 skewed categorical variables and let the algorithm to select variables later. "
   ]
  },
  {
   "cell_type": "markdown",
   "metadata": {},
   "source": [
    "Make a copy of the cleaned data."
   ]
  },
  {
   "cell_type": "code",
   "execution_count": 83,
   "metadata": {
    "collapsed": true
   },
   "outputs": [],
   "source": [
    "q4_data_cleaned = q4_data.copy()"
   ]
  },
  {
   "cell_type": "markdown",
   "metadata": {},
   "source": [
    "### **- Feature Engineering**"
   ]
  },
  {
   "cell_type": "markdown",
   "metadata": {},
   "source": [
    "- **Parse pickup and dropoff times and create more time features including hour_of_day, day_of_week, day_of_month, duration_of_trip in hours, and avg_speed in mph.**"
   ]
  },
  {
   "cell_type": "markdown",
   "metadata": {},
   "source": [
    "Create a functon to parse the pickup and dropoff times and create new time-related variables. <font color=red>**Dropoff time was used to represent the time of a trip**</font>. "
   ]
  },
  {
   "cell_type": "code",
   "execution_count": 56,
   "metadata": {
    "collapsed": true
   },
   "outputs": [],
   "source": [
    "def datetime_parser(df_row):\n",
    "    pickup_obj = datetime.strptime(df_row[\"lpep_pickup_datetime\"], \"%Y-%m-%d %H:%M:%S\")\n",
    "    dropoff_obj = datetime.strptime(df_row[\"Lpep_dropoff_datetime\"], \"%Y-%m-%d %H:%M:%S\")\n",
    "    hour_of_day = dropoff_obj.hour\n",
    "    day_of_week = dropoff_obj.weekday() + 1 # It indexes Monday as 0. Need to add 1. \n",
    "    day_of_month = dropoff_obj.day\n",
    "    duration_of_trip = ((dropoff_obj - pickup_obj)/timedelta(minutes=1))/60 # calculate the duration in hours\n",
    "    avg_speed = df_row[\"Trip_distance\"]/duration_of_trip # get speed in mph\n",
    "\n",
    "    return (hour_of_day, day_of_week, day_of_month, duration_of_trip, avg_speed)"
   ]
  },
  {
   "cell_type": "code",
   "execution_count": 84,
   "metadata": {},
   "outputs": [
    {
     "data": {
      "text/html": [
       "<div>\n",
       "<table border=\"1\" class=\"dataframe\">\n",
       "  <thead>\n",
       "    <tr style=\"text-align: right;\">\n",
       "      <th></th>\n",
       "      <th>VendorID</th>\n",
       "      <th>Store_and_fwd_flag</th>\n",
       "      <th>RateCodeID</th>\n",
       "      <th>Pickup_longitude</th>\n",
       "      <th>Pickup_latitude</th>\n",
       "      <th>Dropoff_longitude</th>\n",
       "      <th>Dropoff_latitude</th>\n",
       "      <th>Passenger_count</th>\n",
       "      <th>Trip_distance</th>\n",
       "      <th>Fare_amount</th>\n",
       "      <th>Extra</th>\n",
       "      <th>MTA_tax</th>\n",
       "      <th>Tolls_amount</th>\n",
       "      <th>improvement_surcharge</th>\n",
       "      <th>Trip_type</th>\n",
       "      <th>Tip_percent</th>\n",
       "      <th>Hour_of_day</th>\n",
       "      <th>Day_of_week</th>\n",
       "      <th>Day_of_month</th>\n",
       "      <th>Duration_of_trip</th>\n",
       "      <th>Avg_speed</th>\n",
       "    </tr>\n",
       "  </thead>\n",
       "  <tbody>\n",
       "    <tr>\n",
       "      <th>2</th>\n",
       "      <td>2</td>\n",
       "      <td>N</td>\n",
       "      <td>1</td>\n",
       "      <td>-73.921410</td>\n",
       "      <td>40.766708</td>\n",
       "      <td>-73.914413</td>\n",
       "      <td>40.764687</td>\n",
       "      <td>1</td>\n",
       "      <td>0.59</td>\n",
       "      <td>4.0</td>\n",
       "      <td>0.5</td>\n",
       "      <td>0.5</td>\n",
       "      <td>0.0</td>\n",
       "      <td>0.3</td>\n",
       "      <td>1.0</td>\n",
       "      <td>8.620690</td>\n",
       "      <td>0.0</td>\n",
       "      <td>2.0</td>\n",
       "      <td>1.0</td>\n",
       "      <td>0.042778</td>\n",
       "      <td>13.792208</td>\n",
       "    </tr>\n",
       "    <tr>\n",
       "      <th>5</th>\n",
       "      <td>2</td>\n",
       "      <td>N</td>\n",
       "      <td>1</td>\n",
       "      <td>-73.945297</td>\n",
       "      <td>40.808186</td>\n",
       "      <td>-73.937668</td>\n",
       "      <td>40.821198</td>\n",
       "      <td>1</td>\n",
       "      <td>1.07</td>\n",
       "      <td>5.5</td>\n",
       "      <td>0.5</td>\n",
       "      <td>0.5</td>\n",
       "      <td>0.0</td>\n",
       "      <td>0.3</td>\n",
       "      <td>1.0</td>\n",
       "      <td>16.666667</td>\n",
       "      <td>0.0</td>\n",
       "      <td>2.0</td>\n",
       "      <td>1.0</td>\n",
       "      <td>0.078056</td>\n",
       "      <td>13.708185</td>\n",
       "    </tr>\n",
       "    <tr>\n",
       "      <th>6</th>\n",
       "      <td>2</td>\n",
       "      <td>N</td>\n",
       "      <td>1</td>\n",
       "      <td>-73.890877</td>\n",
       "      <td>40.746426</td>\n",
       "      <td>-73.876923</td>\n",
       "      <td>40.756306</td>\n",
       "      <td>1</td>\n",
       "      <td>1.43</td>\n",
       "      <td>6.5</td>\n",
       "      <td>0.5</td>\n",
       "      <td>0.5</td>\n",
       "      <td>0.0</td>\n",
       "      <td>0.3</td>\n",
       "      <td>1.0</td>\n",
       "      <td>0.000000</td>\n",
       "      <td>0.0</td>\n",
       "      <td>2.0</td>\n",
       "      <td>1.0</td>\n",
       "      <td>0.082778</td>\n",
       "      <td>17.275168</td>\n",
       "    </tr>\n",
       "    <tr>\n",
       "      <th>8</th>\n",
       "      <td>2</td>\n",
       "      <td>N</td>\n",
       "      <td>1</td>\n",
       "      <td>-73.963150</td>\n",
       "      <td>40.693829</td>\n",
       "      <td>-73.956787</td>\n",
       "      <td>40.680531</td>\n",
       "      <td>1</td>\n",
       "      <td>1.33</td>\n",
       "      <td>6.0</td>\n",
       "      <td>0.5</td>\n",
       "      <td>0.5</td>\n",
       "      <td>0.0</td>\n",
       "      <td>0.3</td>\n",
       "      <td>1.0</td>\n",
       "      <td>16.666667</td>\n",
       "      <td>0.0</td>\n",
       "      <td>2.0</td>\n",
       "      <td>1.0</td>\n",
       "      <td>0.078889</td>\n",
       "      <td>16.859155</td>\n",
       "    </tr>\n",
       "    <tr>\n",
       "      <th>11</th>\n",
       "      <td>2</td>\n",
       "      <td>N</td>\n",
       "      <td>1</td>\n",
       "      <td>-73.905540</td>\n",
       "      <td>40.772526</td>\n",
       "      <td>-73.895363</td>\n",
       "      <td>40.768963</td>\n",
       "      <td>1</td>\n",
       "      <td>0.70</td>\n",
       "      <td>4.0</td>\n",
       "      <td>0.5</td>\n",
       "      <td>0.5</td>\n",
       "      <td>0.0</td>\n",
       "      <td>0.3</td>\n",
       "      <td>1.0</td>\n",
       "      <td>16.666667</td>\n",
       "      <td>0.0</td>\n",
       "      <td>2.0</td>\n",
       "      <td>1.0</td>\n",
       "      <td>0.035000</td>\n",
       "      <td>20.000000</td>\n",
       "    </tr>\n",
       "  </tbody>\n",
       "</table>\n",
       "</div>"
      ],
      "text/plain": [
       "    VendorID Store_and_fwd_flag  RateCodeID  Pickup_longitude  Pickup_latitude  Dropoff_longitude  Dropoff_latitude  Passenger_count  Trip_distance  Fare_amount  Extra  MTA_tax  Tolls_amount  improvement_surcharge  Trip_type  Tip_percent  Hour_of_day  Day_of_week  Day_of_month  Duration_of_trip  Avg_speed\n",
       "2          2                  N           1        -73.921410        40.766708         -73.914413         40.764687                1           0.59          4.0    0.5      0.5           0.0                    0.3        1.0     8.620690          0.0          2.0           1.0          0.042778  13.792208\n",
       "5          2                  N           1        -73.945297        40.808186         -73.937668         40.821198                1           1.07          5.5    0.5      0.5           0.0                    0.3        1.0    16.666667          0.0          2.0           1.0          0.078056  13.708185\n",
       "6          2                  N           1        -73.890877        40.746426         -73.876923         40.756306                1           1.43          6.5    0.5      0.5           0.0                    0.3        1.0     0.000000          0.0          2.0           1.0          0.082778  17.275168\n",
       "8          2                  N           1        -73.963150        40.693829         -73.956787         40.680531                1           1.33          6.0    0.5      0.5           0.0                    0.3        1.0    16.666667          0.0          2.0           1.0          0.078889  16.859155\n",
       "11         2                  N           1        -73.905540        40.772526         -73.895363         40.768963                1           0.70          4.0    0.5      0.5           0.0                    0.3        1.0    16.666667          0.0          2.0           1.0          0.035000  20.000000"
      ]
     },
     "execution_count": 84,
     "metadata": {},
     "output_type": "execute_result"
    }
   ],
   "source": [
    "time_columns = [\"Hour_of_day\",\"Day_of_week\", \"Day_of_month\", \"Duration_of_trip\", \"Avg_speed\"]\n",
    "q4_data_cleaned[time_columns] = q4_data_cleaned.apply(lambda row: pd.Series(datetime_parser(row)), axis=1)\n",
    "q4_data_cleaned.drop([\"lpep_pickup_datetime\",\"Lpep_dropoff_datetime\"], axis=1, inplace=True)\n",
    "q4_data_cleaned.head()"
   ]
  },
  {
   "cell_type": "markdown",
   "metadata": {},
   "source": [
    "- **Transform the longitude and latitude of pickup and dropoff into directions.**"
   ]
  },
  {
   "cell_type": "markdown",
   "metadata": {},
   "source": [
    "Latitude and logitude are spherical coordinates and cannot be directly used as continuous variables in a machine learning model because they are not ordinal. They provide the relative positions of 2 points and it's possible to get the direction of the dropoff point relative to the pickup point.\n",
    "\n",
    "The following function to get direction is modified based on [Stackoverflow](https://stackoverflow.com/a/22740092/4252941). The directions are grouped into 4 quadrants."
   ]
  },
  {
   "cell_type": "code",
   "execution_count": 81,
   "metadata": {},
   "outputs": [],
   "source": [
    "def get_direction(df_row):\n",
    "    # dropoff point\n",
    "    x1 = np.deg2rad(df_row[\"Dropoff_latitude\"]);\n",
    "    y1 = np.deg2rad(df_row[\"Dropoff_longitude\"]);\n",
    "    # pickup point\n",
    "    x2 = np.deg2rad(df_row[\"Pickup_latitude\"]);\n",
    "    y2 = np.deg2rad(df_row[\"Pickup_longitude\"]);\n",
    "\n",
    "    radians = math.atan2((y1 - y2), (x1 - x2));\n",
    "    compassReading = radians * (180 / math.pi);\n",
    "    # NE, SE, SW, NW\n",
    "    quadrantIndictor = [0, 0, 0, 0];\n",
    "    coordIndex = round(compassReading / 90);\n",
    "    if coordIndex < 0:\n",
    "        coordIndex = coordIndex + 4\n",
    "    \n",
    "    if coordIndex == 4:\n",
    "        coordIndex = 0\n",
    "        \n",
    "    quadrantIndictor[coordIndex] = 1\n",
    "    \n",
    "    return tuple(quadrantIndictor) "
   ]
  },
  {
   "cell_type": "code",
   "execution_count": 85,
   "metadata": {},
   "outputs": [
    {
     "data": {
      "text/html": [
       "<div>\n",
       "<table border=\"1\" class=\"dataframe\">\n",
       "  <thead>\n",
       "    <tr style=\"text-align: right;\">\n",
       "      <th></th>\n",
       "      <th>VendorID</th>\n",
       "      <th>Store_and_fwd_flag</th>\n",
       "      <th>RateCodeID</th>\n",
       "      <th>Passenger_count</th>\n",
       "      <th>Trip_distance</th>\n",
       "      <th>Fare_amount</th>\n",
       "      <th>Extra</th>\n",
       "      <th>MTA_tax</th>\n",
       "      <th>Tolls_amount</th>\n",
       "      <th>improvement_surcharge</th>\n",
       "      <th>Trip_type</th>\n",
       "      <th>Tip_percent</th>\n",
       "      <th>Hour_of_day</th>\n",
       "      <th>Day_of_week</th>\n",
       "      <th>Day_of_month</th>\n",
       "      <th>Duration_of_trip</th>\n",
       "      <th>Avg_speed</th>\n",
       "      <th>NE</th>\n",
       "      <th>SE</th>\n",
       "      <th>SW</th>\n",
       "      <th>NW</th>\n",
       "    </tr>\n",
       "  </thead>\n",
       "  <tbody>\n",
       "    <tr>\n",
       "      <th>2</th>\n",
       "      <td>2</td>\n",
       "      <td>N</td>\n",
       "      <td>1</td>\n",
       "      <td>1</td>\n",
       "      <td>0.59</td>\n",
       "      <td>4.0</td>\n",
       "      <td>0.5</td>\n",
       "      <td>0.5</td>\n",
       "      <td>0.0</td>\n",
       "      <td>0.3</td>\n",
       "      <td>1.0</td>\n",
       "      <td>8.620690</td>\n",
       "      <td>0.0</td>\n",
       "      <td>2.0</td>\n",
       "      <td>1.0</td>\n",
       "      <td>0.042778</td>\n",
       "      <td>13.792208</td>\n",
       "      <td>0</td>\n",
       "      <td>1</td>\n",
       "      <td>0</td>\n",
       "      <td>0</td>\n",
       "    </tr>\n",
       "    <tr>\n",
       "      <th>5</th>\n",
       "      <td>2</td>\n",
       "      <td>N</td>\n",
       "      <td>1</td>\n",
       "      <td>1</td>\n",
       "      <td>1.07</td>\n",
       "      <td>5.5</td>\n",
       "      <td>0.5</td>\n",
       "      <td>0.5</td>\n",
       "      <td>0.0</td>\n",
       "      <td>0.3</td>\n",
       "      <td>1.0</td>\n",
       "      <td>16.666667</td>\n",
       "      <td>0.0</td>\n",
       "      <td>2.0</td>\n",
       "      <td>1.0</td>\n",
       "      <td>0.078056</td>\n",
       "      <td>13.708185</td>\n",
       "      <td>1</td>\n",
       "      <td>0</td>\n",
       "      <td>0</td>\n",
       "      <td>0</td>\n",
       "    </tr>\n",
       "    <tr>\n",
       "      <th>6</th>\n",
       "      <td>2</td>\n",
       "      <td>N</td>\n",
       "      <td>1</td>\n",
       "      <td>1</td>\n",
       "      <td>1.43</td>\n",
       "      <td>6.5</td>\n",
       "      <td>0.5</td>\n",
       "      <td>0.5</td>\n",
       "      <td>0.0</td>\n",
       "      <td>0.3</td>\n",
       "      <td>1.0</td>\n",
       "      <td>0.000000</td>\n",
       "      <td>0.0</td>\n",
       "      <td>2.0</td>\n",
       "      <td>1.0</td>\n",
       "      <td>0.082778</td>\n",
       "      <td>17.275168</td>\n",
       "      <td>0</td>\n",
       "      <td>1</td>\n",
       "      <td>0</td>\n",
       "      <td>0</td>\n",
       "    </tr>\n",
       "    <tr>\n",
       "      <th>8</th>\n",
       "      <td>2</td>\n",
       "      <td>N</td>\n",
       "      <td>1</td>\n",
       "      <td>1</td>\n",
       "      <td>1.33</td>\n",
       "      <td>6.0</td>\n",
       "      <td>0.5</td>\n",
       "      <td>0.5</td>\n",
       "      <td>0.0</td>\n",
       "      <td>0.3</td>\n",
       "      <td>1.0</td>\n",
       "      <td>16.666667</td>\n",
       "      <td>0.0</td>\n",
       "      <td>2.0</td>\n",
       "      <td>1.0</td>\n",
       "      <td>0.078889</td>\n",
       "      <td>16.859155</td>\n",
       "      <td>0</td>\n",
       "      <td>0</td>\n",
       "      <td>1</td>\n",
       "      <td>0</td>\n",
       "    </tr>\n",
       "    <tr>\n",
       "      <th>11</th>\n",
       "      <td>2</td>\n",
       "      <td>N</td>\n",
       "      <td>1</td>\n",
       "      <td>1</td>\n",
       "      <td>0.70</td>\n",
       "      <td>4.0</td>\n",
       "      <td>0.5</td>\n",
       "      <td>0.5</td>\n",
       "      <td>0.0</td>\n",
       "      <td>0.3</td>\n",
       "      <td>1.0</td>\n",
       "      <td>16.666667</td>\n",
       "      <td>0.0</td>\n",
       "      <td>2.0</td>\n",
       "      <td>1.0</td>\n",
       "      <td>0.035000</td>\n",
       "      <td>20.000000</td>\n",
       "      <td>0</td>\n",
       "      <td>1</td>\n",
       "      <td>0</td>\n",
       "      <td>0</td>\n",
       "    </tr>\n",
       "  </tbody>\n",
       "</table>\n",
       "</div>"
      ],
      "text/plain": [
       "    VendorID Store_and_fwd_flag  RateCodeID  Passenger_count  Trip_distance  Fare_amount  Extra  MTA_tax  Tolls_amount  improvement_surcharge  Trip_type  Tip_percent  Hour_of_day  Day_of_week  Day_of_month  Duration_of_trip  Avg_speed  NE  SE  SW  NW\n",
       "2          2                  N           1                1           0.59          4.0    0.5      0.5           0.0                    0.3        1.0     8.620690          0.0          2.0           1.0          0.042778  13.792208   0   1   0   0\n",
       "5          2                  N           1                1           1.07          5.5    0.5      0.5           0.0                    0.3        1.0    16.666667          0.0          2.0           1.0          0.078056  13.708185   1   0   0   0\n",
       "6          2                  N           1                1           1.43          6.5    0.5      0.5           0.0                    0.3        1.0     0.000000          0.0          2.0           1.0          0.082778  17.275168   0   1   0   0\n",
       "8          2                  N           1                1           1.33          6.0    0.5      0.5           0.0                    0.3        1.0    16.666667          0.0          2.0           1.0          0.078889  16.859155   0   0   1   0\n",
       "11         2                  N           1                1           0.70          4.0    0.5      0.5           0.0                    0.3        1.0    16.666667          0.0          2.0           1.0          0.035000  20.000000   0   1   0   0"
      ]
     },
     "execution_count": 85,
     "metadata": {},
     "output_type": "execute_result"
    }
   ],
   "source": [
    "quadrantNames = [\"NE\", \"SE\", \"SW\", \"NW\"]\n",
    "q4_data_cleaned[quadrantNames] = q4_data_cleaned.apply(lambda row: pd.Series(get_direction(row)), axis=1)\n",
    "q4_data_cleaned.drop([\"Pickup_longitude\",\"Pickup_latitude\", \"Dropoff_longitude\", \"Dropoff_latitude\"], axis=1, inplace=True)\n",
    "q4_data_cleaned.head()"
   ]
  },
  {
   "cell_type": "markdown",
   "metadata": {},
   "source": [
    "<font color=red>**If I have enough time, I can create more features. It is possible to use the latitude and longitude to map with Census Bureau's data to get aggregated information about the socioeconomic factors (income, education level, occupation) and demographics data. It is also possible to map the location and time with historical weather data or local events (games, concerts, memorial events) to get more variables.**</font>"
   ]
  },
  {
   "cell_type": "markdown",
   "metadata": {},
   "source": [
    "- **One-hot encoding the categorical variables.**"
   ]
  },
  {
   "cell_type": "code",
   "execution_count": 88,
   "metadata": {},
   "outputs": [
    {
     "data": {
      "text/html": [
       "<div>\n",
       "<table border=\"1\" class=\"dataframe\">\n",
       "  <thead>\n",
       "    <tr style=\"text-align: right;\">\n",
       "      <th></th>\n",
       "      <th>Passenger_count</th>\n",
       "      <th>Trip_distance</th>\n",
       "      <th>Fare_amount</th>\n",
       "      <th>Extra</th>\n",
       "      <th>MTA_tax</th>\n",
       "      <th>Tolls_amount</th>\n",
       "      <th>improvement_surcharge</th>\n",
       "      <th>Tip_percent</th>\n",
       "      <th>Hour_of_day</th>\n",
       "      <th>Day_of_week</th>\n",
       "      <th>Day_of_month</th>\n",
       "      <th>Duration_of_trip</th>\n",
       "      <th>Avg_speed</th>\n",
       "      <th>NE</th>\n",
       "      <th>SE</th>\n",
       "      <th>SW</th>\n",
       "      <th>NW</th>\n",
       "      <th>VendorID_1</th>\n",
       "      <th>VendorID_2</th>\n",
       "      <th>Store_and_fwd_flag_N</th>\n",
       "      <th>Store_and_fwd_flag_Y</th>\n",
       "      <th>RateCodeID_1</th>\n",
       "      <th>RateCodeID_2</th>\n",
       "      <th>RateCodeID_3</th>\n",
       "      <th>RateCodeID_4</th>\n",
       "      <th>RateCodeID_5</th>\n",
       "      <th>Trip_type_1.0</th>\n",
       "      <th>Trip_type_2.0</th>\n",
       "    </tr>\n",
       "  </thead>\n",
       "  <tbody>\n",
       "    <tr>\n",
       "      <th>2</th>\n",
       "      <td>1</td>\n",
       "      <td>0.59</td>\n",
       "      <td>4.0</td>\n",
       "      <td>0.5</td>\n",
       "      <td>0.5</td>\n",
       "      <td>0.0</td>\n",
       "      <td>0.3</td>\n",
       "      <td>8.620690</td>\n",
       "      <td>0.0</td>\n",
       "      <td>2.0</td>\n",
       "      <td>1.0</td>\n",
       "      <td>0.042778</td>\n",
       "      <td>13.792208</td>\n",
       "      <td>0</td>\n",
       "      <td>1</td>\n",
       "      <td>0</td>\n",
       "      <td>0</td>\n",
       "      <td>0</td>\n",
       "      <td>1</td>\n",
       "      <td>1</td>\n",
       "      <td>0</td>\n",
       "      <td>1</td>\n",
       "      <td>0</td>\n",
       "      <td>0</td>\n",
       "      <td>0</td>\n",
       "      <td>0</td>\n",
       "      <td>1</td>\n",
       "      <td>0</td>\n",
       "    </tr>\n",
       "    <tr>\n",
       "      <th>5</th>\n",
       "      <td>1</td>\n",
       "      <td>1.07</td>\n",
       "      <td>5.5</td>\n",
       "      <td>0.5</td>\n",
       "      <td>0.5</td>\n",
       "      <td>0.0</td>\n",
       "      <td>0.3</td>\n",
       "      <td>16.666667</td>\n",
       "      <td>0.0</td>\n",
       "      <td>2.0</td>\n",
       "      <td>1.0</td>\n",
       "      <td>0.078056</td>\n",
       "      <td>13.708185</td>\n",
       "      <td>1</td>\n",
       "      <td>0</td>\n",
       "      <td>0</td>\n",
       "      <td>0</td>\n",
       "      <td>0</td>\n",
       "      <td>1</td>\n",
       "      <td>1</td>\n",
       "      <td>0</td>\n",
       "      <td>1</td>\n",
       "      <td>0</td>\n",
       "      <td>0</td>\n",
       "      <td>0</td>\n",
       "      <td>0</td>\n",
       "      <td>1</td>\n",
       "      <td>0</td>\n",
       "    </tr>\n",
       "    <tr>\n",
       "      <th>6</th>\n",
       "      <td>1</td>\n",
       "      <td>1.43</td>\n",
       "      <td>6.5</td>\n",
       "      <td>0.5</td>\n",
       "      <td>0.5</td>\n",
       "      <td>0.0</td>\n",
       "      <td>0.3</td>\n",
       "      <td>0.000000</td>\n",
       "      <td>0.0</td>\n",
       "      <td>2.0</td>\n",
       "      <td>1.0</td>\n",
       "      <td>0.082778</td>\n",
       "      <td>17.275168</td>\n",
       "      <td>0</td>\n",
       "      <td>1</td>\n",
       "      <td>0</td>\n",
       "      <td>0</td>\n",
       "      <td>0</td>\n",
       "      <td>1</td>\n",
       "      <td>1</td>\n",
       "      <td>0</td>\n",
       "      <td>1</td>\n",
       "      <td>0</td>\n",
       "      <td>0</td>\n",
       "      <td>0</td>\n",
       "      <td>0</td>\n",
       "      <td>1</td>\n",
       "      <td>0</td>\n",
       "    </tr>\n",
       "    <tr>\n",
       "      <th>8</th>\n",
       "      <td>1</td>\n",
       "      <td>1.33</td>\n",
       "      <td>6.0</td>\n",
       "      <td>0.5</td>\n",
       "      <td>0.5</td>\n",
       "      <td>0.0</td>\n",
       "      <td>0.3</td>\n",
       "      <td>16.666667</td>\n",
       "      <td>0.0</td>\n",
       "      <td>2.0</td>\n",
       "      <td>1.0</td>\n",
       "      <td>0.078889</td>\n",
       "      <td>16.859155</td>\n",
       "      <td>0</td>\n",
       "      <td>0</td>\n",
       "      <td>1</td>\n",
       "      <td>0</td>\n",
       "      <td>0</td>\n",
       "      <td>1</td>\n",
       "      <td>1</td>\n",
       "      <td>0</td>\n",
       "      <td>1</td>\n",
       "      <td>0</td>\n",
       "      <td>0</td>\n",
       "      <td>0</td>\n",
       "      <td>0</td>\n",
       "      <td>1</td>\n",
       "      <td>0</td>\n",
       "    </tr>\n",
       "    <tr>\n",
       "      <th>11</th>\n",
       "      <td>1</td>\n",
       "      <td>0.70</td>\n",
       "      <td>4.0</td>\n",
       "      <td>0.5</td>\n",
       "      <td>0.5</td>\n",
       "      <td>0.0</td>\n",
       "      <td>0.3</td>\n",
       "      <td>16.666667</td>\n",
       "      <td>0.0</td>\n",
       "      <td>2.0</td>\n",
       "      <td>1.0</td>\n",
       "      <td>0.035000</td>\n",
       "      <td>20.000000</td>\n",
       "      <td>0</td>\n",
       "      <td>1</td>\n",
       "      <td>0</td>\n",
       "      <td>0</td>\n",
       "      <td>0</td>\n",
       "      <td>1</td>\n",
       "      <td>1</td>\n",
       "      <td>0</td>\n",
       "      <td>1</td>\n",
       "      <td>0</td>\n",
       "      <td>0</td>\n",
       "      <td>0</td>\n",
       "      <td>0</td>\n",
       "      <td>1</td>\n",
       "      <td>0</td>\n",
       "    </tr>\n",
       "  </tbody>\n",
       "</table>\n",
       "</div>"
      ],
      "text/plain": [
       "    Passenger_count  Trip_distance  Fare_amount  Extra  MTA_tax  Tolls_amount  improvement_surcharge  Tip_percent  Hour_of_day  Day_of_week  Day_of_month  Duration_of_trip  Avg_speed  NE  SE  SW  NW  VendorID_1  VendorID_2  Store_and_fwd_flag_N  Store_and_fwd_flag_Y  RateCodeID_1  RateCodeID_2  RateCodeID_3  RateCodeID_4  RateCodeID_5  Trip_type_1.0  Trip_type_2.0\n",
       "2                 1           0.59          4.0    0.5      0.5           0.0                    0.3     8.620690          0.0          2.0           1.0          0.042778  13.792208   0   1   0   0           0           1                     1                     0             1             0             0             0             0              1              0\n",
       "5                 1           1.07          5.5    0.5      0.5           0.0                    0.3    16.666667          0.0          2.0           1.0          0.078056  13.708185   1   0   0   0           0           1                     1                     0             1             0             0             0             0              1              0\n",
       "6                 1           1.43          6.5    0.5      0.5           0.0                    0.3     0.000000          0.0          2.0           1.0          0.082778  17.275168   0   1   0   0           0           1                     1                     0             1             0             0             0             0              1              0\n",
       "8                 1           1.33          6.0    0.5      0.5           0.0                    0.3    16.666667          0.0          2.0           1.0          0.078889  16.859155   0   0   1   0           0           1                     1                     0             1             0             0             0             0              1              0\n",
       "11                1           0.70          4.0    0.5      0.5           0.0                    0.3    16.666667          0.0          2.0           1.0          0.035000  20.000000   0   1   0   0           0           1                     1                     0             1             0             0             0             0              1              0"
      ]
     },
     "execution_count": 88,
     "metadata": {},
     "output_type": "execute_result"
    }
   ],
   "source": [
    "cat_columns = [\"VendorID\", \"Store_and_fwd_flag\", \"RateCodeID\", \"Trip_type\"]\n",
    "q4_data_cleaned = pd.get_dummies(q4_data_cleaned, columns=cat_columns, drop_first=False)\n",
    "q4_data_cleaned.head()"
   ]
  },
  {
   "cell_type": "markdown",
   "metadata": {},
   "source": [
    "- **Check distributions of the derived numerical attributes**"
   ]
  },
  {
   "cell_type": "code",
   "execution_count": 89,
   "metadata": {},
   "outputs": [
    {
     "data": {
      "image/png": "[encoded data removed]",
      "text/plain": [
       "<matplotlib.figure.Figure at 0x117dc9908>"
      ]
     },
     "metadata": {},
     "output_type": "display_data"
    }
   ],
   "source": [
    "q4_data_cleaned[time_columns].hist(figsize=(15,10), bins=50, xlabelsize=8, ylabelsize=8);"
   ]
  },
  {
   "cell_type": "markdown",
   "metadata": {},
   "source": [
    "There are several findings:\n",
    "\n",
    "1. Some trips have an average speed far exceeding 65 mph, which is the speed limit of freeways and interstates in [New York](https://www.yourmechanic.com/article/new-york-speed-limits-laws-and-fines-by-valerie-mellema). There must be recording errors in the data of trip distance or time. These trips need to be removed. \n",
    "2. The frequency of trips has a weekly pattern. There are 4 major spikes of trip number in the \"day_of_month\" attribute. These 4 spikes correspond to Saturdays in September 2015 (9/5, 9/12, 9/19, 9/26). The distribution of \"day_of_week\" attribute has further confirmed this finding. Most people like to hang out on Saturday because they are free of work and have Sunday as backup. Another reason is that it is harder to finding a parking spot in NYC on weekends. Therefore, many people chose to take taxi. \n",
    "3. The frequency of trips has an hourly pattern. There is a spike in 8-9 am and another spike in 6-7 pm. This makes sense because these are the time people go to work and return from work. Some people will take taxi to go to work/home. \n",
    "4. There are outliers in \"duration_of_trip\". The longest trip time is 24 hours. Although it's possible to have a taxi trip this long but this cannot represent most trips. These outliers should be removed. "
   ]
  },
  {
   "cell_type": "markdown",
   "metadata": {
    "collapsed": true
   },
   "source": [
    "More than 99% of transactions are below 80 mph and shorter than 5 hours. Use these 2 criterion to remove outliers."
   ]
  },
  {
   "cell_type": "code",
   "execution_count": 86,
   "metadata": {},
   "outputs": [
    {
     "data": {
      "text/plain": [
       "0.9990209349276041"
      ]
     },
     "execution_count": 86,
     "metadata": {},
     "output_type": "execute_result"
    }
   ],
   "source": [
    "len(q4_data_cleaned[q4_data_cleaned[\"Avg_speed\"]<=80])/len(q4_data_cleaned)"
   ]
  },
  {
   "cell_type": "code",
   "execution_count": 87,
   "metadata": {},
   "outputs": [
    {
     "data": {
      "text/plain": [
       "0.9951191364559291"
      ]
     },
     "execution_count": 87,
     "metadata": {},
     "output_type": "execute_result"
    }
   ],
   "source": [
    "len(q4_data_cleaned[q4_data_cleaned[\"Duration_of_trip\"]<=5])/len(q4_data_cleaned)"
   ]
  },
  {
   "cell_type": "markdown",
   "metadata": {},
   "source": [
    "Remove the outliers in average speed and duration of trip."
   ]
  },
  {
   "cell_type": "code",
   "execution_count": 90,
   "metadata": {},
   "outputs": [
    {
     "data": {
      "text/plain": [
       "(687424, 28)"
      ]
     },
     "execution_count": 90,
     "metadata": {},
     "output_type": "execute_result"
    }
   ],
   "source": [
    "q4_data_cleaned = q4_data_cleaned[(q4_data_cleaned[\"Avg_speed\"]<=80)&(q4_data_cleaned[\"Duration_of_trip\"]<=5)]\n",
    "q4_data_cleaned.shape"
   ]
  },
  {
   "cell_type": "code",
   "execution_count": 91,
   "metadata": {},
   "outputs": [
    {
     "data": {
      "image/png": "[encoded data removed]",
      "text/plain": [
       "<matplotlib.figure.Figure at 0x1dcf81518>"
      ]
     },
     "metadata": {},
     "output_type": "display_data"
    }
   ],
   "source": [
    "q4_data_cleaned[[\"Avg_speed\",\"Duration_of_trip\"]].hist(figsize=(15,5), bins=50, xlabelsize=8, ylabelsize=8);"
   ]
  },
  {
   "cell_type": "markdown",
   "metadata": {},
   "source": [
    "After removing the outliers, the average speedn and duration of trip look much better."
   ]
  },
  {
   "cell_type": "code",
   "execution_count": 92,
   "metadata": {
    "collapsed": true
   },
   "outputs": [],
   "source": [
    "q4_data_preprocessed = q4_data_cleaned.copy()"
   ]
  },
  {
   "cell_type": "code",
   "execution_count": 93,
   "metadata": {},
   "outputs": [
    {
     "name": "stdout",
     "output_type": "stream",
     "text": [
      "The preprocessed data has 687424 samples and 28 variables.\n"
     ]
    }
   ],
   "source": [
    "print(\"The preprocessed data has %s samples and %s variables.\" % q4_data_preprocessed.shape)"
   ]
  },
  {
   "cell_type": "markdown",
   "metadata": {},
   "source": [
    "### - Feature Reduction"
   ]
  },
  {
   "cell_type": "markdown",
   "metadata": {},
   "source": [
    "- **Check pairwise correlations**"
   ]
  },
  {
   "cell_type": "markdown",
   "metadata": {},
   "source": [
    "This method will detect colinearity problems between a pair of variables. First plot the correlation matrix."
   ]
  },
  {
   "cell_type": "code",
   "execution_count": 95,
   "metadata": {},
   "outputs": [
    {
     "data": {
      "image/png": "[encoded data removed]",
      "text/plain": [
       "<matplotlib.figure.Figure at 0x119256518>"
      ]
     },
     "metadata": {},
     "output_type": "display_data"
    }
   ],
   "source": [
    "numerical_columns = ['Passenger_count', 'Trip_distance', 'Fare_amount', 'Extra', 'MTA_tax', 'Tolls_amount', \n",
    "                     'improvement_surcharge', 'Hour_of_day', 'Day_of_week', 'Day_of_month', \n",
    "                     'Duration_of_trip', 'Avg_speed']\n",
    "\n",
    "# get the correlation matrix\n",
    "corr_matrix = q4_data_preprocessed[numerical_columns].corr()\n",
    "# plot the upper triangle to reduce redundancy\n",
    "corr_matrix = corr_matrix.where(np.triu(np.ones(corr_matrix.shape)).astype(np.bool))\n",
    "plt.figure(figsize=(12, 9))\n",
    "sns.heatmap(corr_matrix, cmap='viridis', vmax=1.0, vmin=-1.0, linewidths=0.1, square=True, annot=True);"
   ]
  },
  {
   "cell_type": "markdown",
   "metadata": {},
   "source": [
    "Only explore variable pairs with strong correlations (|r| ≥ 0.7). "
   ]
  },
  {
   "cell_type": "code",
   "execution_count": 96,
   "metadata": {},
   "outputs": [
    {
     "data": {
      "text/html": [
       "<div>\n",
       "<table border=\"1\" class=\"dataframe\">\n",
       "  <thead>\n",
       "    <tr style=\"text-align: right;\">\n",
       "      <th></th>\n",
       "      <th>Variable_1</th>\n",
       "      <th>Variable_2</th>\n",
       "      <th>r</th>\n",
       "    </tr>\n",
       "  </thead>\n",
       "  <tbody>\n",
       "    <tr>\n",
       "      <th>0</th>\n",
       "      <td>Trip_distance</td>\n",
       "      <td>Fare_amount</td>\n",
       "      <td>0.936696</td>\n",
       "    </tr>\n",
       "    <tr>\n",
       "      <th>1</th>\n",
       "      <td>MTA_tax</td>\n",
       "      <td>improvement_surcharge</td>\n",
       "      <td>0.921393</td>\n",
       "    </tr>\n",
       "    <tr>\n",
       "      <th>2</th>\n",
       "      <td>Fare_amount</td>\n",
       "      <td>Duration_of_trip</td>\n",
       "      <td>0.827711</td>\n",
       "    </tr>\n",
       "    <tr>\n",
       "      <th>3</th>\n",
       "      <td>Trip_distance</td>\n",
       "      <td>Duration_of_trip</td>\n",
       "      <td>0.735778</td>\n",
       "    </tr>\n",
       "  </tbody>\n",
       "</table>\n",
       "</div>"
      ],
      "text/plain": [
       "      Variable_1             Variable_2         r\n",
       "0  Trip_distance            Fare_amount  0.936696\n",
       "1        MTA_tax  improvement_surcharge  0.921393\n",
       "2    Fare_amount       Duration_of_trip  0.827711\n",
       "3  Trip_distance       Duration_of_trip  0.735778"
      ]
     },
     "execution_count": 96,
     "metadata": {},
     "output_type": "execute_result"
    }
   ],
   "source": [
    "# convert the matrix into a list\n",
    "corr_list = corr_matrix.stack().reset_index()\n",
    "corr_list.columns = ['Variable_1','Variable_2','r']\n",
    "# only keep variable pairs with strong correlations (|r| ≥ 0.7)\n",
    "strong_corr = corr_list[((corr_list[\"r\"] >= 0.7) | (corr_list[\"r\"] <= -0.7)) & (corr_list[\"Variable_1\"] != corr_list[\"Variable_2\"])]\n",
    "strong_corr = strong_corr.sort_values([\"r\"], ascending=False)\n",
    "strong_corr.reset_index(drop=True,inplace=True)\n",
    "strong_corr"
   ]
  },
  {
   "cell_type": "markdown",
   "metadata": {},
   "source": [
    "These correlations are actually expected. The longer trip distance will have longer duration and higher fare amount. The MTA tax and improvement surchage are accessed by rules. A trip with higher MTA tax needs to pay more improvement surcharge. Based on r, we need to drop \"Fare_amount\", \"Duration_of_trip\", and \"MTA_tax\". "
   ]
  },
  {
   "cell_type": "code",
   "execution_count": 97,
   "metadata": {
    "collapsed": true
   },
   "outputs": [],
   "source": [
    "correlation_columns = [\"Fare_amount\", \"Duration_of_trip\", \"MTA_tax\"]\n",
    "q4_data_preprocessed.drop(correlation_columns, axis=1, inplace=True)\n",
    "numerical_columns = list(set(numerical_columns) - set(correlation_columns))"
   ]
  },
  {
   "cell_type": "markdown",
   "metadata": {},
   "source": [
    "- **Check variance inflation factor (VIF) among multiple numerical variables**"
   ]
  },
  {
   "cell_type": "markdown",
   "metadata": {},
   "source": [
    "This method can detect multicolinearity among multiple numerical variables. VIF > 10 indicates strong multicolinearity exists. The dropping of variables with high VIF is an iterative process. Everytime a varible is dropped, the VIF calculation will be preformed again. The following function to drop variables with high VIF is based on [StackExchange](https://stats.stackexchange.com/questions/155028/how-to-systematically-remove-collinear-variables-in-python/253620#253620) with some modifications."
   ]
  },
  {
   "cell_type": "code",
   "execution_count": 98,
   "metadata": {
    "collapsed": true
   },
   "outputs": [],
   "source": [
    "def drop_vif(df, thresh=10):\n",
    "    col_names = df.columns\n",
    "    variable_indices = np.arange(df.shape[1])\n",
    "    dropped=True\n",
    "    while dropped:\n",
    "        dropped=False\n",
    "        c = df[col_names[variable_indices]].values\n",
    "        vif = [variance_inflation_factor(c, i) for i in np.arange(c.shape[1])]\n",
    "\n",
    "        maxloc = vif.index(max(vif))\n",
    "        if max(vif) > thresh:\n",
    "            print('Dropping \\'' + df[col_names[variable_indices]].columns[maxloc] + '\\' with VIF = ', max(vif))\n",
    "            variable_indices = np.delete(variable_indices, maxloc)\n",
    "            dropped=True\n",
    "    \n",
    "    print(\"Done!\")"
   ]
  },
  {
   "cell_type": "code",
   "execution_count": 99,
   "metadata": {},
   "outputs": [
    {
     "name": "stdout",
     "output_type": "stream",
     "text": [
      "Dropping 'improvement_surcharge' with VIF =  18.956710501938836\n",
      "Done!\n"
     ]
    }
   ],
   "source": [
    "drop_vif(q4_data_preprocessed[numerical_columns])"
   ]
  },
  {
   "cell_type": "markdown",
   "metadata": {},
   "source": [
    "Drop \"improvement_surcharge\"."
   ]
  },
  {
   "cell_type": "code",
   "execution_count": 100,
   "metadata": {},
   "outputs": [],
   "source": [
    "multicolinearity_columns = ['improvement_surcharge']\n",
    "q4_data_preprocessed.drop(multicolinearity_columns, axis=1, inplace=True)\n",
    "numerical_columns = list(set(numerical_columns) - set(multicolinearity_columns))"
   ]
  },
  {
   "cell_type": "markdown",
   "metadata": {},
   "source": [
    "Make a copy of the final data set. "
   ]
  },
  {
   "cell_type": "code",
   "execution_count": 101,
   "metadata": {},
   "outputs": [
    {
     "name": "stdout",
     "output_type": "stream",
     "text": [
      "The final data set has 687424 samples and 24 variables.\n"
     ]
    }
   ],
   "source": [
    "q4_data_final = q4_data_preprocessed.copy()\n",
    "print(\"The final data set has %s samples and %s variables.\" % q4_data_final.shape)"
   ]
  },
  {
   "cell_type": "markdown",
   "metadata": {},
   "source": [
    "### - Model Building and Evaluation"
   ]
  },
  {
   "cell_type": "markdown",
   "metadata": {},
   "source": [
    "We are interested in predicting the tip as a percentage of the total fare. This is a <font color=red>**regression problem**</font>. The data contains both numerical variables and dummy variables. In this project, the gradient tree boosting algorithm <font color=red>**XGBoost**</font> was used to build the regression model. The XGBoost algorithm tries to minimize the prediction bias and generally have good performance in regresssions and classifications. It's a long-term winner in many Kaggle competitions and can even beat deep learning in many settings. Compared to GLMs and neural networks, tree-based models are <font color=red>**insensitive to multicollinearity issue and don't require feature normalization**</font>. \n",
    "\n",
    "Although XGBoost is insensitive to multicollinearity, the variables with multicollinearity were removed in the previous step to improve the training speed. "
   ]
  },
  {
   "cell_type": "markdown",
   "metadata": {},
   "source": [
    "- **Split the data into a training set and a test set (8:2).**"
   ]
  },
  {
   "cell_type": "code",
   "execution_count": 184,
   "metadata": {},
   "outputs": [],
   "source": [
    "X = q4_data_final[['Passenger_count', 'Trip_distance', 'Extra', 'Tolls_amount', 'Hour_of_day', 'Day_of_week', \n",
    "    'Day_of_month', 'Avg_speed', 'NE', 'SE', 'SW', 'NW', 'VendorID_1', 'VendorID_2', 'Store_and_fwd_flag_N', \n",
    "    'Store_and_fwd_flag_Y', 'RateCodeID_1', 'RateCodeID_2', 'RateCodeID_3', 'RateCodeID_4', 'RateCodeID_5', \n",
    "    'Trip_type_1.0', 'Trip_type_2.0']].values\n",
    "y = q4_data_final['Tip_percent'].values\n",
    "\n",
    "X_train, X_test, y_train, y_test = train_test_split(X, y, test_size=0.2, random_state=1)"
   ]
  },
  {
   "cell_type": "markdown",
   "metadata": {},
   "source": [
    "- **Hyperparameter tuning with the training data**"
   ]
  },
  {
   "cell_type": "markdown",
   "metadata": {},
   "source": [
    "XGBoost has many hyperparameters to tune. To save time, the hyperparameters were tuned in groups using a stepwise grid search approach with the training data. The following stepwise grid search function is modified base on [GitHub](https://github.com/YaronBlinder/MIMIC-III_readmission/blob/master/notebooks/3_xgboosting.ipynb)."
   ]
  },
  {
   "cell_type": "code",
   "execution_count": 196,
   "metadata": {
    "collapsed": true
   },
   "outputs": [],
   "source": [
    "def xgb_hyperparameter_tuning(X_train, y_train, initial_estimator, metric, cv=5):\n",
    "    \n",
    "    param_test0 = {\n",
    "     'n_estimators':range(50,250,10)\n",
    "    }\n",
    "    print('Performing hyperparamter optimization step 0')\n",
    "    gsearch0 = GridSearchCV(estimator = initial_estimator, \n",
    "     param_grid = param_test0, scoring=metric,n_jobs=4,iid=False, cv=cv)\n",
    "    gsearch0.fit(X_train,y_train)\n",
    "    print(gsearch0.best_params_, gsearch0.best_score_)\n",
    "\n",
    "    param_test1 = {\n",
    "     'max_depth':range(1,10),\n",
    "     'min_child_weight':range(1,10)\n",
    "    }\n",
    "    print('Performing hyperparamter optimization step 1')\n",
    "    gsearch1 = GridSearchCV(estimator = gsearch0.best_estimator_,\n",
    "     param_grid = param_test1, scoring=metric,n_jobs=4,iid=False, cv=cv)\n",
    "    gsearch1.fit(X_train,y_train)\n",
    "    print(gsearch1.best_params_, gsearch1.best_score_)\n",
    "\n",
    "    max_d = gsearch1.best_params_['max_depth']\n",
    "    min_c = gsearch1.best_params_['min_child_weight']\n",
    "\n",
    "    param_test2 = {\n",
    "     'gamma':[i/10. for i in range(0,5)]\n",
    "    }\n",
    "    print('Performing hyperparamter optimization step 2')\n",
    "    gsearch2 = GridSearchCV(estimator = gsearch1.best_estimator_, \n",
    "     param_grid = param_test2, scoring=metric,n_jobs=4,iid=False, cv=cv)\n",
    "    gsearch2.fit(X_train,y_train)\n",
    "    print(gsearch2.best_params_, gsearch2.best_score_)\n",
    "\n",
    "    param_test3 = {\n",
    "        'subsample':[i/10.0 for i in range(1,10)],\n",
    "        'colsample_bytree':[i/10.0 for i in range(1,10)]\n",
    "    }\n",
    "    print('Performing hyperparamter optimization step 3')\n",
    "    gsearch3 = GridSearchCV(estimator = gsearch2.best_estimator_, \n",
    "     param_grid = param_test3, scoring=metric,n_jobs=4,iid=False, cv=cv)\n",
    "    gsearch3.fit(X_train,y_train)\n",
    "    print(gsearch3.best_params_, gsearch3.best_score_)\n",
    "\n",
    "    param_test4 = {\n",
    "        'reg_alpha':[0, 1e-5, 1e-3, 0.1, 10]\n",
    "    }\n",
    "    print('Performing hyperparamter optimization step 4')\n",
    "    gsearch4 = GridSearchCV(estimator = gsearch3.best_estimator_, \n",
    "     param_grid = param_test4, scoring=metric,n_jobs=4,iid=False, cv=cv)\n",
    "    gsearch4.fit(X_train,y_train)\n",
    "    print(gsearch4.best_params_, gsearch4.best_score_)\n",
    "\n",
    "    alpha = gsearch4.best_params_['reg_alpha']\n",
    "    if alpha != 0:\n",
    "        param_test4b = {\n",
    "            'reg_alpha':[0.1*alpha, 0.25*alpha, 0.5*alpha, alpha, 2.5*alpha, 5*alpha, 10*alpha]\n",
    "        }\n",
    "        print('Performing hyperparamter optimization step 4b')\n",
    "        gsearch4b = GridSearchCV(estimator = gsearch4.best_estimator_, \n",
    "         param_grid = param_test4b, scoring=metric,n_jobs=4,iid=False, cv=cv)\n",
    "        gsearch4b.fit(X_train,y_train)\n",
    "        print(gsearch4b.best_params_, gsearch4.best_score_)\n",
    "        print('\\nParameter optimization finished!')\n",
    "        xgb_opt = gsearch4b.best_estimator_\n",
    "        xgb_opt\n",
    "    else:\n",
    "        xgb_opt = gsearch4.best_estimator_\n",
    "        xgb_opt\n",
    "\n",
    "    return xgb_opt\n",
    "    print(xgb_opt)"
   ]
  },
  {
   "cell_type": "markdown",
   "metadata": {},
   "source": [
    "Tune hyperparameters on the training data.\n",
    "\n",
    "<font color=red>**Warning**: This step took more than 10 hours to finish on my laptop (macOS 10.14.1, 2.7 GHz i7, 16 GB LPDDR3 Memory, Radeon Pro 455 2G GPU)</font>."
   ]
  },
  {
   "cell_type": "code",
   "execution_count": 199,
   "metadata": {},
   "outputs": [
    {
     "name": "stdout",
     "output_type": "stream",
     "text": [
      "Performing hyperparamter optimization step 0\n",
      "{'n_estimators': 240} -51.45322308687465\n",
      "Performing hyperparamter optimization step 1\n",
      "{'max_depth': 4, 'min_child_weight': 3} -51.40437838300259\n",
      "Performing hyperparamter optimization step 2\n",
      "{'gamma': 0.0} -51.40437838300259\n",
      "Performing hyperparamter optimization step 3\n",
      "{'colsample_bytree': 0.8, 'subsample': 0.9} -51.43110168230665\n",
      "Performing hyperparamter optimization step 4\n",
      "{'reg_alpha': 10} -51.41115365188216\n",
      "Performing hyperparamter optimization step 4b\n",
      "{'reg_alpha': 100} -51.41115365188216\n",
      "\n",
      "Parameter optimization finished!\n"
     ]
    }
   ],
   "source": [
    "xgb_opt = xgb_hyperparameter_tuning(X_train, y_train, XGBRegressor(), \"neg_mean_squared_error\")"
   ]
  },
  {
   "cell_type": "code",
   "execution_count": 206,
   "metadata": {},
   "outputs": [
    {
     "name": "stdout",
     "output_type": "stream",
     "text": [
      "XGBRegressor(base_score=0.5, booster='gbtree', colsample_bylevel=1,\n",
      "       colsample_bytree=0.8, gamma=0.0, learning_rate=0.1,\n",
      "       max_delta_step=0, max_depth=4, min_child_weight=3, missing=None,\n",
      "       n_estimators=240, n_jobs=1, nthread=None, objective='reg:linear',\n",
      "       random_state=0, reg_alpha=100, reg_lambda=1, scale_pos_weight=1,\n",
      "       seed=None, silent=True, subsample=0.9)\n"
     ]
    }
   ],
   "source": [
    "print(xgb_opt)"
   ]
  },
  {
   "cell_type": "code",
   "execution_count": 102,
   "metadata": {},
   "outputs": [
    {
     "name": "stdout",
     "output_type": "stream",
     "text": [
      "The optimized hyperparameters are: base_score=0.5, booster='gbtree', colsample_bylevel=1, \n",
      "    colsample_bytree=0.8, gamma=0.0, learning_rate=0.1, max_delta_step=0, max_depth=4, min_child_weight=3, \n",
      "    missing=None, n_estimators=240, n_jobs=1, nthread=None, objective='reg:linear', random_state=0, \n",
      "    reg_alpha=100, reg_lambda=1, scale_pos_weight=1, seed=None, silent=True, subsample=0.9\n"
     ]
    }
   ],
   "source": [
    "print(\"\"\"The optimized hyperparameters are: base_score=0.5, booster='gbtree', colsample_bylevel=1, \n",
    "    colsample_bytree=0.8, gamma=0.0, learning_rate=0.1, max_delta_step=0, max_depth=4, min_child_weight=3, \n",
    "    missing=None, n_estimators=240, n_jobs=1, nthread=None, objective='reg:linear', random_state=0, \n",
    "    reg_alpha=100, reg_lambda=1, scale_pos_weight=1, seed=None, silent=True, subsample=0.9\"\"\")"
   ]
  },
  {
   "cell_type": "markdown",
   "metadata": {},
   "source": [
    "Save the optimized model into a pickle file."
   ]
  },
  {
   "cell_type": "code",
   "execution_count": 201,
   "metadata": {
    "collapsed": true
   },
   "outputs": [],
   "source": [
    "with open (\"xgb_opt.pkl\", \"wb\") as f:\n",
    "    pickle.dump(xgb_opt, f)"
   ]
  },
  {
   "cell_type": "markdown",
   "metadata": {},
   "source": [
    "- **Model performance evaluation with the test data.** "
   ]
  },
  {
   "cell_type": "markdown",
   "metadata": {},
   "source": [
    "The root mean squared error (rmse) was used as the metric to evaluate the regression model. The optimized model's rmse in the training data is sqrt(51.41115365188216) = 7.170157157. Now check if the rmse in the test set is similar."
   ]
  },
  {
   "cell_type": "code",
   "execution_count": 205,
   "metadata": {},
   "outputs": [
    {
     "name": "stdout",
     "output_type": "stream",
     "text": [
      "The optimized XGBoost regression model has achieved a rmse of 7.2047067165677605\n"
     ]
    }
   ],
   "source": [
    "y_pred = xgb_opt.predict(X_test)\n",
    "rmse = math.sqrt(mean_squared_error(y_test,y_pred))\n",
    "print(\"The optimized XGBoost regression model has achieved a rmse of\", rmse)"
   ]
  },
  {
   "cell_type": "markdown",
   "metadata": {},
   "source": [
    "The rmse in the test set is very close to the training set. This indicates the model can <font color=red>**generalize well**</font> to unknown data. The rmse has the same unit as the target (percentage). This result indicate that the model can give an estimate of the tip percentage with a standard deviation of 7.2. "
   ]
  },
  {
   "cell_type": "markdown",
   "metadata": {},
   "source": [
    "- **Model interpretation.**"
   ]
  },
  {
   "cell_type": "markdown",
   "metadata": {},
   "source": [
    "The [feature importance](https://dl.acm.org/citation.cfm?id=2939785) measures how useful a variable is in the prediction. It's calculated for a single decision tree by the amount that each variable's split improves the performance measure, weighted by the number of observations the node is responsible for. Then the feature importances are averaged across all the decision trees in the ensemble. All the feature importances will sum up to 1 with a higher value indicating a higher importance. "
   ]
  },
  {
   "cell_type": "markdown",
   "metadata": {},
   "source": [
    "Get the feature importances from the XGBoost regression model and plot them. "
   ]
  },
  {
   "cell_type": "code",
   "execution_count": 138,
   "metadata": {},
   "outputs": [
    {
     "data": {
      "text/html": [
       "<div>\n",
       "<table border=\"1\" class=\"dataframe\">\n",
       "  <thead>\n",
       "    <tr style=\"text-align: right;\">\n",
       "      <th></th>\n",
       "      <th>Feature</th>\n",
       "      <th>Importance</th>\n",
       "    </tr>\n",
       "  </thead>\n",
       "  <tbody>\n",
       "    <tr>\n",
       "      <th>7</th>\n",
       "      <td>Avg_speed</td>\n",
       "      <td>0.255530</td>\n",
       "    </tr>\n",
       "    <tr>\n",
       "      <th>1</th>\n",
       "      <td>Trip_distance</td>\n",
       "      <td>0.221769</td>\n",
       "    </tr>\n",
       "    <tr>\n",
       "      <th>4</th>\n",
       "      <td>Hour_of_day</td>\n",
       "      <td>0.127765</td>\n",
       "    </tr>\n",
       "    <tr>\n",
       "      <th>6</th>\n",
       "      <td>Day_of_month</td>\n",
       "      <td>0.081199</td>\n",
       "    </tr>\n",
       "    <tr>\n",
       "      <th>5</th>\n",
       "      <td>Day_of_week</td>\n",
       "      <td>0.054715</td>\n",
       "    </tr>\n",
       "    <tr>\n",
       "      <th>2</th>\n",
       "      <td>Extra</td>\n",
       "      <td>0.032887</td>\n",
       "    </tr>\n",
       "    <tr>\n",
       "      <th>0</th>\n",
       "      <td>Passenger_count</td>\n",
       "      <td>0.032305</td>\n",
       "    </tr>\n",
       "    <tr>\n",
       "      <th>8</th>\n",
       "      <td>NE</td>\n",
       "      <td>0.030559</td>\n",
       "    </tr>\n",
       "    <tr>\n",
       "      <th>10</th>\n",
       "      <td>SW</td>\n",
       "      <td>0.027357</td>\n",
       "    </tr>\n",
       "    <tr>\n",
       "      <th>3</th>\n",
       "      <td>Tolls_amount</td>\n",
       "      <td>0.024156</td>\n",
       "    </tr>\n",
       "    <tr>\n",
       "      <th>9</th>\n",
       "      <td>SE</td>\n",
       "      <td>0.024156</td>\n",
       "    </tr>\n",
       "    <tr>\n",
       "      <th>11</th>\n",
       "      <td>NW</td>\n",
       "      <td>0.018044</td>\n",
       "    </tr>\n",
       "    <tr>\n",
       "      <th>16</th>\n",
       "      <td>RateCodeID_1</td>\n",
       "      <td>0.016589</td>\n",
       "    </tr>\n",
       "    <tr>\n",
       "      <th>12</th>\n",
       "      <td>VendorID_1</td>\n",
       "      <td>0.015425</td>\n",
       "    </tr>\n",
       "    <tr>\n",
       "      <th>20</th>\n",
       "      <td>RateCodeID_5</td>\n",
       "      <td>0.015134</td>\n",
       "    </tr>\n",
       "    <tr>\n",
       "      <th>21</th>\n",
       "      <td>Trip_type_1.0</td>\n",
       "      <td>0.006985</td>\n",
       "    </tr>\n",
       "    <tr>\n",
       "      <th>17</th>\n",
       "      <td>RateCodeID_2</td>\n",
       "      <td>0.005239</td>\n",
       "    </tr>\n",
       "    <tr>\n",
       "      <th>13</th>\n",
       "      <td>VendorID_2</td>\n",
       "      <td>0.003492</td>\n",
       "    </tr>\n",
       "    <tr>\n",
       "      <th>19</th>\n",
       "      <td>RateCodeID_4</td>\n",
       "      <td>0.002910</td>\n",
       "    </tr>\n",
       "    <tr>\n",
       "      <th>18</th>\n",
       "      <td>RateCodeID_3</td>\n",
       "      <td>0.001746</td>\n",
       "    </tr>\n",
       "    <tr>\n",
       "      <th>22</th>\n",
       "      <td>Trip_type_2.0</td>\n",
       "      <td>0.000873</td>\n",
       "    </tr>\n",
       "    <tr>\n",
       "      <th>14</th>\n",
       "      <td>Store_and_fwd_flag_N</td>\n",
       "      <td>0.000582</td>\n",
       "    </tr>\n",
       "    <tr>\n",
       "      <th>15</th>\n",
       "      <td>Store_and_fwd_flag_Y</td>\n",
       "      <td>0.000582</td>\n",
       "    </tr>\n",
       "  </tbody>\n",
       "</table>\n",
       "</div>"
      ],
      "text/plain": [
       "                 Feature  Importance\n",
       "7              Avg_speed    0.255530\n",
       "1          Trip_distance    0.221769\n",
       "4            Hour_of_day    0.127765\n",
       "6           Day_of_month    0.081199\n",
       "5            Day_of_week    0.054715\n",
       "2                  Extra    0.032887\n",
       "0        Passenger_count    0.032305\n",
       "8                     NE    0.030559\n",
       "10                    SW    0.027357\n",
       "3           Tolls_amount    0.024156\n",
       "9                     SE    0.024156\n",
       "11                    NW    0.018044\n",
       "16          RateCodeID_1    0.016589\n",
       "12            VendorID_1    0.015425\n",
       "20          RateCodeID_5    0.015134\n",
       "21         Trip_type_1.0    0.006985\n",
       "17          RateCodeID_2    0.005239\n",
       "13            VendorID_2    0.003492\n",
       "19          RateCodeID_4    0.002910\n",
       "18          RateCodeID_3    0.001746\n",
       "22         Trip_type_2.0    0.000873\n",
       "14  Store_and_fwd_flag_N    0.000582\n",
       "15  Store_and_fwd_flag_Y    0.000582"
      ]
     },
     "execution_count": 138,
     "metadata": {},
     "output_type": "execute_result"
    }
   ],
   "source": [
    "fscore = xgb_opt.feature_importances_\n",
    "feature_name = ['Passenger_count', 'Trip_distance', 'Extra', 'Tolls_amount', 'Hour_of_day', 'Day_of_week', \n",
    "    'Day_of_month', 'Avg_speed', 'NE', 'SE', 'SW', 'NW', 'VendorID_1', 'VendorID_2', 'Store_and_fwd_flag_N', \n",
    "    'Store_and_fwd_flag_Y', 'RateCodeID_1', 'RateCodeID_2', 'RateCodeID_3', 'RateCodeID_4', 'RateCodeID_5', \n",
    "    'Trip_type_1.0', 'Trip_type_2.0']\n",
    "\n",
    "fscore_df = pd.DataFrame(list(zip(feature_name, fscore)), columns=[\"Feature\", \"Importance\"])\n",
    "fscore_df.sort_values([\"Importance\"], ascending=False, inplace=True)\n",
    "fscore_df"
   ]
  },
  {
   "cell_type": "markdown",
   "metadata": {},
   "source": [
    "Plot the feature importance."
   ]
  },
  {
   "cell_type": "code",
   "execution_count": 141,
   "metadata": {},
   "outputs": [
    {
     "data": {
      "image/png": "[encoded data removed]",
      "text/plain": [
       "<matplotlib.figure.Figure at 0x11942fe80>"
      ]
     },
     "metadata": {},
     "output_type": "display_data"
    }
   ],
   "source": [
    "pos = range(len(fscore_df))\n",
    "plt.figure(figsize=(10, 10))\n",
    "plt.barh(pos, width=fscore_df[\"Importance\"].values, align=\"center\", alpha=0.7)\n",
    "plt.yticks(pos, fscore_df[\"Feature\"].values, fontsize=15)\n",
    "plt.xticks(fontsize=15)\n",
    "plt.ylabel(\"Features\", fontsize=15)\n",
    "plt.xlabel(\"Feature Importance Score\", fontsize=15)\n",
    "plt.title(\"Feature Importance\", fontsize=15)\n",
    "plt.gca().invert_yaxis()\n",
    "plt.show()"
   ]
  },
  {
   "cell_type": "markdown",
   "metadata": {},
   "source": [
    "<font color=red>**The average speed, trip distance, hour of day, day of month, day of week are important predictors in this model**</font>. This actually makes sense because the time and trip distance can largely impact the percentage of tip. For example, the tip at night are normally higher than daytime. \n",
    "\n",
    "To better understand their relationships, plot the tip percentage versus the average speed, trip distance, hour of day, day of month, and day of week."
   ]
  },
  {
   "cell_type": "code",
   "execution_count": 143,
   "metadata": {},
   "outputs": [
    {
     "data": {
      "image/png": "[encoded data removed]",
      "text/plain": [
       "<matplotlib.figure.Figure at 0x1a01c3da0>"
      ]
     },
     "metadata": {},
     "output_type": "display_data"
    }
   ],
   "source": [
    "plt.figure(figsize=(22, 7))\n",
    "\n",
    "important_columns = [\"Avg_speed\",\"Trip_distance\",\"Hour_of_day\",\"Day_of_month\",\"Day_of_week\"]\n",
    "for i in range(len(important_columns)):\n",
    "    plt.subplot(1,5,i+1)\n",
    "    plt.scatter(q4_data_final[important_columns[i]], q4_data_final[\"Tip_percent\"])\n",
    "    plt.xlabel(important_columns[i], fontsize=15)\n",
    "    plt.ylabel(\"Tip percent %\", fontsize=15)\n",
    "    plt.xticks(fontsize=15)\n",
    "    plt.yticks(fontsize=15)\n",
    "\n",
    "plt.tight_layout()"
   ]
  },
  {
   "cell_type": "markdown",
   "metadata": {},
   "source": [
    "It can be seen that the average speed and trip distance are negetively associated with the tip percent. The possible reasons are:\n",
    "- If the traffic is slow, the passengers are more likely to have conversations with taxi drivers. A good conversation can often result in a higher tip amount. \n",
    "- Many passengers will tip a fixed amount (e.g., 2 dollars) instead of using percentage. For short trip distance, the fare is relatively low. Therefore the tip percentage is high. \n",
    "\n",
    "The tip percentage seems higher in the afternoon than in the moring. This is very common in the United States. \n",
    "\n",
    "The relationships between tip percentage and day of month or day of week are hard to observe in the 2D scatter plots. This indicates that they impact the tip percentage in a non-linear way and/or interact with other variables."
   ]
  },
  {
   "cell_type": "markdown",
   "metadata": {},
   "source": [
    "<h1><center>Question 5 - Option A: Distributions</center></h1>"
   ]
  },
  {
   "cell_type": "markdown",
   "metadata": {},
   "source": [
    "**Summary:**\n",
    "\n",
    "In this question, one way ANOVA was used to test if the average speeds are the same in all weeks of September. The result indicated that the average speeds are not the same for all weeks. The Tukey Post Hoc test was used to test the pairwise difference. Similar methods were used to test the average speed in different hours of a day. The result indicated most the average speeds are different for most pairs of hours. Different visualizations were created to help analyze the data and support hypotheses. The methods and major findings are summarized as follows. \n",
    "\n",
    "1. The derived variable of the average speed in mph was built through divding the trip distance by the duration of the trip. \n",
    "2. The trips with a speed faster than 80 mph were treated as outliers and were removed. The speed limit for freeways and interstates in New York is 65 mph. A buffer of 15 mph was used to account for drivers who violated the traffic rule. \n",
    "3. The trip time was parsed into different time elements, including ** <font color=red>hour_of_day, day_of_week, day_of_month, week, duration_of_trip in hours, avg_speed in mph. The dropoff time was used to get most time elements.**</font> \n",
    "4. There are 5 weeks in 2015 September if assuming Monday as the start of a week: Week 1: 9/1 - 9/6, Week 2: 9/7 - 9/13, Week 3: 9/14 - 9/20, Week 4: 9/21 - 9/27, Week 5: 9/28 - 9/30.\n",
    "5. <font color=red>**All the tests used a 95% condidence level**</font>. \n",
    "6. <font color=red>**One way ANOVA**</font> was used to test the difference in mean speeds of the 5 weeks. The result indicated that not all of them were the same. To test which pair(s) of the mean speeds were different, the <font color=red>**Tukey Post Hoc test**</font> was performed. The result indicated that all of them were significantly different from each other except that week 2 and week 3 were not significantly different. There are many possible reasons about the difference, such as local event, rush hour, and weather. \n",
    "7. One way ANOVA and Tukey Post Hoc tests were also used to test the difference in mean speeds of the 24 hours in a day. Most of them were significantly different. The differnce in speed within a day is normally influnced by rush hour. "
   ]
  },
  {
   "cell_type": "markdown",
   "metadata": {},
   "source": [
    "### 5.1 Build a derived variable representing the average speed over the course of a trip."
   ]
  },
  {
   "cell_type": "markdown",
   "metadata": {},
   "source": [
    "Only keep variables required for this analysis."
   ]
  },
  {
   "cell_type": "code",
   "execution_count": 144,
   "metadata": {},
   "outputs": [
    {
     "data": {
      "text/html": [
       "<div>\n",
       "<table border=\"1\" class=\"dataframe\">\n",
       "  <thead>\n",
       "    <tr style=\"text-align: right;\">\n",
       "      <th></th>\n",
       "      <th>lpep_pickup_datetime</th>\n",
       "      <th>Lpep_dropoff_datetime</th>\n",
       "      <th>Trip_distance</th>\n",
       "    </tr>\n",
       "  </thead>\n",
       "  <tbody>\n",
       "    <tr>\n",
       "      <th>0</th>\n",
       "      <td>2015-09-01 00:02:34</td>\n",
       "      <td>2015-09-01 00:02:38</td>\n",
       "      <td>0.00</td>\n",
       "    </tr>\n",
       "    <tr>\n",
       "      <th>1</th>\n",
       "      <td>2015-09-01 00:04:20</td>\n",
       "      <td>2015-09-01 00:04:24</td>\n",
       "      <td>0.00</td>\n",
       "    </tr>\n",
       "    <tr>\n",
       "      <th>2</th>\n",
       "      <td>2015-09-01 00:01:50</td>\n",
       "      <td>2015-09-01 00:04:24</td>\n",
       "      <td>0.59</td>\n",
       "    </tr>\n",
       "    <tr>\n",
       "      <th>3</th>\n",
       "      <td>2015-09-01 00:02:36</td>\n",
       "      <td>2015-09-01 00:06:42</td>\n",
       "      <td>0.74</td>\n",
       "    </tr>\n",
       "    <tr>\n",
       "      <th>4</th>\n",
       "      <td>2015-09-01 00:00:14</td>\n",
       "      <td>2015-09-01 00:04:20</td>\n",
       "      <td>0.61</td>\n",
       "    </tr>\n",
       "  </tbody>\n",
       "</table>\n",
       "</div>"
      ],
      "text/plain": [
       "  lpep_pickup_datetime Lpep_dropoff_datetime  Trip_distance\n",
       "0  2015-09-01 00:02:34   2015-09-01 00:02:38           0.00\n",
       "1  2015-09-01 00:04:20   2015-09-01 00:04:24           0.00\n",
       "2  2015-09-01 00:01:50   2015-09-01 00:04:24           0.59\n",
       "3  2015-09-01 00:02:36   2015-09-01 00:06:42           0.74\n",
       "4  2015-09-01 00:00:14   2015-09-01 00:04:20           0.61"
      ]
     },
     "execution_count": 144,
     "metadata": {},
     "output_type": "execute_result"
    }
   ],
   "source": [
    "q5_data = raw_data[['lpep_pickup_datetime', 'Lpep_dropoff_datetime', 'Trip_distance']]\n",
    "q5_data.head()"
   ]
  },
  {
   "cell_type": "markdown",
   "metadata": {},
   "source": [
    "This data has errors in time and trip distance. Remove trips with dropoff time ≤ pickup time or trip distance ≤ 0."
   ]
  },
  {
   "cell_type": "code",
   "execution_count": 145,
   "metadata": {},
   "outputs": [
    {
     "name": "stdout",
     "output_type": "stream",
     "text": [
      "20735 trips with errors have been removed from the original data, which has 1494926 trips.\n"
     ]
    }
   ],
   "source": [
    "q5_data = q5_data[(q5_data[\"lpep_pickup_datetime\"]<q5_data[\"Lpep_dropoff_datetime\"])&(q5_data[\"Trip_distance\"]>0)]\n",
    "print(\"%s trips with errors have been removed from the original data, which has %s trips.\" % (len(raw_data)-len(q5_data), len(raw_data)))"
   ]
  },
  {
   "cell_type": "markdown",
   "metadata": {},
   "source": [
    "Define a new datetime parser function to parse pickup and dropoff datetimes into ** <font color=red>hour_of_day, day_of_week, day_of_month, week, duration_of_trip in hours, avg_speed in mph. The dropoff time was used to get most time elements of the trip.**</font> The function to calculate week of month is modified based on [Stackoverflow](https://stackoverflow.com/questions/3806473/python-week-number-of-the-month)."
   ]
  },
  {
   "cell_type": "code",
   "execution_count": 147,
   "metadata": {
    "collapsed": true
   },
   "outputs": [],
   "source": [
    "# Use calendar day to divide 2015 September into the following 5 weeks. Assuming a week starts from Monday. \n",
    "# First week: Sep 1st to Sep 6th\n",
    "# Second week: Sep 7th to Sep 13th\n",
    "# Third week: Sep 14th to Sep 20th\n",
    "# Fourth week: Sep 21th to Sep 27th\n",
    "# Fifth week: Sep 28th to Sep 30th\n",
    "\n",
    "def week_of_month(dt):\n",
    "    first_day = dt.replace(day=1)\n",
    "    dom = dt.day\n",
    "    adjusted_dom = dom + first_day.weekday()\n",
    "    return int(math.ceil(adjusted_dom/7.0))\n",
    "\n",
    "def datetime_parser2(df_row):\n",
    "    pickup_obj = datetime.strptime(df_row[\"lpep_pickup_datetime\"], \"%Y-%m-%d %H:%M:%S\")\n",
    "    dropoff_obj = datetime.strptime(df_row[\"Lpep_dropoff_datetime\"], \"%Y-%m-%d %H:%M:%S\")\n",
    "    dropoff_hour = dropoff_obj.hour\n",
    "    dropoff_day_of_week = dropoff_obj.weekday() + 1\n",
    "    dropoff_day_of_month = dropoff_obj.day\n",
    "    dropoff_week_of_month = week_of_month(pickup_obj)\n",
    "\n",
    "    duration_of_trip = ((dropoff_obj - pickup_obj)/timedelta(minutes=1))/60 # calculate the duration in hours\n",
    "    avg_speed = df_row[\"Trip_distance\"]/duration_of_trip # get speed in mph\n",
    "\n",
    "    return (dropoff_hour, dropoff_day_of_week, dropoff_day_of_month, dropoff_week_of_month, duration_of_trip, avg_speed)"
   ]
  },
  {
   "cell_type": "code",
   "execution_count": 148,
   "metadata": {},
   "outputs": [],
   "source": [
    "time_columns2 = [\"Dropoff_hour\",\"Dropoff_day_of_week\",\"Dropoff_day_of_month\",\"Dropoff_week_of_month\",\n",
    "                 \"Duration_of_trip\", \"Avg_speed\"]"
   ]
  },
  {
   "cell_type": "code",
   "execution_count": 149,
   "metadata": {},
   "outputs": [
    {
     "data": {
      "text/html": [
       "<div>\n",
       "<table border=\"1\" class=\"dataframe\">\n",
       "  <thead>\n",
       "    <tr style=\"text-align: right;\">\n",
       "      <th></th>\n",
       "      <th>lpep_pickup_datetime</th>\n",
       "      <th>Lpep_dropoff_datetime</th>\n",
       "      <th>Trip_distance</th>\n",
       "      <th>Dropoff_hour</th>\n",
       "      <th>Dropoff_day_of_week</th>\n",
       "      <th>Dropoff_day_of_month</th>\n",
       "      <th>Dropoff_week_of_month</th>\n",
       "      <th>Duration_of_trip</th>\n",
       "      <th>Avg_speed</th>\n",
       "    </tr>\n",
       "  </thead>\n",
       "  <tbody>\n",
       "    <tr>\n",
       "      <th>2</th>\n",
       "      <td>2015-09-01 00:01:50</td>\n",
       "      <td>2015-09-01 00:04:24</td>\n",
       "      <td>0.59</td>\n",
       "      <td>0.0</td>\n",
       "      <td>2.0</td>\n",
       "      <td>1.0</td>\n",
       "      <td>1.0</td>\n",
       "      <td>0.042778</td>\n",
       "      <td>13.792208</td>\n",
       "    </tr>\n",
       "    <tr>\n",
       "      <th>3</th>\n",
       "      <td>2015-09-01 00:02:36</td>\n",
       "      <td>2015-09-01 00:06:42</td>\n",
       "      <td>0.74</td>\n",
       "      <td>0.0</td>\n",
       "      <td>2.0</td>\n",
       "      <td>1.0</td>\n",
       "      <td>1.0</td>\n",
       "      <td>0.068333</td>\n",
       "      <td>10.829268</td>\n",
       "    </tr>\n",
       "    <tr>\n",
       "      <th>4</th>\n",
       "      <td>2015-09-01 00:00:14</td>\n",
       "      <td>2015-09-01 00:04:20</td>\n",
       "      <td>0.61</td>\n",
       "      <td>0.0</td>\n",
       "      <td>2.0</td>\n",
       "      <td>1.0</td>\n",
       "      <td>1.0</td>\n",
       "      <td>0.068333</td>\n",
       "      <td>8.926829</td>\n",
       "    </tr>\n",
       "    <tr>\n",
       "      <th>5</th>\n",
       "      <td>2015-09-01 00:00:39</td>\n",
       "      <td>2015-09-01 00:05:20</td>\n",
       "      <td>1.07</td>\n",
       "      <td>0.0</td>\n",
       "      <td>2.0</td>\n",
       "      <td>1.0</td>\n",
       "      <td>1.0</td>\n",
       "      <td>0.078056</td>\n",
       "      <td>13.708185</td>\n",
       "    </tr>\n",
       "    <tr>\n",
       "      <th>6</th>\n",
       "      <td>2015-09-01 00:00:52</td>\n",
       "      <td>2015-09-01 00:05:50</td>\n",
       "      <td>1.43</td>\n",
       "      <td>0.0</td>\n",
       "      <td>2.0</td>\n",
       "      <td>1.0</td>\n",
       "      <td>1.0</td>\n",
       "      <td>0.082778</td>\n",
       "      <td>17.275168</td>\n",
       "    </tr>\n",
       "  </tbody>\n",
       "</table>\n",
       "</div>"
      ],
      "text/plain": [
       "  lpep_pickup_datetime Lpep_dropoff_datetime  Trip_distance  Dropoff_hour  Dropoff_day_of_week  Dropoff_day_of_month  Dropoff_week_of_month  Duration_of_trip  Avg_speed\n",
       "2  2015-09-01 00:01:50   2015-09-01 00:04:24           0.59           0.0                  2.0                   1.0                    1.0          0.042778  13.792208\n",
       "3  2015-09-01 00:02:36   2015-09-01 00:06:42           0.74           0.0                  2.0                   1.0                    1.0          0.068333  10.829268\n",
       "4  2015-09-01 00:00:14   2015-09-01 00:04:20           0.61           0.0                  2.0                   1.0                    1.0          0.068333   8.926829\n",
       "5  2015-09-01 00:00:39   2015-09-01 00:05:20           1.07           0.0                  2.0                   1.0                    1.0          0.078056  13.708185\n",
       "6  2015-09-01 00:00:52   2015-09-01 00:05:50           1.43           0.0                  2.0                   1.0                    1.0          0.082778  17.275168"
      ]
     },
     "execution_count": 149,
     "metadata": {},
     "output_type": "execute_result"
    }
   ],
   "source": [
    "q5_data[time_columns2] = q5_data.apply(lambda row: pd.Series(datetime_parser2(row)), axis=1)\n",
    "q5_data.head()"
   ]
  },
  {
   "cell_type": "markdown",
   "metadata": {},
   "source": [
    "Based on the data cleaning step in question 4, many trips have an average speed faster than 80 mph, which should be errors in the data. Remove trips with average speed faster than 80 mph. "
   ]
  },
  {
   "cell_type": "code",
   "execution_count": 150,
   "metadata": {},
   "outputs": [
    {
     "name": "stdout",
     "output_type": "stream",
     "text": [
      "3123 trips with an average speed faster than 80 mph have been removed.\n"
     ]
    }
   ],
   "source": [
    "q5_data_cleaned = q5_data[q5_data[\"Avg_speed\"]<=80]\n",
    "print(\"%s trips with an average speed faster than 80 mph have been removed.\" % (len(q5_data)-len(q5_data_cleaned)))"
   ]
  },
  {
   "cell_type": "markdown",
   "metadata": {},
   "source": [
    "The distribution of average trip speed looks better after removing outliers."
   ]
  },
  {
   "cell_type": "code",
   "execution_count": 151,
   "metadata": {},
   "outputs": [
    {
     "data": {
      "image/png": "[encoded data removed]",
      "text/plain": [
       "<matplotlib.figure.Figure at 0x23477dcc0>"
      ]
     },
     "metadata": {},
     "output_type": "display_data"
    }
   ],
   "source": [
    "plt.figure(figsize=(10, 6))\n",
    "plt.hist(q5_data_cleaned[\"Avg_speed\"], alpha=0.7, bins=50)\n",
    "plt.title(\"Distribution of average trip speed (without outliers)\", fontsize=15)\n",
    "plt.xlabel(\"Average trip speed (mph)\", fontsize=15)\n",
    "plt.ylabel(\"Frequency\", fontsize=15)\n",
    "plt.xticks(fontsize=15)\n",
    "plt.yticks(fontsize=15)\n",
    "plt.show()"
   ]
  },
  {
   "cell_type": "markdown",
   "metadata": {},
   "source": [
    "### 5.2 Perform a test to determine if the average trip speeds are materially the same in all weeks of September."
   ]
  },
  {
   "cell_type": "markdown",
   "metadata": {},
   "source": [
    "First plot the histogram of the average trip speed versus the week of dropoff. "
   ]
  },
  {
   "cell_type": "code",
   "execution_count": 152,
   "metadata": {},
   "outputs": [
    {
     "data": {
      "image/png": "[encoded data removed]",
      "text/plain": [
       "<matplotlib.figure.Figure at 0x11a3e20f0>"
      ]
     },
     "metadata": {},
     "output_type": "display_data"
    }
   ],
   "source": [
    "avg_speed_week = q5_data_cleaned[[\"Avg_speed\",\"Dropoff_week_of_month\"]].groupby(\"Dropoff_week_of_month\").mean().reset_index()\n",
    "\n",
    "pos = range(5)\n",
    "plt.figure(figsize=(10, 6))\n",
    "plt.bar(pos, height=avg_speed_week[\"Avg_speed\"].values, align=\"center\", alpha=0.7, width=0.3)\n",
    "plt.xticks(pos, [\"Week 1\", \"Week 2\", \"Week 3\", \"Week 4\", \"Week 5\"], fontsize=15)\n",
    "plt.yticks(fontsize=15)\n",
    "plt.xlabel(\"Dropoff week\", fontsize=15)\n",
    "plt.ylabel(\"Average speed (mph)\", fontsize=15)\n",
    "plt.title(\"Average trip speed (mph) by week\", fontsize=15)\n",
    "plt.show()"
   ]
  },
  {
   "cell_type": "markdown",
   "metadata": {},
   "source": [
    "They look pretty close to each other. The differences between them need to be tested by a statistical method. <font color=red>**One way Analysis of Variance (ANOVA)**</font> is the most appropriate method. <font color=red>**95% significance level was used**</font>. "
   ]
  },
  {
   "cell_type": "markdown",
   "metadata": {},
   "source": [
    "First check the distribution of average speeds in the 5 weeks of September. It can be seen that the 5 distributions are very similar to each other and are gaussian-like. "
   ]
  },
  {
   "cell_type": "code",
   "execution_count": 153,
   "metadata": {},
   "outputs": [
    {
     "data": {
      "image/png": "[encoded data removed]",
      "text/plain": [
       "<matplotlib.figure.Figure at 0x119141630>"
      ]
     },
     "metadata": {},
     "output_type": "display_data"
    }
   ],
   "source": [
    "plt.figure(figsize=(15, 4))\n",
    "for i in range(1,6):\n",
    "    plt.subplot(1,5,i)\n",
    "    plt.hist(q5_data_cleaned[q5_data_cleaned[\"Dropoff_week_of_month\"]==i][\"Avg_speed\"].values, alpha=0.7, bins=50)\n",
    "    plt.title(\"Week \" + str(i))\n",
    "    plt.xlabel(\"Average Speed (mph)\")\n",
    "    plt.ylabel(\"Frequency\")\n",
    "plt.tight_layout()"
   ]
  },
  {
   "cell_type": "markdown",
   "metadata": {},
   "source": [
    "Check the number of trips in each week."
   ]
  },
  {
   "cell_type": "code",
   "execution_count": 154,
   "metadata": {},
   "outputs": [
    {
     "data": {
      "image/png": "[encoded data removed]",
      "text/plain": [
       "<matplotlib.figure.Figure at 0x13067f860>"
      ]
     },
     "metadata": {},
     "output_type": "display_data"
    }
   ],
   "source": [
    "week_size = q5_data_cleaned[[\"Dropoff_week_of_month\", \"Avg_speed\"]].groupby(\"Dropoff_week_of_month\").count().reset_index()\n",
    "\n",
    "pos = range(5)\n",
    "plt.figure(figsize=(10, 5))\n",
    "plt.bar(pos, week_size[\"Avg_speed\"], align=\"center\", alpha=0.7, width=0.3)\n",
    "plt.xticks(pos, [\"Week 1\", \"Week 2\", \"Week 3\", \"Week 4\", \"Week 5\"], fontsize=15)\n",
    "plt.yticks(fontsize=15)\n",
    "plt.xlabel(\"Dropoff week\", fontsize=15)\n",
    "plt.ylabel(\"Number of trips\", fontsize=15)\n",
    "plt.title(\"Number of trips in each week\", fontsize=15)\n",
    "plt.show()"
   ]
  },
  {
   "cell_type": "markdown",
   "metadata": {},
   "source": [
    "The numbers of trips in the 5 weeks are different because the first week on 2015 September has 6 days and the last week only has 3 days. Assuming a week starts from Monday. "
   ]
  },
  {
   "cell_type": "markdown",
   "metadata": {},
   "source": [
    "ANOVA test of the mean trip speed in 5 weeks of September:\n",
    "\n",
    "- H<sub>o</sub> : The mean speed is the same for all 5 weeks. ( μ<sub>1</sub> = μ<sub>2</sub> = μ<sub>3</sub> = μ<sub>4</sub> = μ<sub>5</sub> )\n",
    "- H<sub>a</sub> : The mean speed is not the same for all 5 weeks."
   ]
  },
  {
   "cell_type": "code",
   "execution_count": 159,
   "metadata": {},
   "outputs": [
    {
     "name": "stdout",
     "output_type": "stream",
     "text": [
      "                                sum_sq         df            F  PR(>F)\n",
      "C(Dropoff_week_of_month)  1.394304e+05        4.0  1034.471853     0.0\n",
      "Residual                  4.956898e+07  1471063.0          NaN     NaN\n"
     ]
    }
   ],
   "source": [
    "model = ols('Avg_speed ~ C(Dropoff_week_of_month)', data=q5_data_cleaned).fit()\n",
    "anova_table = sm.stats.anova_lm(model, typ=2)\n",
    "print(anova_table)"
   ]
  },
  {
   "cell_type": "markdown",
   "metadata": {},
   "source": [
    "<font color=red>**The result (p-value < 0.05) indicates that the mean speed is not the same for all 5 weeks.** </font>"
   ]
  },
  {
   "cell_type": "markdown",
   "metadata": {},
   "source": [
    "Use <font color=red>**multiple comparison (Tukey Post Hoc) test** </font> to check which specific weeks are different. "
   ]
  },
  {
   "cell_type": "code",
   "execution_count": 160,
   "metadata": {},
   "outputs": [
    {
     "name": "stdout",
     "output_type": "stream",
     "text": [
      "Multiple Comparison of Means - Tukey HSD,FWER=0.05\n",
      "=============================================\n",
      "group1 group2 meandiff  lower   upper  reject\n",
      "---------------------------------------------\n",
      " 1.0    2.0   -0.6822  -0.7216 -0.6428  True \n",
      " 1.0    3.0   -0.6712  -0.7107 -0.6318  True \n",
      " 1.0    4.0   -0.1974  -0.2374 -0.1574  True \n",
      " 1.0    5.0   -0.8599  -0.9126 -0.8072  True \n",
      " 2.0    3.0    0.011   -0.0265  0.0485 False \n",
      " 2.0    4.0    0.4848   0.4467  0.5229  True \n",
      " 2.0    5.0   -0.1777   -0.229 -0.1264  True \n",
      " 3.0    4.0    0.4739   0.4357  0.512   True \n",
      " 3.0    5.0   -0.1887   -0.24  -0.1373  True \n",
      " 4.0    5.0   -0.6625  -0.7143 -0.6107  True \n",
      "---------------------------------------------\n"
     ]
    }
   ],
   "source": [
    "tukeyhsd = pairwise_tukeyhsd(q5_data_cleaned[\"Avg_speed\"], q5_data_cleaned[\"Dropoff_week_of_month\"])\n",
    "print(tukeyhsd)"
   ]
  },
  {
   "cell_type": "markdown",
   "metadata": {},
   "source": [
    "From this result, we can see that <font color=red>**the average speeds are significantly different (p < 0.05) beween all pairs of weeks except week 2 and week 3.** </font>\n",
    "\n",
    "**Why the average trip speeds were different?**\n",
    "\n",
    "Trip speed can be influenced by several factors: <font color=red>**(1) Local events (2) Weather (3) Rush hour**. </font> By checking the [NYC events calendar](https://www.nycinsiderguide.com/new-york-city-events-september-2015) and [weather history](https://www.timeanddate.com/weather/usa/new-york/historic?month=9&year=2015) in 2015 September, I have found the possible answers to the following 3 questions."
   ]
  },
  {
   "cell_type": "markdown",
   "metadata": {},
   "source": [
    "**1. Why the average trip speed in week 2 is significantly slower than weeks 1 and 4?**\n",
    "\n",
    "- The Monday of week 2 (Sep 7th) is <font color=red>**Labor Day**</font>. On Labor Day, schools and most offices will be closed. Students and most workers will get a day off from study or work. Most service providing businesses, such as restaurants and stores will open. A lot of people will go out for food or shopping. This may have made the traffic more congested. \n",
    "\n",
    "- The Friday (Sep 11th) of week 2 is the <font color=red>**14 Year Anniversary of 9/11/01**</font>. A lot of people will attend the 9/11 memorial events in NYC. This may have slowed down the traffic. \n",
    "\n",
    "- The <font color=red>**New York fashion week**</font> (Sep 10th - 17th) started on the Thursday of week 2. It may have caused a lot traffic. \n",
    "\n",
    "- It rained on Sep 10th. Raining can slow down traffic. "
   ]
  },
  {
   "cell_type": "markdown",
   "metadata": {},
   "source": [
    "**2. Why the average trip speed in week 3 is significantly slower than weeks 1 and 4?**\n",
    "\n",
    "- In week 3, <font color=red>**Madonna had 3 concerts**</font>  in NYC (Sep 16th, 17th and 19th). This may have slowed down the traffic.  \n",
    "- Most part of the <font color=red>**New York fashion week**</font>  (Sep 10th - 17th) were on week 3. It may have caused a lot traffic. \n",
    "- In week 3, there were 2 [<font color=red>**football games**</font>](https://www.nycfc.com/schedule?month=9&year=2015&club_options=Filters&op=Update&form_build_id=form-iaKop8u_-X17XNo7Dlp3Or1g0dc5wBkw3mFvZkW2les&form_id=mp7_schedule_hub_search_filters_form) in NYC: New York City FC VS. Toronto FC (Sep 16th), New York City FC VS. San Jose Earthquakes (Sep 19th). This may have caused a lot traffic."
   ]
  },
  {
   "cell_type": "markdown",
   "metadata": {},
   "source": [
    "**3. Why the average trip speed in week 5 is significantly slower than other 4 weeks?**"
   ]
  },
  {
   "cell_type": "markdown",
   "metadata": {},
   "source": [
    "- According to the following figure (average trip speed in each day of September), <font color=red>**the traffic on weekends tend to be faster than workdays**</font>. There were only 3 days (Monday-Wednesday) on week 5 and therefore the average speed cannot be increased by weekends. \n",
    "- Another possible reason is that some companies have the \"Work From Home Fridays\" arrangements and this can potentially reduce the traffic volume and therefore can increase trip speed. Week 5 didn't have Friday.\n",
    "- It rained on Sep 30th. Raining can slow down traffic."
   ]
  },
  {
   "cell_type": "code",
   "execution_count": 161,
   "metadata": {},
   "outputs": [
    {
     "data": {
      "image/png": "[encoded data removed]",
      "text/plain": [
       "<matplotlib.figure.Figure at 0x11942c4a8>"
      ]
     },
     "metadata": {},
     "output_type": "display_data"
    }
   ],
   "source": [
    "avg_speed_day_of_month = q5_data_cleaned[[\"Avg_speed\",\"Dropoff_day_of_month\"]].groupby(\"Dropoff_day_of_month\").mean().reset_index()\n",
    "\n",
    "pos = range(30)\n",
    "xtick_labels = [str(i+1) for i in pos]\n",
    "plt.figure(figsize=(15, 6))\n",
    "plt.bar(pos, height=avg_speed_day_of_month[\"Avg_speed\"].values, align=\"center\", alpha=0.7, width=0.3)\n",
    "plt.xticks(pos, xtick_labels, fontsize=15)\n",
    "plt.yticks(fontsize=15)\n",
    "plt.xlabel(\"Dropoff day\", fontsize=15)\n",
    "plt.ylabel(\"Average speed (mph)\", fontsize=15)\n",
    "plt.title(\"Average speed (mph) in each day of September\", fontsize=15)\n",
    "plt.show()"
   ]
  },
  {
   "cell_type": "markdown",
   "metadata": {},
   "source": [
    "### 5.3 Build up a hypothesis of average trip speed as a function of time of day."
   ]
  },
  {
   "cell_type": "markdown",
   "metadata": {},
   "source": [
    "First plot the histogram of the average trip speed versus the hour of dropoff. "
   ]
  },
  {
   "cell_type": "code",
   "execution_count": 162,
   "metadata": {},
   "outputs": [
    {
     "data": {
      "image/png": "[encoded data removed]",
      "text/plain": [
       "<matplotlib.figure.Figure at 0x1f7bf6710>"
      ]
     },
     "metadata": {},
     "output_type": "display_data"
    }
   ],
   "source": [
    "avg_speed_hour = q5_data_cleaned[[\"Avg_speed\",\"Dropoff_hour\"]].groupby(\"Dropoff_hour\").mean().reset_index()\n",
    "\n",
    "pos = range(24)\n",
    "xtick_labels = [str(i) for i in pos]\n",
    "plt.figure(figsize=(20, 6))\n",
    "plt.bar(pos, height=avg_speed_hour[\"Avg_speed\"].values, align=\"center\", alpha=0.7, width=0.3)\n",
    "plt.xticks(pos, xtick_labels, fontsize=15)\n",
    "plt.yticks(fontsize=15)\n",
    "plt.xlabel(\"Dropoff hour\", fontsize=15)\n",
    "plt.ylabel(\"Average speed (mph)\", fontsize=15)\n",
    "plt.title(\"Average trip speed (mph) by dropoff hour\", fontsize=15)\n",
    "plt.show()"
   ]
  },
  {
   "cell_type": "markdown",
   "metadata": {},
   "source": [
    "From this bar chart, it can been that the average trip speed is <font color=red>**highest at 5-6 am and suddenly decreases from 7 am**</font>. This makes sense because most people will go to work and school at 7-8 am and the traffic will be congested at this time. A lot of people want to avoid this rush hour so that they will leave early at 5-6am. The average trip speed is the <font color=red>**lowest at 5 pm**</font> because most people will go back home from work or school at this time. This is another rush hour of the day."
   ]
  },
  {
   "cell_type": "markdown",
   "metadata": {},
   "source": [
    "Next, check if the differences in speeds at different hours are statistically significant with one way ANOVA. "
   ]
  },
  {
   "cell_type": "markdown",
   "metadata": {},
   "source": [
    "ANOVA test:\n",
    "\n",
    "- H<sub>o</sub> : The mean speed is the same for all 24 hours.\n",
    "- H<sub>a</sub> : The mean speed is not the same for all 24 hours."
   ]
  },
  {
   "cell_type": "code",
   "execution_count": 164,
   "metadata": {},
   "outputs": [
    {
     "name": "stdout",
     "output_type": "stream",
     "text": [
      "                       sum_sq         df            F  PR(>F)\n",
      "C(Dropoff_hour)  3.572139e+06       23.0  4952.035635     0.0\n",
      "Residual         4.613627e+07  1471044.0          NaN     NaN\n"
     ]
    }
   ],
   "source": [
    "model2 = ols('Avg_speed ~ C(Dropoff_hour)', data=q5_data_cleaned).fit()\n",
    "anova_table2 = sm.stats.anova_lm(model2, typ=2)\n",
    "print(anova_table2)"
   ]
  },
  {
   "cell_type": "markdown",
   "metadata": {},
   "source": [
    "<font color=red>**The result (p-value < 0.05) indicates that the mean speed is not the same for all 24 hours**</font>."
   ]
  },
  {
   "cell_type": "markdown",
   "metadata": {},
   "source": [
    "Use multiple comparison (Tukey Post Hoc) test to check which specific hours are different. "
   ]
  },
  {
   "cell_type": "code",
   "execution_count": 165,
   "metadata": {},
   "outputs": [
    {
     "name": "stdout",
     "output_type": "stream",
     "text": [
      "Multiple Comparison of Means - Tukey HSD,FWER=0.05\n",
      "=============================================\n",
      "group1 group2 meandiff  lower   upper  reject\n",
      "---------------------------------------------\n",
      " 0.0    1.0     0.69    0.5752  0.8048  True \n",
      " 0.0    2.0    1.0185   0.8941  1.1428  True \n",
      " 0.0    3.0    1.3513   1.2144  1.4881  True \n",
      " 0.0    4.0    1.9234   1.7789  2.0679  True \n",
      " 0.0    5.0    3.9854   3.8128  4.158   True \n",
      " 0.0    6.0    3.4792   3.3147  3.6438  True \n",
      " 0.0    7.0    0.2215   0.0892  0.3538  True \n",
      " 0.0    8.0    -1.653  -1.7688 -1.5372  True \n",
      " 0.0    9.0   -1.6086  -1.7204 -1.4968  True \n",
      " 0.0    10.0  -1.5077  -1.6212 -1.3941  True \n",
      " 0.0    11.0  -1.8128  -1.9281 -1.6975  True \n",
      " 0.0    12.0  -1.9264  -2.0406 -1.8121  True \n",
      " 0.0    13.0  -1.9701  -2.0849 -1.8554  True \n",
      " 0.0    14.0  -2.3686   -2.48  -2.2572  True \n",
      " 0.0    15.0   -2.814   -2.922 -2.7059  True \n",
      " 0.0    16.0  -3.0961  -3.2018 -2.9904  True \n",
      " 0.0    17.0  -3.1752  -3.2785 -3.0718  True \n",
      " 0.0    18.0  -2.7771  -2.8775 -2.6767  True \n",
      " 0.0    19.0  -2.1658  -2.2664 -2.0653  True \n",
      " 0.0    20.0   -1.566  -1.6672 -1.4648  True \n",
      " 0.0    21.0  -0.6638  -0.7669 -0.5608  True \n",
      " 0.0    22.0  -0.0659  -0.1695  0.0377 False \n",
      " 0.0    23.0   0.2343   0.1297  0.3389  True \n",
      " 1.0    2.0    0.3285   0.1976  0.4593  True \n",
      " 1.0    3.0    0.6613   0.5185  0.804   True \n",
      " 1.0    4.0    1.2334   1.0833  1.3835  True \n",
      " 1.0    5.0    3.2954   3.1181  3.4727  True \n",
      " 1.0    6.0    2.7892   2.6197  2.9588  True \n",
      " 1.0    7.0   -0.4685  -0.6069 -0.3301  True \n",
      " 1.0    8.0    -2.343  -2.4657 -2.2203  True \n",
      " 1.0    9.0   -2.2986  -2.4176 -2.1797  True \n",
      " 1.0    10.0  -2.1977  -2.3183 -2.0771  True \n",
      " 1.0    11.0  -2.5028   -2.625 -2.3806  True \n",
      " 1.0    12.0  -2.6164  -2.7376 -2.4951  True \n",
      " 1.0    13.0  -2.6602  -2.7818 -2.5385  True \n",
      " 1.0    14.0  -3.0586  -3.1772  -2.94   True \n",
      " 1.0    15.0   -3.504  -3.6194 -3.3885  True \n",
      " 1.0    16.0  -3.7861  -3.8994 -3.6728  True \n",
      " 1.0    17.0  -3.8652  -3.9762 -3.7541  True \n",
      " 1.0    18.0  -3.4671  -3.5755 -3.3588  True \n",
      " 1.0    19.0  -2.8558  -2.9643 -2.7474  True \n",
      " 1.0    20.0   -2.256  -2.3651 -2.1469  True \n",
      " 1.0    21.0  -1.3538  -1.4646 -1.2431  True \n",
      " 1.0    22.0  -0.7559  -0.8672 -0.6447  True \n",
      " 1.0    23.0  -0.4557  -0.5679 -0.3435  True \n",
      " 2.0    3.0    0.3328   0.1822  0.4834  True \n",
      " 2.0    4.0    0.9049   0.7474  1.0625  True \n",
      " 2.0    5.0    2.9669   2.7833  3.1506  True \n",
      " 2.0    6.0    2.4608   2.2846  2.6369  True \n",
      " 2.0    7.0    -0.797  -0.9434 -0.6505  True \n",
      " 2.0    8.0   -2.6715  -2.8032 -2.5398  True \n",
      " 2.0    9.0   -2.6271  -2.7553 -2.4989  True \n",
      " 2.0    10.0  -2.5261  -2.6559 -2.3964  True \n",
      " 2.0    11.0  -2.8313  -2.9625   -2.7   True \n",
      " 2.0    12.0  -2.9448  -3.0752 -2.8145  True \n",
      " 2.0    13.0  -2.9886  -3.1194 -2.8579  True \n",
      " 2.0    14.0  -3.3871   -3.515 -3.2592  True \n",
      " 2.0    15.0  -3.8325  -3.9574 -3.7075  True \n",
      " 2.0    16.0  -4.1146  -4.2375 -3.9916  True \n",
      " 2.0    17.0  -4.1936  -4.3146 -4.0727  True \n",
      " 2.0    18.0  -3.7956   -3.914 -3.6772  True \n",
      " 2.0    19.0  -3.1843  -3.3029 -3.0658  True \n",
      " 2.0    20.0  -2.5845  -2.7036 -2.4654  True \n",
      " 2.0    21.0  -1.6823   -1.803 -1.5616  True \n",
      " 2.0    22.0  -1.0844  -1.2056 -0.9633  True \n",
      " 2.0    23.0  -0.7842  -0.9061 -0.6622  True \n",
      " 3.0    4.0    0.5722   0.4046  0.7398  True \n",
      " 3.0    5.0    2.6341   2.4418  2.8265  True \n",
      " 3.0    6.0    2.128    1.9428  2.3132  True \n",
      " 3.0    7.0   -1.1297   -1.287 -0.9725  True \n",
      " 3.0    8.0   -3.0043  -3.1479 -2.8607  True \n",
      " 3.0    9.0   -2.9599  -3.1003 -2.8195  True \n",
      " 3.0    10.0  -2.8589  -3.0007 -2.7171  True \n",
      " 3.0    11.0   -3.164  -3.3072 -3.0209  True \n",
      " 3.0    12.0  -3.2776   -3.42  -3.1353  True \n",
      " 3.0    13.0  -3.3214  -3.4641 -3.1787  True \n",
      " 3.0    14.0  -3.7199   -3.86  -3.5798  True \n",
      " 3.0    15.0  -4.1652  -4.3027 -4.0278  True \n",
      " 3.0    16.0  -4.4473   -4.583 -4.3117  True \n",
      " 3.0    17.0  -4.5264  -4.6602 -4.3926  True \n",
      " 3.0    18.0  -4.1284  -4.2599 -3.9969  True \n",
      " 3.0    19.0  -3.5171  -3.6487 -3.3855  True \n",
      " 3.0    20.0  -2.9173  -3.0494 -2.7851  True \n",
      " 3.0    21.0  -2.0151  -2.1486 -1.8815  True \n",
      " 3.0    22.0  -1.4172  -1.5512 -1.2832  True \n",
      " 3.0    23.0   -1.117  -1.2517 -0.9822  True \n",
      " 4.0    5.0    2.062    1.8642  2.2598  True \n",
      " 4.0    6.0    1.5558   1.3649  1.7467  True \n",
      " 4.0    7.0   -1.7019  -1.8658  -1.538  True \n",
      " 4.0    8.0   -3.5764  -3.7273 -3.4256  True \n",
      " 4.0    9.0   -3.5321  -3.6799 -3.3842  True \n",
      " 4.0    10.0  -3.4311  -3.5802 -3.2819  True \n",
      " 4.0    11.0  -3.7362  -3.8867 -3.5857  True \n",
      " 4.0    12.0  -3.8498  -3.9995 -3.7001  True \n",
      " 4.0    13.0  -3.8936  -4.0436 -3.7435  True \n",
      " 4.0    14.0   -4.292  -4.4396 -4.1445  True \n",
      " 4.0    15.0  -4.7374  -4.8824 -4.5924  True \n",
      " 4.0    16.0  -5.0195  -5.1628 -4.8762  True \n",
      " 4.0    17.0  -5.0986  -5.2401  -4.957  True \n",
      " 4.0    18.0  -4.7006   -4.84  -4.5611  True \n",
      " 4.0    19.0  -4.0893  -4.2288 -3.9498  True \n",
      " 4.0    20.0  -3.4894  -3.6294 -3.3494  True \n",
      " 4.0    21.0  -2.5873  -2.7286 -2.4459  True \n",
      " 4.0    22.0  -1.9894  -2.1311 -1.8476  True \n",
      " 4.0    23.0  -1.6891  -1.8316 -1.5467  True \n",
      " 5.0    6.0   -0.5062  -0.7191 -0.2932  True \n",
      " 5.0    7.0   -3.7639   -3.953 -3.5748  True \n",
      " 5.0    8.0   -5.6384  -5.8164 -5.4605  True \n",
      " 5.0    9.0    -5.594  -5.7694 -5.4187  True \n",
      " 5.0    10.0  -5.4931  -5.6696 -5.3166  True \n",
      " 5.0    11.0  -5.7982  -5.9758 -5.6206  True \n",
      " 5.0    12.0  -5.9118  -6.0887 -5.7348  True \n",
      " 5.0    13.0  -5.9556  -6.1328 -5.7783  True \n",
      " 5.0    14.0   -6.354  -6.5291 -6.1789  True \n",
      " 5.0    15.0  -6.7994  -6.9724 -6.6264  True \n",
      " 5.0    16.0  -7.0815  -7.2531 -6.9099  True \n",
      " 5.0    17.0  -7.1606  -7.3307 -6.9904  True \n",
      " 5.0    18.0  -6.7625  -6.9309 -6.5942  True \n",
      " 5.0    19.0  -6.1512  -6.3197 -5.9828  True \n",
      " 5.0    20.0  -5.5514  -5.7202 -5.3826  True \n",
      " 5.0    21.0  -4.6492  -4.8192 -4.4793  True \n",
      " 5.0    22.0  -4.0513  -4.2216 -3.8811  True \n",
      " 5.0    23.0  -3.7511   -3.922 -3.5803  True \n",
      " 6.0    7.0   -3.2577  -3.4396 -3.0759  True \n",
      " 6.0    8.0   -5.1322  -5.3025  -4.962  True \n",
      " 6.0    9.0   -5.0879  -5.2554 -4.9204  True \n",
      " 6.0    10.0  -4.9869  -5.1556 -4.8182  True \n",
      " 6.0    11.0   -5.292  -5.4619 -5.1222  True \n",
      " 6.0    12.0  -5.4056  -5.5748 -5.2364  True \n",
      " 6.0    13.0  -5.4494  -5.6189 -5.2799  True \n",
      " 6.0    14.0  -5.8478  -6.0151 -5.6806  True \n",
      " 6.0    15.0  -6.2932  -6.4583 -6.1282  True \n",
      " 6.0    16.0  -6.5753  -6.7389 -6.4118  True \n",
      " 6.0    17.0  -6.6544  -6.8164 -6.4924  True \n",
      " 6.0    18.0  -6.2564  -6.4165 -6.0962  True \n",
      " 6.0    19.0  -5.6451  -5.8053 -5.4848  True \n",
      " 6.0    20.0  -5.0452  -5.2059 -4.8846  True \n",
      " 6.0    21.0  -4.1431  -4.3049 -3.9813  True \n",
      " 6.0    22.0  -3.5452  -3.7073  -3.383  True \n",
      " 6.0    23.0  -3.2449  -3.4077 -3.0822  True \n",
      " 7.0    8.0   -1.8745  -2.0138 -1.7353  True \n",
      " 7.0    9.0   -1.8302  -1.9661 -1.6942  True \n",
      " 7.0    10.0  -1.7292  -1.8666 -1.5918  True \n",
      " 7.0    11.0  -2.0343  -2.1731 -1.8955  True \n",
      " 7.0    12.0  -2.1479  -2.2859 -2.0099  True \n",
      " 7.0    13.0  -2.1917   -2.33  -2.0533  True \n",
      " 7.0    14.0  -2.5901  -2.7258 -2.4545  True \n",
      " 7.0    15.0  -3.0355  -3.1684 -2.9026  True \n",
      " 7.0    16.0  -3.3176  -3.4486 -3.1866  True \n",
      " 7.0    17.0  -3.3967  -3.5258 -3.2676  True \n",
      " 7.0    18.0  -2.9986  -3.1254 -2.8719  True \n",
      " 7.0    19.0  -2.3874  -2.5142 -2.2605  True \n",
      " 7.0    20.0  -1.7875  -1.9149 -1.6601  True \n",
      " 7.0    21.0  -0.8854  -1.0142 -0.7565  True \n",
      " 7.0    22.0  -0.2875  -0.4168 -0.1582  True \n",
      " 7.0    23.0   0.0128  -0.1173  0.1428 False \n",
      " 8.0    9.0    0.0444  -0.0755  0.1643 False \n",
      " 8.0    10.0   0.1454   0.0238  0.2669  True \n",
      " 8.0    11.0  -0.1598   -0.283 -0.0366  True \n",
      " 8.0    12.0  -0.2734  -0.3956 -0.1511  True \n",
      " 8.0    13.0  -0.3171  -0.4398 -0.1945  True \n",
      " 8.0    14.0  -0.7156  -0.8352  -0.596  True \n",
      " 8.0    15.0   -1.161  -1.2774 -1.0445  True \n",
      " 8.0    16.0  -1.4431  -1.5574 -1.3288  True \n",
      " 8.0    17.0  -1.5221  -1.6343  -1.41   True \n",
      " 8.0    18.0  -1.1241  -1.2335 -1.0147  True \n",
      " 8.0    19.0  -0.5128  -0.6223 -0.4033  True \n",
      " 8.0    20.0   0.087   -0.0231  0.1971 False \n",
      " 8.0    21.0   0.9892   0.8773  1.101   True \n",
      " 8.0    22.0   1.5871   1.4747  1.6994  True \n",
      " 8.0    23.0   1.8873   1.7741  2.0005  True \n",
      " 9.0    10.0   0.101   -0.0168  0.2187 False \n",
      " 9.0    11.0  -0.2042  -0.3236 -0.0847  True \n",
      " 9.0    12.0  -0.3177  -0.4362 -0.1993  True \n",
      " 9.0    13.0  -0.3615  -0.4804 -0.2426  True \n",
      " 9.0    14.0   -0.76   -0.8757 -0.6443  True \n",
      " 9.0    15.0  -1.2053  -1.3178 -1.0929  True \n",
      " 9.0    16.0  -1.4875  -1.5977 -1.3772  True \n",
      " 9.0    17.0  -1.5665  -1.6745 -1.4586  True \n",
      " 9.0    18.0  -1.1685  -1.2736 -1.0633  True \n",
      " 9.0    19.0  -0.5572  -0.6625 -0.4519  True \n",
      " 9.0    20.0   0.0426  -0.0633  0.1485 False \n",
      " 9.0    21.0   0.9448   0.8371  1.0525  True \n",
      " 9.0    22.0   1.5427   1.4345  1.6509  True \n",
      " 9.0    23.0   1.8429   1.7338  1.952   True \n",
      " 10.0   11.0  -0.3051  -0.4262 -0.1841  True \n",
      " 10.0   12.0  -0.4187  -0.5388 -0.2986  True \n",
      " 10.0   13.0  -0.4625   -0.583  -0.342  True \n",
      " 10.0   14.0   -0.861  -0.9783 -0.7436  True \n",
      " 10.0   15.0  -1.3063  -1.4205 -1.1921  True \n",
      " 10.0   16.0  -1.5884  -1.7005 -1.4764  True \n",
      " 10.0   17.0  -1.6675  -1.7773 -1.5577  True \n",
      " 10.0   18.0  -1.2695  -1.3765 -1.1625  True \n",
      " 10.0   19.0  -0.6582  -0.7653  -0.551  True \n",
      " 10.0   20.0  -0.0583  -0.1661  0.0494 False \n",
      " 10.0   21.0   0.8438   0.7343  0.9533  True \n",
      " 10.0   22.0   1.4417   1.3317  1.5517  True \n",
      " 10.0   23.0   1.742    1.631   1.8529  True \n",
      " 11.0   12.0  -0.1136  -0.2353  0.0082 False \n",
      " 11.0   13.0  -0.1574  -0.2795 -0.0352  True \n",
      " 11.0   14.0  -0.5558  -0.6749 -0.4368  True \n",
      " 11.0   15.0  -1.0012  -1.1171 -0.8853  True \n",
      " 11.0   16.0  -1.2833  -1.3971 -1.1695  True \n",
      " 11.0   17.0  -1.3624  -1.4739 -1.2508  True \n",
      " 11.0   18.0  -0.9643  -1.0732 -0.8555  True \n",
      " 11.0   19.0  -0.3531   -0.462 -0.2441  True \n",
      " 11.0   20.0   0.2468   0.1372  0.3564  True \n",
      " 11.0   21.0   1.1489   1.0376  1.2602  True \n",
      " 11.0   22.0   1.7468   1.6351  1.8586  True \n",
      " 11.0   23.0   2.0471   1.9344  2.1598  True \n",
      " 12.0   13.0  -0.0438   -0.165  0.0774 False \n",
      " 12.0   14.0  -0.4422  -0.5603 -0.3242  True \n",
      " 12.0   15.0  -0.8876  -1.0025 -0.7727  True \n",
      " 12.0   16.0  -1.1697  -1.2825  -1.057  True \n",
      " 12.0   17.0  -1.2488  -1.3593 -1.1383  True \n",
      " 12.0   18.0  -0.8508  -0.9585  -0.743  True \n",
      " 12.0   19.0  -0.2395  -0.3474 -0.1316  True \n",
      " 12.0   20.0   0.3604   0.2518  0.4689  True \n",
      " 12.0   21.0   1.2625   1.1523  1.3728  True \n",
      " 12.0   22.0   1.8604   1.7497  1.9712  True \n",
      " 12.0   23.0   2.1607   2.049   2.2723  True \n",
      " 13.0   14.0  -0.3985   -0.517 -0.2799  True \n",
      " 13.0   15.0  -0.8438  -0.9592 -0.7285  True \n",
      " 13.0   16.0  -1.1259  -1.2391 -1.0127  True \n",
      " 13.0   17.0   -1.205   -1.316  -1.094  True \n",
      " 13.0   18.0   -0.807  -0.9152 -0.6987  True \n",
      " 13.0   19.0  -0.1957  -0.3041 -0.0873  True \n",
      " 13.0   20.0   0.4041   0.2952  0.5131  True \n",
      " 13.0   21.0   1.3063   1.1956  1.417   True \n",
      " 13.0   22.0   1.9042   1.793   2.0154  True \n",
      " 13.0   23.0   2.2044   2.0923  2.3166  True \n",
      " 14.0   15.0  -0.4454  -0.5574 -0.3333  True \n",
      " 14.0   16.0  -0.7275  -0.8373 -0.6176  True \n",
      " 14.0   17.0  -0.8065  -0.9141  -0.699  True \n",
      " 14.0   18.0  -0.4085  -0.5133 -0.3038  True \n",
      " 14.0   19.0   0.2028   0.0979  0.3076  True \n",
      " 14.0   20.0   0.8026   0.6971  0.9081  True \n",
      " 14.0   21.0   1.7048   1.5975  1.8121  True \n",
      " 14.0   22.0   2.3027   2.1949  2.4105  True \n",
      " 14.0   23.0   2.6029   2.4942  2.7116  True \n",
      " 15.0   16.0  -0.2821  -0.3886 -0.1757  True \n",
      " 15.0   17.0  -0.3612  -0.4653 -0.2571  True \n",
      " 15.0   18.0   0.0368  -0.0643  0.138  False \n",
      " 15.0   19.0   0.6481   0.5468  0.7494  True \n",
      " 15.0   20.0   1.248    1.146   1.3499  True \n",
      " 15.0   21.0   2.1501   2.0463  2.2539  True \n",
      " 15.0   22.0   2.748    2.6437  2.8524  True \n",
      " 15.0   23.0   3.0483   2.943   3.1535  True \n",
      " 16.0   17.0  -0.0791  -0.1808  0.0226 False \n",
      " 16.0   18.0   0.319    0.2203  0.4176  True \n",
      " 16.0   19.0   0.9302   0.8314  1.0291  True \n",
      " 16.0   20.0   1.5301   1.4306  1.6296  True \n",
      " 16.0   21.0   2.4322   2.3309  2.5336  True \n",
      " 16.0   22.0   3.0302   2.9282  3.1321  True \n",
      " 16.0   23.0   3.3304   3.2275  3.4333  True \n",
      " 17.0   18.0   0.398    0.3019  0.4942  True \n",
      " 17.0   19.0   1.0093   0.913   1.1056  True \n",
      " 17.0   20.0   1.6091   1.5122  1.7061  True \n",
      " 17.0   21.0   2.5113   2.4124  2.6102  True \n",
      " 17.0   22.0   3.1092   3.0098  3.2087  True \n",
      " 17.0   23.0   3.4095   3.309   3.5099  True \n",
      " 18.0   19.0   0.6113   0.5182  0.7044  True \n",
      " 18.0   20.0   1.2111   1.1173  1.3049  True \n",
      " 18.0   21.0   2.1133   2.0175  2.2091  True \n",
      " 18.0   22.0   2.7112   2.6148  2.8076  True \n",
      " 18.0   23.0   3.0114   2.914   3.1088  True \n",
      " 19.0   20.0   0.5998   0.5059  0.6938  True \n",
      " 19.0   21.0   1.502    1.406   1.598   True \n",
      " 19.0   22.0   2.0999   2.0034  2.1964  True \n",
      " 19.0   23.0   2.4001   2.3026  2.4977  True \n",
      " 20.0   21.0   0.9022   0.8055  0.9988  True \n",
      " 20.0   22.0   1.5001   1.4028  1.5973  True \n",
      " 20.0   23.0   1.8003   1.702   1.8986  True \n",
      " 21.0   22.0   0.5979   0.4988  0.697   True \n",
      " 21.0   23.0   0.8981   0.798   0.9983  True \n",
      " 22.0   23.0   0.3002   0.1995  0.4009  True \n",
      "---------------------------------------------\n"
     ]
    }
   ],
   "source": [
    "tukeyhsd2 = pairwise_tukeyhsd(q5_data_cleaned[\"Avg_speed\"], q5_data_cleaned[\"Dropoff_hour\"])\n",
    "print(tukeyhsd2)"
   ]
  },
  {
   "cell_type": "markdown",
   "metadata": {},
   "source": [
    "It can be seen that <font color=red>**most pairs of hours are significantly different (p < 0.05) in the average speed except the following pairs**</font>:\n",
    "- 0 and 22\n",
    "- 7 and 23 \n",
    "- 8 and 9 \n",
    "- 8 and 20 \n",
    "- 9 and 10 \n",
    "- 9 and 20 \n",
    "- 10 and 20 \n",
    "- 11 and 12 \n",
    "- 12 and 13 \n",
    "- 15 and 18\n",
    "- 16 and 17"
   ]
  },
  {
   "cell_type": "markdown",
   "metadata": {},
   "source": [
    "A major reason for the difference in hours is that some of the hours are rush hours. "
   ]
  },
  {
   "cell_type": "markdown",
   "metadata": {},
   "source": [
    "<h1><center>Conclusion</center></h1>"
   ]
  },
  {
   "cell_type": "markdown",
   "metadata": {},
   "source": [
    "In this project, <font color=red>**data visualization, machine learning, and statistical inference**</font> were used to analyze the NYC Green Taxi data in September 2015. There are several<font color=red>** major findings**</font>.\n",
    "- The trip distance follows a lognormal distribution.\n",
    "- The mean trip distance is longer than the median trip distance when grouped by hour because the data is right-skewed.\n",
    "- People like to take taxi to work or school in the morning. When they get back from work or school, they will choose a different method to go back home. \n",
    "- The trips have a weekly and hourly pattern. Saturday has the largest trip volume. On each day, 8-9 am and 6-7 pm have more trips.\n",
    "- There are more dropoffs than pickups in the 3 airports. The average trip distance and fare of dropoffs are higher than pickups.\n",
    "- The LGA airport has the largest number of pickups and dropoffs even though it is the smallest airport among the 3. One reason is that the average trip distance is the shortest in the 3 airports and the taxi fare is the cheapest. \n",
    "- The XGBoost regression model achieved rmses of 7.17 on the training data and 7.2 on the test set. It can generalize well to unknown data. \n",
    "- The average speed, trip distance, hour of day, day of month, day of week are important predictors for the tip as a percent of the total fare. \n",
    "- The average speeds are statitically significantly different in all 5 weeks of September except the pair of week 2 and week 3. The differences can be because of local events, weather, or rush hours. \n",
    "- The average speeds are statitically significantly different in the 24 hours of a day. The differences can be because of the rush hours. \n",
    "\n",
    "Please be aware that several <font color=red>**assumptions or approximations**</font> were made in the analysis.\n",
    "- The data contains outliers (extreme values, errors). In the analysis, they were removed based on common sense. \n",
    "- The tips paid by cash were not captured in the data. Therefore, only trips paid by credit cards were used to analyze the tip percentage. \n",
    "- The dropoff time was used to extract the time elements of a trip, such as hour, day of week. \n",
    "- When identifying the dropoffs/pickups at the airports, the 3 airports were assumed to have a circle shape. \n",
    "- All statistical tests assume a 95% confidence level. \n",
    "\n",
    "If I have time, I want to make 2 <font color=red>**future improvements**</font> to the analysis.\n",
    "- Use the real shape of the airports instead of assuming it's circle: This can be done by taking the vertices of the airports and construct polygons using shapely. \n",
    "- Make better use of the latitude and longitude data: In this project, they were only used to determine the direction of the trip. It's possible to use the location to enrich the features by linking it to Census Bureau data to get aggregated socioeconomic and demographics information of the pickup/dropoff area. It's possible to link the data to the historical weather data by location and time. It's also possible to link the data to local events (games, concerts, memorial events, etc) by location and time. "
   ]
  },
  {
   "cell_type": "code",
   "execution_count": null,
   "metadata": {
    "collapsed": true
   },
   "outputs": [],
   "source": []
  }
 ],
 "metadata": {
  "kernelspec": {
   "display_name": "Python 3",
   "language": "python",
   "name": "python3"
  },
  "language_info": {
   "codemirror_mode": {
    "name": "ipython",
    "version": 3
   },
   "file_extension": ".py",
   "mimetype": "text/x-python",
   "name": "python",
   "nbconvert_exporter": "python",
   "pygments_lexer": "ipython3",
   "version": "3.5.2"
  }
 },
 "nbformat": 4,
 "nbformat_minor": 2
}
